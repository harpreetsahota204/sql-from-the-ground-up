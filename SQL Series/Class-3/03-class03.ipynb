{
 "cells": [
  {
   "cell_type": "markdown",
   "metadata": {},
   "source": [
    "# Aggregration and grouping\n",
    "\n",
    "\n",
    "In this part, you'll learn how to compute statistics, group rows, and filter such groups. Such operations are extremely important for preparing reports and always come in handy in big tables.\n",
    "\n",
    "\n",
    "We're going to be using `DB Fiddle` for this course. \n",
    "\n",
    "Navigate to: https://www.db-fiddle.com/\n",
    "\n",
    "In the top right corner of the webpage, be sure to select `Database: PostgreSQL 13`\n",
    "\n",
    "Now, in the `Schema SQL` pane on the left copy and paste the following:\n",
    "\n",
    "```\n",
    "CREATE TABLE IF NOT EXISTS \"employees\" (\n",
    "    \"department\" TEXT,\n",
    "    \"first_name\" TEXT,\n",
    "    \"last_name\" TEXT,\n",
    "    \"year\" INT,\n",
    "    \"salary\" INT,\n",
    "    \"position\" TEXT\n",
    ");\n",
    "INSERT INTO \"employees\" VALUES\n",
    "    ('IT','Olivia','Pearson',2011,3000,'Trainee'),\n",
    "    ('IT','Olivia','Pearson',2012,3000,'Trainee'),\n",
    "    ('IT','Olivia','Pearson',2012,4200,'Junior Developer'),\n",
    "    ('IT','Olivia','Pearson',2013,4900,'Junior Developer'),\n",
    "    ('IT','Olivia','Pearson',2014,8100,'Senior Developer'),\n",
    "    ('Management','Jack','Johnson',2011,4300,'Junior Project Manager'),\n",
    "    ('Management','Jack','Johnson',2012,5100,'Project Manager'),\n",
    "    ('Management','Jack','Johnson',2013,7200,'Senior Project Manager'),\n",
    "    ('Management','Jack','Johnson',2014,7600,'Senior Project Manager'),\n",
    "    ('Management','Jack','Johnson',2015,9500,'Head of Department'),\n",
    "    ('IT','Harry','Taylor',2015,2700,'Trainee'),\n",
    "    ('Human Resources','Lily','Bennett',2013,1900,'Junior HR Specialist'),\n",
    "    ('Human Resources','Lily','Bennett',2014,2300,'HR Specialist'),\n",
    "    ('Human Resources','Lily','Bennett',2015,3650,'Senior HR Specialist'),\n",
    "    ('Accounting','Charlie','Johnson',2010,2000,'Junior Accountant'),\n",
    "    ('Accounting','Charlie','Johnson',2011,2000,'Junior Accountant'),\n",
    "    ('Accounting','Charlie','Johnson',2012,2500,'Accountant'),\n",
    "    ('Accounting','Charlie','Johnson',2013,3200,'Accountant'),\n",
    "    ('Accounting','Charlie','Johnson',2014,3700,'Senior Accountant'),\n",
    "    ('Accounting','Charlie','Johnson',2015,4200,'Senior Accountant');\n",
    "```\n",
    "\n",
    "\n",
    "By now, you're already pretty skilled when it comes to filtering rows – but have you wondered how they are sorted in the result of an SQL query? \n",
    "\n",
    "Well, the answer is simple – by default, they are not sorted at all. \n",
    "\n",
    "The sequence in which rows appear is arbitrary and every database can behave differently. \n",
    "\n",
    "You can even perform the same SQL instruction a few times and get a different order each time – unless you ask the database to sort the rows, of course.\n",
    "\n",
    "```\n",
    "SELECT *\n",
    "FROM orders\n",
    "ORDER BY customer_id;\n",
    "```\n",
    "\n",
    "\n",
    "In the above example, we've added a new piece: `ORDER BY`. After this expression, you can simply specify a column on which the data will be sorted.\n",
    "\n",
    "In this case, we want to sort by the customers' IDs, so we put `customer_id` in the ORDER BY clause.\n",
    "\n",
    "\n",
    "## Exercise\n",
    "\n",
    "Try it yourself. Select all columns from the employees table, and sort the result by the salary.\n",
    "\n",
    "#### Show me the answer"
   ]
  },
  {
   "cell_type": "markdown",
   "metadata": {
    "jupyter": {
     "source_hidden": true
    }
   },
   "source": [
    "```\n",
    "SELECT *\n",
    "FROM employees\n",
    "ORDER BY salary;\n",
    "```"
   ]
  },
  {
   "cell_type": "markdown",
   "metadata": {},
   "source": [
    "# ORDER BY with conditions\n",
    "\n",
    "Excellent! Now you can easily examine who's got the lowest and the highest salary. It's not that hard, as you can see.\n",
    "\n",
    "We can filter rows and sort them at the same time. Just have a look:\n",
    "\n",
    "```\n",
    "SELECT *\n",
    "FROM orders\n",
    "WHERE customer_id = 100\n",
    "ORDER BY total_sum;\n",
    "```\n",
    "\n",
    "The `WHERE` clause and `ORDER BY` work well together.\n",
    "\n",
    "In this case, we'll only see the orders made by the customer with id 100. The orders will be sorted on the total sum – the cheapest order will appear as the first result and the most expensive as the last one.\n",
    "\n",
    "## Exercise\n",
    "\n",
    "Select only the rows related to 2011 from the employees table. Sort the result by the salary.\n",
    "\n",
    "#### Show me the answer"
   ]
  },
  {
   "cell_type": "markdown",
   "metadata": {
    "jupyter": {
     "source_hidden": true
    }
   },
   "source": [
    "```\n",
    "SELECT * FROM employees\n",
    "WHERE year = 2011\n",
    "ORDER BY salary;\n",
    "```\n"
   ]
  },
  {
   "cell_type": "markdown",
   "metadata": {},
   "source": [
    "# Ascending and descending orders\n",
    "\n",
    "As you can see, the lowest salary was shown first and the highest salary last. This ascending order of results is performed in SQL by default. \n",
    "\n",
    "If you want to be precise and make things clear, however, you can use the keyword `ASC` (short for the ascending order) after the column name:\n",
    "\n",
    "```\n",
    "SELECT *\n",
    "FROM orders\n",
    "ORDER BY total_sum ASC;\n",
    "```\n",
    "\n",
    "Adding the keyword `ASC` will change nothing, but it will show your intention in a very clear way.\n",
    "\n",
    "We can also reverse the order and make the greatest values appear first.\n",
    "\n",
    "```\n",
    "SELECT *\n",
    "FROM orders\n",
    "ORDER BY total_sum DESC;\n",
    "```\n",
    "\n",
    "As you can see, we've added the word `DESC` after the column name, which is short for the descending order. As a result, the highest values in the column total_sum will be shown first.\n",
    "\n",
    "### Exercise\n",
    "\n",
    "Select all rows from the employees table and sort them in the descending order by the column last_name.\n",
    "\n",
    "#### Show me the answer"
   ]
  },
  {
   "cell_type": "markdown",
   "metadata": {
    "jupyter": {
     "source_hidden": true
    }
   },
   "source": [
    "```\n",
    "SELECT *\n",
    "FROM employees\n",
    "ORDER BY last_name DESC;\n",
    "```"
   ]
  },
  {
   "cell_type": "markdown",
   "metadata": {},
   "source": [
    "# Sort by a few columns\n",
    "\n",
    "One more thing before we move on: you can sort your results by more than one column and each of them can be sorted in a different order:\n",
    "\n",
    "```\n",
    "SELECT *\n",
    "FROM order\n",
    "ORDER BY customer_id ASC, total_sum DESC;\n",
    "```\n",
    "\n",
    "As you can see, the results will first be sorted by customer_id in the ascending order (lowest values first) and then, for each customer_id, the orders will be sorted by the total_sum in the descending order (greatest values first).\n",
    "\n",
    "### Exercise\n",
    "\n",
    "Select all rows from the employees table and sort them in the ascending order by the department and then in the descending order by the salary.\n",
    "\n",
    "#### Show me the answer"
   ]
  },
  {
   "cell_type": "markdown",
   "metadata": {
    "jupyter": {
     "source_hidden": true
    }
   },
   "source": [
    "```\n",
    "SELECT *\n",
    "FROM employees\n",
    "ORDER BY\n",
    "  department ASC,\n",
    "  salary DESC;\n",
    "```"
   ]
  },
  {
   "cell_type": "markdown",
   "metadata": {},
   "source": [
    "# Limiting the output\n",
    "\n",
    "We'll show you another feature of PostgreSQL. \n",
    "\n",
    "By default, PostgreSQL returns every row that matches the given criteria. This is what we normally expect, of course, but there are cases when we might want to change this behavior.\n",
    "\n",
    "The more rows the database has to retrieve, the more time it takes. This isn't good, especially when we don't have to look at all the results but only need a small glimpse at the data. \n",
    "\n",
    "Take a look:\n",
    "\n",
    "```\n",
    "SELECT *\n",
    "FROM orders\n",
    "LIMIT 10;\n",
    "```\n",
    "\n",
    "`LIMIT n` returns the first n rows from the result. This is much more efficient than returning all the data from the database.\n",
    "\n",
    "You can see something similar in our sandbox environment here. Every time you run a query, it returns the first 20 rows. This way, you get the response faster.\n",
    "\n",
    "### Exercise\n",
    "\n",
    "Select the top five rows of `salary` and `position` from the employees table. Use the template provided.\n",
    "\n",
    "Try running the template before solving the exercise in order to see the difference for yourself.\n",
    "\n",
    "#### Show me the answer"
   ]
  },
  {
   "cell_type": "markdown",
   "metadata": {
    "jupyter": {
     "source_hidden": true
    }
   },
   "source": [
    "```\n",
    "SELECT salary, position\n",
    "FROM employees\n",
    "LIMIT 5;\n",
    "```"
   ]
  },
  {
   "cell_type": "markdown",
   "metadata": {},
   "source": [
    "## Exercise\n",
    "\n",
    "This time, show the top ten highest salaries from the employees table. Select the position column as well. Modify the answer from the previous exercise.\n"
   ]
  },
  {
   "cell_type": "markdown",
   "metadata": {
    "jupyter": {
     "source_hidden": true
    }
   },
   "source": [
    "```\n",
    "SELECT\n",
    "  salary,\n",
    "  position\n",
    "FROM employees\n",
    "ORDER BY salary DESC\n",
    "LIMIT 10;\n",
    "```"
   ]
  },
  {
   "cell_type": "markdown",
   "metadata": {},
   "source": [
    "# Duplicate results\n",
    "\n",
    "\n",
    "We'll now focus on another aspect. By default, the database returns every row which matches the given criteria. This is what we normally expect, of course, but there are cases when we might want to change this behavior.\n",
    "\n",
    "Imagine the following situation: we want to get the IDs of all customers who have ever placed an order. We might use the following code:\n",
    "\n",
    "```\n",
    "SELECT customer_id\n",
    "FROM orders;\n",
    "```\n",
    "\n",
    "What's wrong with the code in this case? Well, try to do the exercise to find out.\n",
    "\n",
    "### Exercise\n",
    "\n",
    "Select the column year for all rows in the employees table. Then examine the result carefully."
   ]
  },
  {
   "cell_type": "markdown",
   "metadata": {
    "jupyter": {
     "source_hidden": true
    }
   },
   "source": [
    "```\n",
    "SELECT year\n",
    "FROM employees;\n",
    "```"
   ]
  },
  {
   "cell_type": "markdown",
   "metadata": {},
   "source": [
    "# Select distinctive values\n",
    "\n",
    "Could you see the problem? There were many rows with the same year, so each year is shown many times in the results.\n",
    "\n",
    "In our orders example, if there were many orders placed by the same customer, each customer ID would be shown many times in the results. Not good.\n",
    "\n",
    "Fortunately, we can easily change this.\n",
    "\n",
    "```\n",
    "SELECT DISTINCT customer_id\n",
    "FROM orders;\n",
    "```\n",
    "\n",
    "Before the column name, we've added the word `DISTINCT`. Now the database will remove duplicates and only show distinct values. Each customer_id will appear only once.\n",
    "\n",
    "### Exercise\n",
    "\n",
    "Select the column year from the employees table in such a way that each year is only shown once."
   ]
  },
  {
   "cell_type": "markdown",
   "metadata": {
    "jupyter": {
     "source_hidden": true
    }
   },
   "source": [
    "```\n",
    "SELECT DISTINCT year\n",
    "FROM employees;\n",
    "```"
   ]
  },
  {
   "cell_type": "markdown",
   "metadata": {},
   "source": [
    "# Select distinctive values in certain columns\n",
    "\n",
    "You can also use `DISTINCT` on a group of columns. Take a look:\n",
    "\n",
    "```\n",
    "SELECT DISTINCT\n",
    "  customer_id,\n",
    "  order_date\n",
    "FROM orders;\n",
    "```\n",
    "\n",
    "One customer may place many orders every day, but if we just want to know on what days each customers actually did place at least one order, the above query will check that.\n",
    "\n",
    "### Exercise\n",
    "\n",
    "Check what positions there are in every department. \n",
    "\n",
    "In order to do that, select the columns `department` and `position` from the `employees` table and eliminate duplicates."
   ]
  },
  {
   "cell_type": "markdown",
   "metadata": {},
   "source": [
    "```\n",
    "SELECT DISTINCT department, position\n",
    "FROM employees;\n",
    "```"
   ]
  },
  {
   "cell_type": "markdown",
   "metadata": {},
   "source": [
    "# Count the rows\n",
    "\n",
    "You already know that your database can do computation because we've already added or subtracted values in our SQL instructions. \n",
    "\n",
    "The database can do much more than that. It can compute statistics for multiple rows. \n",
    "\n",
    "This operation is called aggregation.\n",
    "\n",
    "Let's start with something simple:\n",
    "\n",
    "```\n",
    "SELECT COUNT(*)\n",
    "FROM orders;\n",
    "```\n",
    "\n",
    "Instead of the asterisk (`*`) which basically means \"all\", we've put the expression `COUNT(*)`.\n",
    "\n",
    "`COUNT(*)` is a function. \n",
    "\n",
    "A function in SQL always has a name followed by parentheses. \n",
    "\n",
    "In the parentheses, you can put information which the function needs to work. \n",
    "\n",
    "For example, `COUNT()` calculates the number of rows specified in the parentheses.\n",
    "\n",
    "In this case, we've used `COUNT(*)` which basically means \"count all rows\". \n",
    "\n",
    "As a result, we'll just get the number of all rows in the orders table – and not their content.\n",
    "\n",
    "### Exercise\n",
    "\n",
    "Count all rows in the employees table.\n",
    "\n",
    "\n",
    "\n"
   ]
  },
  {
   "cell_type": "markdown",
   "metadata": {
    "jupyter": {
     "source_hidden": true
    }
   },
   "source": [
    "```\n",
    "SELECT COUNT(*)\n",
    "FROM employees;\n",
    "```"
   ]
  },
  {
   "cell_type": "markdown",
   "metadata": {},
   "source": [
    "# Count the rows, ignore the NULLS\n",
    "\n",
    "Naturally, the asterisk `(*)` isn't the only option available in the function `COUNT()`. \n",
    "\n",
    "For example, we may ask the database to count the values in a specific column:\n",
    "\n",
    "```\n",
    "SELECT COUNT(customer_id)\n",
    "FROM orders;\n",
    "```\n",
    "\n",
    "What's the difference between `COUNT(*)` and `COUNT(customer_id)`? \n",
    "\n",
    "Well, the first option counts all rows in the table and the second option counts all rows where the column `customer_id` has a specified value. \n",
    "\n",
    "In other words, if there is a `NULL` in the column customer_id, that row won't be counted.\n",
    "\n",
    "### Exercise\n",
    "\n",
    "Check how many non-`NULL` values in the column `position` there are in the `employees` table. Name the column `non_null_no`.\n"
   ]
  },
  {
   "cell_type": "markdown",
   "metadata": {
    "jupyter": {
     "source_hidden": true
    }
   },
   "source": [
    "```\n",
    "SELECT COUNT(position) AS non_null_no\n",
    "FROM employees;\n",
    "```"
   ]
  },
  {
   "cell_type": "markdown",
   "metadata": {},
   "source": [
    "# Count distinctive values in a column\n",
    "\n",
    "As you probably expect, we can also add the `DISTINCT` keyword in our `COUNT()` function:\n",
    "\n",
    "```\n",
    "SELECT COUNT(DISTINCT customer_id) AS distinct_customers\n",
    "FROM orders;\n",
    "```\n",
    "\n",
    "This time, we count all rows which have a distinctive value in the column `customer_id.` \n",
    "\n",
    "In other words, this instruction tells us how many different customers have placed an order so far. \n",
    "\n",
    "If a customer places 5 orders, the customer will only be counted once.\n",
    "\n",
    "### Exercise\n",
    "\n",
    "Count how many different positions there are in the employees table. \n",
    "\n",
    "Name the column distinct_positions.\n",
    "\n"
   ]
  },
  {
   "cell_type": "markdown",
   "metadata": {
    "jupyter": {
     "source_hidden": true
    }
   },
   "source": [
    "```\n",
    "SELECT COUNT(DISTINCT position) AS distinct_positions\n",
    "FROM employees;\n",
    "```"
   ]
  },
  {
   "cell_type": "markdown",
   "metadata": {},
   "source": [
    "# Find the minimum and maximum value\n",
    "\n",
    "Of course, `COUNT()` is not the only function out there. Let's learn some others!\n",
    "\n",
    "```\n",
    "SELECT MIN(total_sum)\n",
    "FROM orders;\n",
    "```\n",
    "\n",
    "The function `MIN(total_sum)` returns the smallest value of the column `total_sum`. \n",
    "\n",
    "You can also use a similar function, namely `MAX()`. That's right, it returns the biggest value of the specified column. \n",
    "\n",
    "\n",
    "### Exercise\n",
    "\n",
    "Select the highest salary from the employees table."
   ]
  },
  {
   "cell_type": "markdown",
   "metadata": {
    "jupyter": {
     "source_hidden": true
    }
   },
   "source": [
    "```\n",
    "SELECT MAX(salary)\n",
    "FROM employees;\n",
    "```"
   ]
  },
  {
   "cell_type": "markdown",
   "metadata": {},
   "source": [
    "# Find the average value\n",
    "\n",
    "Let's discuss another function:\n",
    "\n",
    "```\n",
    "SELECT AVG(total_sum)\n",
    "FROM orders\n",
    "WHERE customer_id = 100;\n",
    "```\n",
    "The function `AVG()` finds the average value of the specified column.\n",
    "\n",
    "In the above example, we'll get the average order value for the customer with ID of 100.\n",
    "\n",
    "### Exercise\n",
    "\n",
    "Find the average salary in the employees table for the year 2013."
   ]
  },
  {
   "cell_type": "markdown",
   "metadata": {
    "jupyter": {
     "source_hidden": true
    }
   },
   "source": [
    "```\n",
    "SELECT AVG(salary)\n",
    "FROM employees\n",
    "WHERE year = 2013;\n",
    "```"
   ]
  },
  {
   "cell_type": "markdown",
   "metadata": {},
   "source": [
    "# Find the sum\n",
    "\n",
    "That's right. The last function that we'll discuss is `SUM()`.\n",
    "\n",
    "Examine the example:\n",
    "\n",
    "```\n",
    "SELECT SUM(total_sum)\n",
    "FROM orders\n",
    "WHERE customer_id = 100;\n",
    "```\n",
    "\n",
    "The above instruction will find the total sum of all orders placed by the customer with ID of 100.\n",
    "\n",
    "### Exercise\n",
    "\n",
    "Find the sum of all salaries in the Marketing department in 2014. Remember to put the department name in the single quotes!\n"
   ]
  },
  {
   "cell_type": "markdown",
   "metadata": {
    "jupyter": {
     "source_hidden": true
    }
   },
   "source": [
    "```\n",
    "SELECT SUM(salary)\n",
    "FROM employees\n",
    "WHERE year = 2014\n",
    "  AND department = 'Marketing';\n",
    "```"
   ]
  },
  {
   "cell_type": "markdown",
   "metadata": {},
   "source": [
    "# Group the rows and count them\n",
    "\n",
    "We'll now go on to study even more sophisticated statistics. Look at the following statement:\n",
    "\n",
    "```\n",
    "SELECT\n",
    "  customer_id,\n",
    "  COUNT(*)\n",
    "FROM orders\n",
    "GROUP BY customer_id;\n",
    "```\n",
    "\n",
    "The new piece here is `GROUP BY` followed by a column name (`customer_id`). `GROUP BY` will group together all rows having the same value in the specified column.\n",
    "\n",
    "In our example, all orders made by the same customer will be grouped together in one row. The function `COUNT(*)` will then count all rows for the specific clients. \n",
    "\n",
    "As a result, we'll get a table where each `customer_id` will be shown together with the number of orders placed by that customer.\n",
    "\n",
    "### Exercise\n",
    "\n",
    "Find the number of employees in each department in 2013. Show the department name together with the number of employees. Name the second column `employees_no`.\n",
    "\n"
   ]
  },
  {
   "cell_type": "markdown",
   "metadata": {
    "jupyter": {
     "source_hidden": true
    }
   },
   "source": [
    "```\n",
    "SELECT\n",
    "  department,\n",
    "  COUNT(*) AS employees_no\n",
    "FROM employees\n",
    "WHERE year = 2013\n",
    "GROUP BY department;\n",
    "```"
   ]
  },
  {
   "cell_type": "markdown",
   "metadata": {},
   "source": [
    "# Find min and max values in groups\n",
    "\n",
    "Of course, `COUNT(*)` isn't the only option. In fact, `GROUP BY` is used together with many other functions. Take a look:\n",
    "\n",
    "```\n",
    "SELECT\n",
    "  customer_id,\n",
    "  MAX(total_sum)\n",
    "FROM orders\n",
    "GROUP BY customer_id;\n",
    "```\n",
    "\n",
    "We've replaced `COUNT(*)` with MAX(total_sum). C\n",
    "\n",
    "an you guess what happens now?\n",
    "\n",
    "That's right, instead of counting all the orders for specific clients, we'll find the order with the highest value for each customer.\n",
    "\n",
    "### Exercise\n",
    "\n",
    "Show all departments together with their lowest and highest salary in 2014."
   ]
  },
  {
   "cell_type": "markdown",
   "metadata": {
    "jupyter": {
     "source_hidden": true
    }
   },
   "source": [
    "```\n",
    "SELECT\n",
    "  department,\n",
    "  MIN(salary),\n",
    "  MAX(salary)\n",
    "FROM employees\n",
    "WHERE year = 2014\n",
    "GROUP BY department;\n",
    "```"
   ]
  },
  {
   "cell_type": "markdown",
   "metadata": {},
   "source": [
    "# Find the average value in groups\n",
    "\n",
    "Let's study one more example of this kind:\n",
    "\n",
    "```\n",
    "SELECT\n",
    "  customer_id,\n",
    "  AVG(total_sum)\n",
    "FROM orders\n",
    "WHERE order_date >= '2019-01-01'\n",
    "  AND order_date < '2020-01-01'\n",
    "GROUP BY customer_id;\n",
    "```\n",
    "\n",
    "As you can see, we now use the function `AVG(total_sum)` which will count the average order value for each of our customers but only for their orders placed in 2019.\n",
    "\n",
    "### Exercise\n",
    "\n",
    "For each department find the average salary in 2015."
   ]
  },
  {
   "cell_type": "markdown",
   "metadata": {
    "jupyter": {
     "source_hidden": true
    }
   },
   "source": [
    "```\n",
    "SELECT\n",
    "  department,\n",
    "  AVG(salary)\n",
    "FROM employees\n",
    "WHERE year = 2015\n",
    "GROUP BY department;\n",
    "```"
   ]
  },
  {
   "cell_type": "markdown",
   "metadata": {},
   "source": [
    "# Group by a few columns\n",
    "\n",
    "\n",
    "Here's one more thing about `GROUP BY` that we want to discuss. \n",
    "\n",
    "Sometimes we want to group the rows by more than one column. \n",
    "\n",
    "Let's imagine we have a few customers who place tons of orders every day, so we would like to know the daily sum of their orders.\n",
    "\n",
    "```\n",
    "SELECT\n",
    "  customer_id,\n",
    "  order_date,\n",
    "  SUM(total_sum)\n",
    "FROM orders\n",
    "GROUP BY customer_id, order_date;\n",
    "```\n",
    "\n",
    "As you can see, we group by two columns: customer_id and order_date. We select these columns along with the function `SUM(total_sum)`.\n",
    "\n",
    "Remember: in such queries each column in the `SELECT` part must either be used later for grouping or it must be used with one of the functions.\n",
    "\n",
    "### Exercise\n",
    "Find the average salary for each employee. Show the last name, the first name, and the average salary. Group the table by the last name and the first name."
   ]
  },
  {
   "cell_type": "markdown",
   "metadata": {
    "jupyter": {
     "source_hidden": true
    }
   },
   "source": [
    "```\n",
    "SELECT\n",
    "  last_name,\n",
    "  first_name,\n",
    "  AVG(salary)\n",
    "FROM employees\n",
    "GROUP BY last_name, first_name;\n",
    "```"
   ]
  },
  {
   "cell_type": "markdown",
   "metadata": {},
   "source": [
    "# Filter groups\n",
    "\n",
    "We'll have a look at how groups can be filtered. There is a special keyword `HAVING` reserved for this.\n",
    "\n",
    "```\n",
    "SELECT\n",
    "  customer_id,\n",
    "  order_date,\n",
    "  SUM(total_sum)\n",
    "FROM orders\n",
    "GROUP BY customer_id, order_date\n",
    "HAVING SUM(total_sum) > 2000;\n",
    "```\n",
    "\n",
    "The new part here comes at the end. \n",
    "\n",
    "We've used the keyword `HAVING` and then stated the condition to filter the results. \n",
    "\n",
    "In this case, we only want to show those customers who, on individuals days, ordered goods with a total daily value of more than 2,000.\n",
    "\n",
    "By the way, this is probably a good time to point out an important thing: in SQL, the specific fragments must always be put in the right order. You can't, for example, put WHERE before FROM. Similarly, HAVING must always follow GROUP BY, not the other way around. Keep that in mind when you write your queries, especially longer ones.\n",
    "\n",
    "### Exercise\n",
    "\n",
    "Find such employees who (have) spent more than 2 years in the company. Select their last name and first name together with the number of years worked (name this column years)."
   ]
  },
  {
   "cell_type": "markdown",
   "metadata": {
    "jupyter": {
     "source_hidden": true
    }
   },
   "source": [
    "```\n",
    "SELECT\n",
    "  last_name,\n",
    "  first_name,\n",
    "  COUNT(DISTINCT year) AS years\n",
    "FROM employees\n",
    "GROUP BY last_name, first_name\n",
    "HAVING COUNT(DISTINCT year) > 2;\n",
    "```"
   ]
  },
  {
   "cell_type": "markdown",
   "metadata": {},
   "source": [
    "### Exercise\n",
    "Find such departments where the average salary in 2012 was higher than 3,000. Show the department name with the average salary."
   ]
  },
  {
   "cell_type": "markdown",
   "metadata": {
    "jupyter": {
     "source_hidden": true
    }
   },
   "source": [
    "```\n",
    "SELECT\n",
    "  department,\n",
    "  AVG(salary)\n",
    "FROM employees\n",
    "WHERE year = 2012\n",
    "GROUP BY department\n",
    "HAVING AVG(salary) > 3000;\n",
    "```"
   ]
  },
  {
   "cell_type": "markdown",
   "metadata": {},
   "source": [
    "# Order groups\n",
    "\n",
    "There's one more thing before you go. Groups can be sorted just like rows. \n",
    "\n",
    "Take a look:\n",
    "\n",
    "```\n",
    "SELECT\n",
    "  customer_id,\n",
    "  order_date,\n",
    "  SUM(total_sum)\n",
    "FROM orders\n",
    "GROUP BY customer_id, order_date\n",
    "ORDER BY SUM(total_sum) DESC;\n",
    "```\n",
    "\n",
    "In this case, we'll order our rows according to the total daily sum of all orders by a specific customer. The rows with the highest value will appear first.\n",
    "\n",
    "### Exercise\n",
    "Sort the employees according to their summary salaries. Highest values should appear first. Show the last name, the first name, and the sum."
   ]
  },
  {
   "cell_type": "markdown",
   "metadata": {
    "jupyter": {
     "source_hidden": true
    }
   },
   "source": [
    "```\n",
    "SELECT\n",
    "  last_name,\n",
    "  first_name,\n",
    "  SUM(salary)\n",
    "FROM employees\n",
    "GROUP BY last_name, first_name\n",
    "ORDER BY SUM(salary) DESC;\n",
    "```"
   ]
  },
  {
   "cell_type": "markdown",
   "metadata": {},
   "source": [
    "# Put your skills into practice\n",
    "\n",
    "### Exercise\n",
    "\n",
    "Show the columns `last_name` and `first_name` from the `employees` table together with each person's average salary and the number of years they (have) worked in the company.\n",
    "\n",
    "Use the following aliases: `average_salary` for each person's average salary and `years_worked` for the number of years worked in the company. \n",
    "\n",
    "Show only such employees who (have) spent more than 2 years in the company. Order the results according to the average salary in the descending order.\n",
    "\n"
   ]
  },
  {
   "cell_type": "markdown",
   "metadata": {
    "jupyter": {
     "source_hidden": true
    }
   },
   "source": [
    "```\n",
    "SELECT\n",
    "  last_name,\n",
    "  first_name,\n",
    "  AVG(salary) AS average_salary,\n",
    "  COUNT(DISTINCT year) AS years_worked\n",
    "FROM employees\n",
    "GROUP BY last_name, first_name\n",
    "HAVING COUNT(DISTINCT year) > 2\n",
    "ORDER BY AVG(salary) DESC;\n",
    "```"
   ]
  },
  {
   "cell_type": "code",
   "execution_count": null,
   "metadata": {},
   "outputs": [],
   "source": []
  },
  {
   "cell_type": "code",
   "execution_count": null,
   "metadata": {},
   "outputs": [],
   "source": []
  }
 ],
 "metadata": {
  "kernelspec": {
   "display_name": "Python 3",
   "language": "python",
   "name": "python3"
  },
  "language_info": {
   "codemirror_mode": {
    "name": "ipython",
    "version": 3
   },
   "file_extension": ".py",
   "mimetype": "text/x-python",
   "name": "python",
   "nbconvert_exporter": "python",
   "pygments_lexer": "ipython3",
   "version": "3.7.3"
  }
 },
 "nbformat": 4,
 "nbformat_minor": 4
}
