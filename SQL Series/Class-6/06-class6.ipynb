{
 "cells": [
  {
   "cell_type": "markdown",
   "metadata": {},
   "source": [
    "Today, we're going to take a close look at how numbers work in PostgreSQL – specifically, we're going to focus on those small details that make a huge difference.\n",
    "\n",
    "\n",
    "We're going to be using `DB Fiddle` for this course. \n",
    "\n",
    "Navigate to: https://www.db-fiddle.com/\n",
    "\n",
    "In the top right corner of the webpage, be sure to select `Database: PostgreSQL 13`\n",
    "\n",
    "Now, in the `Schema SQL` pane on the left copy and paste the following, or just click this link here:https://www.db-fiddle.com/f/djHaTH4rHY7HTRaevY9xyU/0\n",
    "\n",
    "\n",
    "```\n",
    "CREATE TABLE IF NOT EXISTS \"character\" (\n",
    "    \"id\" INT,\n",
    "    \"player_id\" INT,\n",
    "    \"name\" TEXT,\n",
    "    \"level\" INT,\n",
    "    \"class\" TEXT,\n",
    "    \"account_balance\" NUMERIC(6, 2),\n",
    "    \"hp\" INT,\n",
    "    \"mp\" INT,\n",
    "    \"strength\" INT,\n",
    "    \"wisdom\" INT,\n",
    "    \"stat_modifier\" INT,\n",
    "    \"weight\" NUMERIC(9, 6),\n",
    "    \"height\" NUMERIC(9, 6)\n",
    ");\n",
    "INSERT INTO \"character\" VALUES\n",
    "    (1,1,'Kav',3,'wizard',899.34,100,200,12,20,1,65,1.72),\n",
    "    (2,2,'Gniok',5,'warrior',423.83,170,80,20,23,4,101.4,2),\n",
    "    (3,1,'Mnah',2,'warrior',0,140,60,16,20,-1,80.300003,1.9299999),\n",
    "    (4,2,'Balryll',1,'warrior',723.12,130,50,15,0,2,78.900002,1.87),\n",
    "    (5,3,'Mnadjaid',13,'wizard',4321.93,171,37,86,-3,61,1.67,null),\n",
    "    (6,4,'Duroso',24,'wizard',7231.32,240,890,45,104,17,0.2,1),\n",
    "    (7,5,'Rolamar',3,'warrior',753.42,150,65,18,21,-29,91.300003,1.85),\n",
    "    (8,5,'Avealath',7,'warrior',1023,190,95,28,29,17,95.199997,1.9);\n",
    "\n",
    "\n",
    "CREATE TABLE IF NOT EXISTS \"player\" (\n",
    "    \"id\" INT,\n",
    "    \"first_name\" TEXT,\n",
    "    \"last_name\" TEXT\n",
    ");\n",
    "INSERT INTO \"player\" VALUES\n",
    "    (1,'Alan','Gilman'),\n",
    "    (2,'Kate','Friss'),\n",
    "    (3,'Anne','Birch'),\n",
    "    (4,'Adrian','Regos'),\n",
    "    (5,'Stephen','Colvin');\n",
    "\n",
    "```\n",
    "\n",
    "\n",
    "Before we continue, let's review what we already know about numbers. Integers are expressed in the following way: 1, 2, 43, -27, etc. \n",
    "\n",
    "Fractions are expressed with a dot (.): 12.45, -401.238, etc. Please note that in some languages, you use a comma instead of a dot, but not in SQL! For example, 12,45 is incorrect.\n",
    "\n",
    "In PostgreSQL (and in most programming languages) there are three kinds of numbers:\n",
    "\n",
    "- Integer (integer): stores integers (e.g., -5, 0, 5, 42).\n",
    "\n",
    "- Floating-point (real, double precision): stores fractions by approximating them in binary.\n",
    "\n",
    "- Decimal (numeric): stores fractions in decimal format.\n",
    "\n",
    "\n",
    "In this part, we'll discuss some of the differences between PostgreSQL's number data types.\n",
    "\n",
    "Of course, you can use the four basic mathematical operations (add +, subtract -, multiply *, and divide /) with actual numbers in PostgreSQL. You can also use columns and constant numbers together. Take a look at the example below:\n",
    "\n",
    "```\n",
    "SELECT hp / 4 AS quarter_hp\n",
    "FROM character;\n",
    "```\n",
    "\n",
    "## Exercise\n",
    "\n",
    "For each character, display its name, level, and the sum of its hp and mp as the hmp column.\n",
    "\n",
    "\n"
   ]
  },
  {
   "cell_type": "markdown",
   "metadata": {
    "jupyter": {
     "source_hidden": true
    }
   },
   "source": [
    "```\n",
    "SELECT\n",
    "  name,\n",
    "  level,\n",
    "  hp + mp AS hmp\n",
    "FROM character;\n",
    "```"
   ]
  },
  {
   "cell_type": "markdown",
   "metadata": {},
   "source": [
    "# Numeric functions: concatenation\n",
    "\n",
    "\n",
    "You can also join numbers and text values using the concatenation operator ||. \n",
    "\n",
    "Take a look:\n",
    "\n",
    "```\n",
    "SELECT 'Your character is at level ' || level AS level_info\n",
    "FROM character;\n",
    "```\n",
    "\n",
    "Simple, right?\n",
    "\n",
    "### Exercise\n",
    "\n",
    "For each character above level 1, show the following text:\n",
    "\n",
    "The account balance for NAME is MONEY.\n",
    "\n",
    "Where NAME is the name of the character and MONEY is the current account balance. Name the column account_info."
   ]
  },
  {
   "cell_type": "markdown",
   "metadata": {
    "jupyter": {
     "source_hidden": true
    }
   },
   "source": [
    "```\n",
    "SELECT 'The account balance for ' || name || ' is ' || account_balance || '.' AS account_info\n",
    "FROM character\n",
    "WHERE level > 1;\n",
    "```"
   ]
  },
  {
   "cell_type": "markdown",
   "metadata": {},
   "source": [
    "# Problems with subtraction\n",
    "\n",
    "In PostgreSQL, simple operations can get very tricky. Let's discuss some of them, starting with subtraction.\n",
    "\n",
    "### Exercise\n",
    "\n",
    "For a character named 'Mnah', select the name, weight, height, and the result of the following calculation:\n",
    "\n",
    "`weight - height - weight + height AS zero`\n",
    "\n",
    "It should equal 0, right?\n",
    "\n"
   ]
  },
  {
   "cell_type": "markdown",
   "metadata": {},
   "source": [
    "```\n",
    "SELECT\n",
    "  name,\n",
    "  weight,\n",
    "  height,\n",
    "  weight - height - weight + height AS zero\n",
    "FROM character\n",
    "WHERE name = 'Mnah';\n",
    "```"
   ]
  },
  {
   "cell_type": "markdown",
   "metadata": {},
   "source": [
    "# Binary arithmetic is not exact\n",
    "\n",
    "Oops... Something went wrong. Why did we get such an odd result?\n",
    "\n",
    "The weight and height columns have a real data type, which is a floating point number. \n",
    "\n",
    "The internal representation is binary arithmetic, which means not all decimals can be represented precisely. \n",
    "\n",
    "Therefore, any computations are not performed exactly, as we can see.\n",
    "\n",
    "What can be done about it? Nothing! That's the way binary arithmetic works.\n",
    "\n",
    "If you need exact computations, use decimal, numeric and money (for currency) data types. When dealing with money values, always use decimal, numeric or money data types. \n",
    "\n",
    "Floating point numbers are for \"scientific\" computations on various measurements, like weight and height.\n",
    "\n",
    "# Problems with division\n",
    "\n",
    "\n",
    "Now you know that subtraction can be tricky. What about division?\n",
    "\n",
    "How much is 1 / 4? Let's check that.\n",
    "\n",
    "`SELECT 1 / 4 AS result;`\n"
   ]
  },
  {
   "cell_type": "markdown",
   "metadata": {},
   "source": [
    "# Integer division\n",
    "\n",
    "Wait... what? We got a 0? After being taught it's 0.25? \n",
    "\n",
    "Has someone deceived us?\n",
    "\n",
    "Not really.\n",
    "\n",
    "What happened here is called integer division. \n",
    "\n",
    "This occurs when both the dividend and the divisor are integers. Since they are integers, PostgreSQL wants to return an integer result to match the operand types. \n",
    "\n",
    "In other words, it brutally cuts off the decimal part, which is .25 in our case. The zero (0) is the only thing left.\n",
    "\n",
    "So, how can we make sure that the result includes the decimal part? One way is to change the type of one of the values to a decimal (e.g., 1 / 4.0 instead of 1 / 4). \n",
    "\n",
    "In this course, we will always change the type of the denominator.\n",
    "\n",
    "## Exercise\n",
    "\n",
    "Run another example query to see what happens when you use a decimal number.\n",
    "\n",
    "`SELECT 1 / 4.0 AS result;`"
   ]
  },
  {
   "cell_type": "markdown",
   "metadata": {},
   "source": [
    "# Casting values to other types\n",
    "\n",
    "Hah! \n",
    "\n",
    "It worked this time, didn't it? That's how you can force the desired result in PostgreSQL.\n",
    "\n",
    "There is one problem with this method: What if both numbers are given as columns, like hp / level? We need to use another trick: explicitly converting one column to another data type. This procedure is called casting, and it uses the structure shown below:\n",
    "\n",
    "```\n",
    "SELECT (hp::numeric) / level AS result\n",
    "FROM character;\n",
    "```\n",
    "\n",
    "The structure column::type changes the column to the specified type. You can do this also by using the CAST() function:\n",
    "\n",
    "```\n",
    "SELECT CAST(hp AS numeric) / level AS result\n",
    "FROM character;\n",
    "```\n",
    "\n",
    "This function takes the name of the column to convert, the keyword AS, and the new data type.\n",
    "\n",
    "In PostgreSQL, there are three kinds of number data types:\n",
    "\n",
    "Integer data types with names like smallint, integer, bigint, etc.\n",
    "Exact number data types (i.e., decimal types) with names like numeric, decimal, money.\n",
    "Inexact number data types with names like real, double precision.\n",
    "When dividing two integers in this course, we always cast the numerator to a numeric data type. In a real world application, you may need a different precision and a different casting (e.g., casting both numbers to real).\n",
    "\n",
    "## Exercise\n",
    "\n",
    "For each character, show its name, level, and the health points divided by the mana points as the ratio column.\n",
    "\n",
    "Cast hp to the numeric data type to get a precise result."
   ]
  },
  {
   "cell_type": "markdown",
   "metadata": {
    "jupyter": {
     "source_hidden": true
    }
   },
   "source": [
    "```\n",
    "SELECT\n",
    "  name,\n",
    "  level,\n",
    "  (hp::numeric) / mp AS ratio\n",
    "FROM character;\n",
    "```"
   ]
  },
  {
   "cell_type": "markdown",
   "metadata": {},
   "source": [
    "# Division by zero, part one\n",
    "\n",
    "Okay, let's discuss the division problem further. As you know, there is one thing that you can never do: divide by zero. \n",
    "\n",
    "Let's see what happens when we follow the path of mathematical darkness and divide by zero...\n",
    "\n",
    "`SELECT 5 / 0 AS result;`"
   ]
  },
  {
   "cell_type": "markdown",
   "metadata": {},
   "source": [
    "# Division by zero, part two\n",
    "\n",
    "Now let's see what happens if you have many rows, of which only one contains division by 0.\n",
    "\n",
    "## Exercise\n",
    "\n",
    "Warriors get their first wisdom points at Level 2 and we have one warrior at Level 1 with 0 Wisdom points. \n",
    "\n",
    "Let's see what happens.\n",
    "\n",
    "```\n",
    "SELECT\n",
    "  name,\n",
    "  mp::numeric / wisdom AS ratio\n",
    "FROM character;\n",
    "```\n",
    "\n",
    "# Getting rid of division by zero\n",
    "\n",
    "Oops! \n",
    "\n",
    "As you can see, the error occurs even if there is only a single row with a zero value in the denominator. \n",
    "\n",
    "How can we deal with this? \n",
    "\n",
    "There are a few ways to solve the problem. For now, you can use the good old WHERE clause to filter out any rows that contain a zero:\n",
    "\n",
    "`WHERE column_name != 0`\n",
    "\n",
    "We'll discuss other methods of dealing with division by zero later in our course.\n",
    "\n",
    "## Exercise\n",
    "\n",
    "In the template you can find the query from the previous exercise. Filter out rows with 0 wisdom points."
   ]
  },
  {
   "cell_type": "markdown",
   "metadata": {
    "jupyter": {
     "source_hidden": true
    }
   },
   "source": [
    "```\n",
    "SELECT\n",
    "  name,\n",
    "  mp::numeric / wisdom AS ratio\n",
    "FROM character\n",
    "WHERE wisdom != 0;\n",
    "```"
   ]
  },
  {
   "cell_type": "markdown",
   "metadata": {},
   "source": [
    "# The modulo operator (%)\n",
    "\n",
    "There's one more useful operator related to division: the modulo operator (%). \n",
    "\n",
    "It returns the remainder of one number divided by another number, like this:\n",
    "\n",
    "`x % y`\n",
    "\n",
    "For instance, 9 % 7 will return 2, because 9 / 7 is 1 with 2 as the remainder. \n",
    "\n",
    "This operator works with integer and decimal numbers.\n",
    "\n",
    "## Exercise\n",
    "\n",
    "In our game, you can increase your strength by 1 if you sacrifice 7 HP. \n",
    "\n",
    "For each character, show its name and calculate how many health points will be left if the player decides to sacrifice the maximum number of HP. Name the column hp_left.\n",
    "\n",
    "```\n",
    "SELECT\n",
    "  name,\n",
    "  hp % 7 AS hp_left\n",
    "FROM character;\n",
    "```"
   ]
  },
  {
   "cell_type": "markdown",
   "metadata": {},
   "source": [
    "# The ROUND() function\n",
    "\n",
    "\n",
    "Now you know how to subtract and divide in PostgreSQL, let's discuss other numeric functions. \n",
    "\n",
    "One of them is `ROUND(x)`. \n",
    "\n",
    "This function will round the number within parentheses to the nearest integer number. This is standard mathematical rounding: any decimal part equal to or greater than 0.5 will be rounded up.\n",
    "\n",
    "```\n",
    "SELECT ROUND(account_balance)\n",
    "FROM character\n",
    "WHERE id = 1;\n",
    "```\n",
    "\n",
    "The above query will take the account_balance of the character with ID of 1 (which is 899.34) and round it to the nearest integer (to 899). Remember that ROUND() won't change the type of the value returned.\n",
    "\n",
    "## Exercise\n",
    "\n",
    "For each character, show its name, its actual account_balance, and their account balance rounded to the nearest integer as the integer_balance column. Notice how rounding is applied.\n",
    "\n"
   ]
  },
  {
   "cell_type": "markdown",
   "metadata": {
    "jupyter": {
     "source_hidden": true
    }
   },
   "source": [
    "```\n",
    "SELECT\n",
    "  name,\n",
    "  account_balance,\n",
    "  ROUND(account_balance, 0) AS integer_balance\n",
    "FROM character;\n",
    "```"
   ]
  },
  {
   "cell_type": "markdown",
   "metadata": {},
   "source": [
    "# Precision in ROUND()\n",
    "\n",
    "\n",
    "There is also another version of round, which takes two arguments: `ROUND(x, precision)`. \n",
    "\n",
    "The second argument is new and specifies the number of decimal places to be returned. For example,\n",
    "\n",
    "`SELECT ROUND(136.123, 2);`\n",
    "\n",
    "will return 136.12. Let's try it out.\n",
    "\n",
    "# Exercise\n",
    "\n",
    "Show each character's name, its actual account_balance, and the account balance rounded to a single decimal place as the rounded_balance column."
   ]
  },
  {
   "cell_type": "markdown",
   "metadata": {
    "jupyter": {
     "source_hidden": true
    }
   },
   "source": [
    "```\n",
    "SELECT\n",
    "  name,\n",
    "  account_balance,\n",
    "  ROUND(account_balance, 1) AS rounded_balance\n",
    "FROM character;\n",
    "```"
   ]
  },
  {
   "cell_type": "markdown",
   "metadata": {},
   "source": [
    "# ROUND() in PostgreSQL – explanation\n",
    "\n",
    "\n",
    "Before we move on, let's discuss the data types that work with `ROUND()` in PostgreSQL:\n",
    "\n",
    "The single-argument function ROUND(x) accepts both numeric and double precision (floating-point number) data types.\n",
    "\n",
    "If you want to round a number with precision to a specific decimal place with the two-argument ROUND(x, precision) function, the number being rounded must be either a numeric or a decimal type.\n",
    "\n",
    "To round a floating point number and specify a precision at the same time, you have to first cast it as numeric. For example:\n",
    "\n",
    "```\n",
    "SELECT ROUND(weight::numeric, 2) AS rounded_weight\n",
    "FROM character;\n",
    "```\n",
    "\n",
    "will round the weight to two decimal places.\n",
    "\n",
    "## Exercise\n",
    "Round height to two decimal places and show it as the rounded_height column."
   ]
  },
  {
   "cell_type": "markdown",
   "metadata": {
    "jupyter": {
     "source_hidden": true
    }
   },
   "source": [
    "```\n",
    "SELECT ROUND(height::numeric, 2) AS rounded_height\n",
    "FROM character;\n",
    "```"
   ]
  },
  {
   "cell_type": "markdown",
   "metadata": {},
   "source": [
    "# Rounding up\n",
    "\n",
    "Let's learn how to round in another way. \n",
    "\n",
    "Sometimes we want to round up. We can do it using the `CEIL(number)` function (or the CEILING(number) function which is an alias).\n",
    "\n",
    "## Exercise\n",
    "\n",
    "Show the character's name and actual weight, followed by the weight rounded up as the weight_rounded_up column."
   ]
  },
  {
   "cell_type": "markdown",
   "metadata": {
    "jupyter": {
     "source_hidden": true
    }
   },
   "source": [
    "```\n",
    "SELECT\n",
    "  name,\n",
    "  weight,\n",
    "  CEIL(weight) AS weight_rounded_up\n",
    "FROM character;\n",
    "```"
   ]
  },
  {
   "cell_type": "markdown",
   "metadata": {},
   "source": [
    "# Rounding down\n",
    "\n",
    "\n",
    "That was the `CEIL()` function. \n",
    "\n",
    "Sometimes we need to round down, and the `FLOOR(number)` function will come in handy.\n",
    "\n",
    "## Exercise\n",
    "\n",
    "Show each character's name, actual account_balance, and the account_balance rounded down as the balance_rounded_down column."
   ]
  },
  {
   "cell_type": "markdown",
   "metadata": {
    "jupyter": {
     "source_hidden": true
    }
   },
   "source": [
    "```\n",
    "SELECT\n",
    "  name,\n",
    "  account_balance,\n",
    "  FLOOR(account_balance) AS balance_rounded_down\n",
    "FROM character;\n",
    "```"
   ]
  },
  {
   "cell_type": "markdown",
   "metadata": {},
   "source": [
    "# The TRUNC() function\n",
    "\n",
    "Another function to practice is `TRUNC()`. It always rounds towards zero. As with `ROUND()`, there are two variants of `TRUNC()`:\n",
    "\n",
    "The single-argument `TRUNC(x)` takes a number of type numeric or double precision.\n",
    "\n",
    "The two-argument `TRUNC(x, p)` takes an additional integer p argument which defines the number of decimal places.\n",
    "\n",
    "Take a look at the example:\n",
    "\n",
    "```\n",
    "SELECT\n",
    "  name,\n",
    "  TRUNC(weight)    AS weight_no_decimal_places,\n",
    "  TRUNC(weight, 1) AS weight_one_decimal_place\n",
    "FROM character;\n",
    "```\n",
    "\n",
    "But there's a catch! \n",
    "\n",
    "The same which was true for the `ROUND()` function. \n",
    "\n",
    "The query above won't work because you may define the number of decimal places only for the numeric types, so you should cast the value:\n",
    "\n",
    "```\n",
    "SELECT\n",
    "  name,\n",
    "  TRUNC(weight) AS weight_no_decimal_places,\n",
    "  TRUNC(weight::numeric, 1) AS weight_one_decimal_place\n",
    "FROM character;\n",
    "```"
   ]
  },
  {
   "cell_type": "markdown",
   "metadata": {},
   "source": [
    "### Exercise\n",
    "\n",
    "Show the character's name together with its account_balance, and the account balance truncated to one decimal place as the truncated_balance."
   ]
  },
  {
   "cell_type": "markdown",
   "metadata": {
    "jupyter": {
     "source_hidden": true
    }
   },
   "source": [
    "```\n",
    "SELECT\n",
    "  name,\n",
    "  account_balance,\n",
    "  TRUNC(account_balance::numeric, 1) AS truncated_balance\n",
    "FROM character;\n",
    "```"
   ]
  },
  {
   "cell_type": "markdown",
   "metadata": {},
   "source": [
    "# The ABS() function\n",
    "\n",
    "\n",
    "Let's take a look at the ABS(x) function which returns the absolute value of x. \n",
    "\n",
    "Non-negative numbers will be expressed as they are, but negative ones will be expressed without the negative sign. Have a look:\n",
    "\n",
    "`SELECT ABS(3), ABS(-3);`\n",
    "\n",
    "The above query returns 3 twice. The absolute value of 3 is 3, as is the absolute value of -3.\n",
    "\n",
    "## Exercise\n",
    "\n",
    "For each character, show its actual stat_modifier value and its stat_modifier's absolute value as the absolute_stat_modifier column.\n",
    "\n"
   ]
  },
  {
   "cell_type": "markdown",
   "metadata": {
    "jupyter": {
     "source_hidden": true
    }
   },
   "source": [
    "```\n",
    "SELECT\n",
    "  stat_modifier,\n",
    "  ABS(stat_modifier) AS absolute_stat_modifier\n",
    "FROM character;\n",
    "```"
   ]
  },
  {
   "cell_type": "markdown",
   "metadata": {},
   "source": [
    "## Summary\n",
    "\n",
    "Now let's summarize what we've learned in this part:\n",
    "\n",
    "- Computations using floating point numbers are not always exact. Use the decimal, numeric, or money data types for all money columns and whenever precision matters.\n",
    "\n",
    "- Dividing two integers is integer division, which is not always accurate. Use CAST(column AS TYPE) or the :: operator to avoid it.\n",
    "\n",
    "- Avoid division by zero.\n",
    "\n",
    "We've learned some useful functions:\n",
    "\n",
    "- The modulo operation (x % y) returns the remainder of x by y division.\n",
    "\n",
    "- ROUND(x, p) rounds x to the nearest integer or to the specified number of decimal digits (p).\n",
    "\n",
    "- CEILING(x) rounds up to the nearest integer value.\n",
    "\n",
    "- FLOOR(x) rounds down to the nearest integer value.\n",
    "\n",
    "- ABS(x) returns the absolute value of x.\n",
    "\n",
    "- TRUNC(x, p) – removes decimal digits given in p from the number x; \n",
    "\n",
    "- TRUNC(x) removes all decimal digits.\n",
    "\n",
    "- The :: operator and the CAST() function convert data types.\n",
    "\n",
    "The queries we've written so far have been fairly simple. Let's test your knowledge with some more advanced exercises."
   ]
  },
  {
   "cell_type": "markdown",
   "metadata": {},
   "source": [
    "# Homework"
   ]
  },
  {
   "cell_type": "markdown",
   "metadata": {},
   "source": [
    "# Exercise\n",
    "Calculate BMI for every character in the character table. BMI is calculated in the following way:\n",
    "\n",
    "$\\text{BMI} = \\frac{\\text{weight in  kilograms}}{(\\text{height in meters})^2}$\n",
    " \n",
    "\n",
    "Round the result to integer. Show each character's name and their calculated BMI as the bmi column.\n",
    "\n",
    "Note: height is measured in meters. Remember to change the type of the ROUND() function's first argument to numeric."
   ]
  },
  {
   "cell_type": "markdown",
   "metadata": {
    "jupyter": {
     "source_hidden": true
    }
   },
   "source": [
    "```\n",
    "SELECT\n",
    "  name,\n",
    "  ROUND((weight/(height * height))::numeric, 0) AS bmi\n",
    "FROM character;\n",
    "```"
   ]
  },
  {
   "cell_type": "markdown",
   "metadata": {},
   "source": [
    "# Exercise\n",
    "\n",
    "A healing potion costs 50 gold coins. Calculate how many healing potions each character (show their name column) with an account balance of at least 100 can buy (name the column: potion_amount) and how much money that each character will have left after that purchase (name the column: change)."
   ]
  },
  {
   "cell_type": "markdown",
   "metadata": {
    "jupyter": {
     "source_hidden": true
    }
   },
   "source": [
    "```\n",
    "SELECT\n",
    "  name,\n",
    "  FLOOR(account_balance / 50) AS potion_amount,\n",
    "  (account_balance % 50) AS change\n",
    "FROM character\n",
    "WHERE account_balance >= 100;\n",
    "```"
   ]
  },
  {
   "cell_type": "markdown",
   "metadata": {},
   "source": [
    "# Exercise\n",
    "\n",
    "Each warrior at Level 3 or higher can perform a special attack whose damage is calculated as follows:\n",
    "\n",
    "Character's strength added to one-fourth of its hp, and then multiplied by the absolute value of stat_modifier. Here's the equation to visualize this:\n",
    "\n",
    "$(strength + {hp \\over 4.0}) * |statmodifier|$\n",
    "\n",
    "For characters who have this attack available, show the character's name and the amount of damage dealt by this attack (name the column: damage).\n",
    "\n"
   ]
  },
  {
   "cell_type": "markdown",
   "metadata": {
    "jupyter": {
     "source_hidden": true
    }
   },
   "source": [
    "```\n",
    "SELECT\n",
    "  name,\n",
    "  (strength + hp / 4.0) * ABS(stat_modifier) AS damage\n",
    "FROM character\n",
    "WHERE class = 'warrior'\n",
    "  AND level > 2;\n",
    "```"
   ]
  },
  {
   "cell_type": "markdown",
   "metadata": {},
   "source": [
    "# Exercise\n",
    "\n",
    "For players with ID of 1 or 5, show:\n",
    "\n",
    "- First and last name joined by a single space as the player_name column.\n",
    "\n",
    "- Their characters' level.\n",
    "\n",
    "- Height rounded to one decimal place as the rounded_height column.\n",
    "\n",
    "- Account balance rounded down to the nearest integer as the account_balance column.\n"
   ]
  },
  {
   "cell_type": "markdown",
   "metadata": {
    "jupyter": {
     "source_hidden": true
    }
   },
   "source": [
    "```\n",
    "SELECT\n",
    "  first_name || ' ' || last_name AS player_name,\n",
    "  level,\n",
    "  ROUND(height::numeric, 1) AS rounded_height,\n",
    "  FLOOR(account_balance) AS account_balance\n",
    "FROM player p\n",
    "JOIN character c\n",
    "  ON c.player_id = p.id\n",
    "WHERE player_id IN (1, 5);\n",
    "```"
   ]
  },
  {
   "cell_type": "code",
   "execution_count": null,
   "metadata": {},
   "outputs": [],
   "source": []
  }
 ],
 "metadata": {
  "kernelspec": {
   "display_name": "Python 3",
   "language": "python",
   "name": "python3"
  },
  "language_info": {
   "codemirror_mode": {
    "name": "ipython",
    "version": 3
   },
   "file_extension": ".py",
   "mimetype": "text/x-python",
   "name": "python",
   "nbconvert_exporter": "python",
   "pygments_lexer": "ipython3",
   "version": "3.7.3"
  }
 },
 "nbformat": 4,
 "nbformat_minor": 4
}
