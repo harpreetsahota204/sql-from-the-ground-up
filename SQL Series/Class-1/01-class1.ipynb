{
 "cells": [
  {
   "cell_type": "markdown",
   "metadata": {},
   "source": [
    "# A little bit about databases\n",
    "\n",
    "\n",
    "### What is a database exactly? \n",
    "\n",
    "To put it simply, it's a computer program which stores various data. \n",
    "\n",
    "There are quite a few database vendors, e.g., Oracle, MySQL, SQL Server, and many others but we'll focus on the PostgreSQL database. \n",
    "\n",
    "Chances are some of these names already sound familiar to you – after all, databases can be found literally everywhere!\n",
    "\n",
    "There are various types of databases. In this course, we're going to focus on relational databases – they're a very frequent choice in the contemporary IT world.\n",
    "\n",
    "### Tables\n",
    "\n",
    "Every relational database stores information in tables. \n",
    "\n",
    "You can have many tables in one database and each of your tables will hold data which refers to similar objects. Each table has a name so you can find out what kind of information is stored there.\n",
    "\n",
    "For example, the database of your university would include a table named `student` with all data regarding students, another table `subject` with information on the subjects at your university, etc.\n",
    "\n",
    "\n",
    "\n",
    "### Columns and rows\n",
    "\n",
    "Tables in databases look exactly the way you would imagine a normal table – they have columns and rows.\n",
    "\n",
    "Columns in every table have their names and they identify the kind of information is stored in them.\n",
    "\n",
    "### SQL\n",
    "\n",
    "So, how do we get in touch with our database? We use the so-called Structured Query Language. Of course, no one uses the full name, we just call it SQL for short.\n",
    "\n",
    "All relational databases understand SQL, but each of them has a slightly different dialect, so to speak. In this course, you will learn the version of SQL used by the PostgreSQL database.\n",
    "\n",
    "\n",
    "### Queries\n",
    "\n",
    "The instructions that we'll learn in this course are called queries. \n",
    "\n",
    "Just as the name suggests, queries are questions that we ask to find out some information about the data stored in the database.\n",
    "\n",
    "Databases can do amazing things – they don't only return the data you ask for, they can actually do advanced calculations on the tables. \n",
    "\n",
    "You'll see for yourself!\n",
    "\n",
    "We'll start with very simple instructions and we'll introduce new things one by one. \n",
    "\n",
    "By the end of this course, you'll be able to write fairly complex queries."
   ]
  },
  {
   "cell_type": "markdown",
   "metadata": {},
   "source": [
    "We're going to be using `DB Fiddle` for this course. \n",
    "\n",
    "Navigate to: https://www.db-fiddle.com/\n",
    "\n",
    "In the top right corner of the webpage, be sure to select `Database: PostgreSQL 13`\n",
    "\n",
    "Now, in the `Schema SQL` pane on the left copy and paste the following:\n",
    "\n",
    "```\n",
    "CREATE TABLE \"car\" (\n",
    "    \"vin\" TEXT,\n",
    "    \"brand\" TEXT,\n",
    "    \"model\" TEXT,\n",
    "    \"price\" NUMERIC,\n",
    "    \"production_year\" INT\n",
    ");\n",
    "INSERT INTO \"car\" VALUES\n",
    "    ('LJCPCBLCX14500264','Ford','Focus',8000,2005),\n",
    "    ('WPOZZZ79ZTS372128','Ford','Fusion',12500,2008),\n",
    "    ('JF1BR93D7BG498281','Toyota','Avensis',11300,1999),\n",
    "    ('KLATF08Y1VB363636','Volkswagen','Golf',3270,1992),\n",
    "    ('1M8GDM9AXKP042788','Volkswagen','Golf',13000,2010),\n",
    "    ('1HGCM82633A004352','Volkswagen','Jetta',6420,2003),\n",
    "    ('1G1YZ23J9P5800003','Fiat','Punto',5700,1999),\n",
    "    ('GS723HDSAK2399002','Opel','Corsa',null,2007);\n",
    "\n",
    "\n",
    "\n",
    "```\n",
    "\n",
    "We're going to be using this table scheme for the next few examples\n",
    "\n"
   ]
  },
  {
   "cell_type": "markdown",
   "metadata": {},
   "source": [
    "\n",
    "# Selecting data from one table\n",
    "\n",
    "Today we will only be working with one table, and selecting data from it.\n",
    "\n",
    "## Get all data\n",
    "\n",
    "It's time to run your first SQL query! \n",
    "\n",
    "As you remember, the data in a database are stored in tables.\n",
    "\n",
    "You can see all data in the user table with this query:\n",
    "\n",
    "```\n",
    "SELECT *\n",
    "FROM cars;\n",
    "```\n",
    "\n",
    "SELECT tells your database that you want to select data. FROM user tells the database to select data from the user table.\n",
    "\n",
    "Finally, the asterisk (*) tells the database that you want to see all columns in this table.\n",
    "\n",
    "Remember that it is a good practice to always end your SQL command with a semicolon (;). \n",
    "\n",
    "A semicolon is like a period at the end of the sentence. It tells the database that you're done with your command. Our platform accepts your query submissions both with and without a semicolon, so you can leave it out completely in this course.\n",
    "\n",
    "Go ahead and select all rows by typing the query into the `Query SQL` pane. Hit `CTRL-Enter` on your keyboard to execute the query.\n",
    "\n",
    "\n",
    "As you can see, the car table has 5 columns:\n",
    "\n",
    "- `vin` – short for vehicle identification number\n",
    "- `brand`\n",
    "- `model`\n",
    "- `price`\n",
    "- `production_year`\n",
    "\n",
    "The names of the columns are at the top of the result.\n",
    "\n",
    "## Select one column\n",
    "\n",
    "What if you don't want to select all columns from a table?\n",
    "\n",
    "No problem. \n",
    "\n",
    "Go ahead and select the `brand` from the `cars` table\n",
    "\n"
   ]
  },
  {
   "cell_type": "markdown",
   "metadata": {},
   "source": [
    "### Show me the answer\n",
    "\n",
    "Click the three dots below"
   ]
  },
  {
   "cell_type": "code",
   "execution_count": null,
   "metadata": {
    "jupyter": {
     "source_hidden": true
    }
   },
   "outputs": [],
   "source": [
    "SELECT brand\n",
    "FROM car;"
   ]
  },
  {
   "cell_type": "markdown",
   "metadata": {},
   "source": [
    "### Select many columns\n",
    "\n",
    "Great! \n",
    "\n",
    "If you want to get a couple of columns, give the names of the desired columns before the FROM clause.\n",
    "\n",
    "Select model and price from the `cars` table.\n",
    "```\n",
    "SELECT\n",
    "  model,\n",
    "  price\n",
    "FROM car;\n",
    "```\n",
    "\n",
    "\n",
    "### Select only a few rows\n",
    "\n",
    "Our table is quite small, so if we wanted to get some information about Volkswagens, we could select all rows and just ignore the extra few which contain other brands. \n",
    "\n",
    "But what if our table consisted of thousands of rows?\n",
    "\n",
    "We can use a `WHERE` clause and some condition to help us retreive rows that only meet some particular condition.\n",
    "\n",
    "Suppose we wanted to select all columns for those cars which were produced in 1999 (use the `production_year` column).\n",
    "\n",
    "\n",
    "```\n",
    "SELECT *\n",
    "FROM car\n",
    "WHERE production_year = 1999;\n",
    "```\n",
    "\n",
    "Go ahead and select all cars that are of the Ford brand\n",
    "\n",
    "### Show me the answer\n",
    "\n",
    "Click the three dots below\n"
   ]
  },
  {
   "cell_type": "markdown",
   "metadata": {
    "jupyter": {
     "source_hidden": true
    }
   },
   "source": [
    "```\n",
    "SELECT *\n",
    "FROM cars\n",
    "WHERE brand = 'Ford';\n",
    "```"
   ]
  },
  {
   "cell_type": "markdown",
   "metadata": {},
   "source": [
    "## Conditional operators\n",
    "\n",
    "Besides the equality sign (`=`), there are also some other conditional operators which you can use. Look at the next example.\n",
    "\n",
    "```\n",
    "SELECT *\n",
    "FROM car\n",
    "WHERE price < 10000;\n",
    "```\n",
    "\n",
    "\n",
    "Instead of the equality sign (`=`), we used the less than sign (`<`). Now our instruction selects all columns for all cars with price less than 10,000.\n",
    "\n",
    "We can apply several operators in the same way:\n",
    "\n",
    "- `<` (less than),\n",
    "- `>` (greater than),\n",
    "- `<=` (less than or equal),\n",
    "- `>=` (greater than or equal).\n",
    "\n",
    "\n",
    "Now let's find all cars that greater than 10,000\n",
    "\n",
    "#### Show me the answer\n",
    "Click the three dots below\n"
   ]
  },
  {
   "cell_type": "markdown",
   "metadata": {
    "jupyter": {
     "source_hidden": true
    }
   },
   "source": [
    "```\n",
    "SELECT *\n",
    "FROM car\n",
    "WHERE price > 10000;\n",
    "```"
   ]
  },
  {
   "cell_type": "markdown",
   "metadata": {},
   "source": [
    "## The not equal sign (!=)\n",
    "\n",
    "There is one more very important conditional operator, the inequality sign (!= or sometimes <>). Look at the example:\n",
    "\n",
    "```\n",
    "SELECT *\n",
    "FROM car\n",
    "WHERE production_year != 1999;\n",
    "```\n",
    "\n",
    "Now find all cars that are not the Ford brand\n",
    "\n",
    "\n",
    "#### Show me the answers\n",
    "(Click the three dots below)"
   ]
  },
  {
   "cell_type": "markdown",
   "metadata": {
    "jupyter": {
     "source_hidden": true
    }
   },
   "source": [
    "```\n",
    "SELECT *\n",
    "FROM car\n",
    "WHERE brand != 'Ford';\n",
    "```"
   ]
  },
  {
   "cell_type": "markdown",
   "metadata": {},
   "source": [
    "### Conditional operators and selecting columns\n",
    "\n",
    "Let's combine what we know about conditional operators with selecting specific columns.\n",
    "\n",
    "\n",
    "As an exercise, I want you all to select the brand, model and production_year columns of all cars cheaper than or equal to 11,300.\n",
    "\n",
    "#### Show me the answer\n",
    "(Click the three dots below)\n",
    "\n"
   ]
  },
  {
   "cell_type": "markdown",
   "metadata": {
    "jupyter": {
     "source_hidden": true
    }
   },
   "source": [
    "```\n",
    "SELECT\n",
    "  brand,\n",
    "  model,\n",
    "  production_year\n",
    "FROM car\n",
    "WHERE price <= 11300;\n",
    "```"
   ]
  },
  {
   "cell_type": "markdown",
   "metadata": {},
   "source": [
    "### Logical operators – OR\n",
    "\n",
    "Up until now, we were able to filter the rows in the previous examples using conditional operators (`=`, `!=`, `<`, `>`, `<=`, `>=`). \n",
    "\n",
    "But what about situations when we want to be really picky and join a few conditions?\n",
    "We can use the `OR` clause which allows us to join more conditions.\n",
    "\n",
    "A row is displayed when the first condition or the second condition is true. Note that if both conditions are true, the row is also displayed.\n",
    "\n",
    "As an exercise, I want you to Select `vin`s of all cars which were produced before 2005 or whose price is below 10,000.\n",
    "\n",
    "\n",
    "#### Show me the answer\n",
    "(Click the three dots below)"
   ]
  },
  {
   "cell_type": "markdown",
   "metadata": {
    "jupyter": {
     "source_hidden": true
    }
   },
   "source": [
    "```\n",
    "SELECT vin\n",
    "FROM car\n",
    "WHERE production_year < 2005\n",
    "  OR price < 10000;\n",
    "```"
   ]
  },
  {
   "cell_type": "markdown",
   "metadata": {},
   "source": [
    "### Logical operators – AND\n",
    "\n",
    "\n",
    "`OR` isn't the only logical operator out there. `AND` is another logical operator.\n",
    "\n",
    "In order for a row to be displayed in a query, both conditions must be fulfilled to retrieve a particular row.\n",
    "\n",
    "Go ahead and Select `vin`s of all cars which were produced after 1999 and are cheaper than 7,000.\n",
    "\n",
    "#### Show me the answer\n",
    "(Click three dots below)\n"
   ]
  },
  {
   "cell_type": "markdown",
   "metadata": {
    "jupyter": {
     "source_hidden": true
    }
   },
   "source": [
    "```\n",
    "SELECT vin\n",
    "FROM car\n",
    "WHERE production_year > 1999\n",
    "  AND price < 7000;\n",
    "```"
   ]
  },
  {
   "cell_type": "markdown",
   "metadata": {},
   "source": [
    "### The BETWEEN operator\n",
    "\n",
    "If we wanted to select the `vin`, `brand`, and `model` columns of all cars which were produced between 1995 and 2005.\n",
    "\n",
    "We could do it this way:\n",
    "\n",
    "```\n",
    "SELECT\n",
    "  vin,\n",
    "  brand,\n",
    "  model\n",
    "FROM car\n",
    "WHERE production_year > 1995 AND \n",
    "      production_year < 2005;\n",
    "\n",
    "```\n",
    "\n",
    "But there is also another way of writing the example above. Take a look:\n",
    "\n",
    "```\n",
    "SELECT\n",
    "  vin,\n",
    "  brand,\n",
    "  model\n",
    "FROM car\n",
    "WHERE production_year BETWEEN 1995 AND 2005;\n",
    "```\n",
    "\n",
    "Now go ahead and select the `brand` and `model` of all cars that have `price` between 3000 and 11000\n",
    "\n",
    "### Show me the answer\n",
    "(click the three dots below)\n"
   ]
  },
  {
   "cell_type": "markdown",
   "metadata": {
    "jupyter": {
     "source_hidden": true
    }
   },
   "source": [
    "```\n",
    "SELECT\n",
    "  brand,\n",
    "  model\n",
    "FROM car\n",
    "WHERE price BETWEEN 3000 AND 11000;\n",
    "```"
   ]
  },
  {
   "cell_type": "markdown",
   "metadata": {},
   "source": [
    "## Logical operators – NOT\n",
    "\n",
    "There is one more logical operator worth mentioning: NOT. Basically speaking, whatever is stated after NOT will be negated:\n",
    "\n",
    "For example if we want to select the `vin`, `brand`, and `model` columns of all cars except for those produced between 1995 and 2005.\n",
    "\n",
    "We can do the following query\n",
    "\n",
    "```\n",
    "SELECT\n",
    "  vin,\n",
    "  brand,\n",
    "  model\n",
    "FROM car\n",
    "WHERE production_year NOT BETWEEN 1995 AND 2005.\n",
    "```\n",
    "\n",
    "Now go ahead and select the `brand` and `model` of all cars that have `price` NOT between 3000 and 11000\n",
    "\n",
    "### Show me the answer\n",
    "(click the three buttons below)\n"
   ]
  },
  {
   "cell_type": "markdown",
   "metadata": {
    "jupyter": {
     "source_hidden": true
    }
   },
   "source": [
    "\n",
    "```\n",
    "SELECT\n",
    "  brand,\n",
    "  model\n",
    "FROM car\n",
    "WHERE price BETWEEN 3000 AND 11000;\n",
    "```\n"
   ]
  },
  {
   "cell_type": "markdown",
   "metadata": {},
   "source": [
    "### Join even more conditions\n",
    "\n",
    "We can include even more conditions by using parentheses, according to our needs. \n",
    "\n",
    "Pretend we had a users table, right. If we want to find only those users who are above 70 years old or below 13 and who are at least 180 cm tall, we can use the following expression:\n",
    "\n",
    "```\n",
    "SELECT id, name\n",
    "FROM user\n",
    "WHERE (age > 70 OR age < 13)\n",
    "  AND height >= 180;\n",
    "```\n",
    "\n",
    "As an exercise, I'd like you to Select the `vin` of all cars which were produced before 1999 or after 2005 and whose price is lower than 4,000 or greater than 10,000.\n",
    "\n",
    "### Show me the answer\n",
    "(click the three dots below)\n"
   ]
  },
  {
   "cell_type": "markdown",
   "metadata": {
    "jupyter": {
     "source_hidden": true
    }
   },
   "source": [
    "```\n",
    "SELECT vin\n",
    "FROM car\n",
    "WHERE (production_year < 1999 OR production_year > 2005)\n",
    "  AND (price < 4000 OR price > 10000);\n",
    "```"
   ]
  },
  {
   "cell_type": "markdown",
   "metadata": {},
   "source": [
    "### Use text\n",
    "\n",
    "\n",
    "Until now, we only worked with numbers in our `WHERE` clauses. \n",
    "\n",
    "Is it possible to use letters instead? \n",
    "\n",
    "Of course it is!\n",
    "\n",
    "Just remember to put your text in single quotes like this: 'example'.\n",
    "\n",
    "Again, let's pretend we had a user table.  If you wanted to know the age of all Smiths in your table, you could use the following code:\n",
    "\n",
    "```\n",
    "SELECT age\n",
    "FROM user\n",
    "WHERE name = 'Smith';\n",
    "```\n",
    "\n",
    "Note that the case of the letters matters, i.e., 'Smith' is different than 'SMITH'\n",
    "\n",
    "Go ahead and select all columns for all Ford cars from the car table.\n",
    "\n",
    "### Show me the answer\n",
    "(click the three dots below)"
   ]
  },
  {
   "cell_type": "markdown",
   "metadata": {},
   "source": [
    "```\n",
    "SELECT *\n",
    "FROM car\n",
    "WHERE brand = 'Ford';\n",
    "```\n"
   ]
  },
  {
   "cell_type": "markdown",
   "metadata": {},
   "source": [
    "## The LIKE operator and the % sign\n",
    "\n",
    "\n",
    "Now, what happens if we don't know precisely what letters we're looking for? With text values, you can always use the LIKE operator instead of the equality sign.\n",
    "\n",
    "What change does it make? Well, take a look at the following example:\n",
    "\n",
    "Suppose we wanted to select the vin, brand, and model columns for all cars whose brand begins with an F.\n",
    "\n",
    "```\n",
    "SELECT\n",
    "  vin,\n",
    "  brand,\n",
    "  model\n",
    "FROM car\n",
    "WHERE brand LIKE 'F%';\n",
    "```\n",
    "\n",
    "`LIKE` allows for the use of the percentage sign (`%`). The percentage sign applied in the example matches any number (zero or more) of unknown characters.\n",
    "\n",
    "\n",
    "As a result, we'll obtain all brands whose name begins with the letter 'F'. We may not remember the exact name, but we know it begins with an F and that's enough. \n",
    "\n",
    "Convenient, isn't it?\n",
    "\n",
    "The percentage sign (`%`) can be put anywhere between the single quotes and as many times as it's necessary.\n",
    "\n",
    "Remember that the percentage sign (%) can also match zero characters, so the name can also begin or end with whatever letter you're interetsed in.\n",
    "\n",
    "To see it in action, go ahead and select the vin columns for all cars whose model ends with an \"s\".\n",
    "\n",
    "### Show me the answer\n",
    "(click the three dots below)\n"
   ]
  },
  {
   "cell_type": "markdown",
   "metadata": {
    "jupyter": {
     "source_hidden": true
    }
   },
   "source": [
    "```\n",
    "SELECT vin\n",
    "FROM car\n",
    "WHERE model LIKE '%s';\n",
    "```"
   ]
  },
  {
   "cell_type": "markdown",
   "metadata": {},
   "source": [
    "## The underscore sign (_)\n",
    "\n",
    "Now, sometimes we may not remember just one letter of a specific name. \n",
    "\n",
    "Let's go back to the imaginary user table we were talking about earlier.  Imagine we want to find a user whose name is... Catherine? Katherine?\n",
    "\n",
    "```\n",
    "SELECT *\n",
    "FROM user\n",
    "WHERE name LIKE '_atherine';\n",
    "```\n",
    "\n",
    "The underscore sign (`_`) matches exactly one character. Whether it's Catherine or Katherine – the expression will return a row.\n",
    "\n",
    "As an exercise, select all columns for cars which brand matches 'Volk_wagen'.\n",
    "\n"
   ]
  },
  {
   "cell_type": "markdown",
   "metadata": {
    "jupyter": {
     "source_hidden": true
    }
   },
   "source": [
    "```\n",
    "SELECT *\n",
    "FROM car\n",
    "WHERE brand LIKE 'Volk_wagen';\n",
    "```"
   ]
  },
  {
   "cell_type": "markdown",
   "metadata": {},
   "source": [
    "## Dealing with NULL\n",
    "\n",
    "In every row, there can be NULL values, i.e. fields with unknown, missing values. Remember the Opel from our table with its missing price? This is exactly a NULL value. We simply don't know the price.\n",
    "\n",
    "To check whether a column has a value, we use a special instruction `IS NOT NULL`.\n",
    "\n",
    "\n",
    "Select all columns for each car whose price column isn't a `NULL` value."
   ]
  },
  {
   "cell_type": "markdown",
   "metadata": {
    "jupyter": {
     "source_hidden": true
    }
   },
   "source": [
    "```\n",
    "SELECT *\n",
    "FROM car\n",
    "WHERE price IS NOT NULL;\n",
    "```"
   ]
  },
  {
   "cell_type": "markdown",
   "metadata": {},
   "source": [
    "Remember, `NULL` is a special value. \n",
    "\n",
    "You can't use the equal sign to check whether something is `NULL`. \n",
    "\n",
    "It simply won't work. The opposite of `IS NOT NULL` is `IS NULL`.\n",
    "\n",
    "Now, as an exercise select all columns for each car whose price column has a NULL value."
   ]
  },
  {
   "cell_type": "markdown",
   "metadata": {
    "jupyter": {
     "source_hidden": true
    }
   },
   "source": [
    "```\n",
    "SELECT *\n",
    "FROM car\n",
    "WHERE price IS NULL;\n",
    "```"
   ]
  },
  {
   "cell_type": "markdown",
   "metadata": {},
   "source": [
    "### Comparisons with NULL\n",
    "\n",
    "\n",
    "Remember, `NULL` is a special value. It means that some piece of information is missing or unknown.\n",
    "\n",
    "If you set a condition on a particular column, say `age < 70`, the rows where the `age` column has a `NULL` value will always be excluded from the results. \n",
    "\n",
    "Let's check that in practice.\n",
    "\n",
    "In no way does `NULL` equal zero. What's more, the expression `NULL = NULL` is never true in SQL!\n",
    "\n",
    "\n",
    "As exercise, select all columns for cars whose price column is greater than or equal to zero.\n",
    "\n",
    "Note: that the Opel with an unknown price is not in the result.\n",
    "\n",
    "#### Show me the answer\n"
   ]
  },
  {
   "cell_type": "markdown",
   "metadata": {
    "jupyter": {
     "source_hidden": true
    }
   },
   "source": [
    "```\n",
    "SELECT *\n",
    "FROM car\n",
    "WHERE price >= 0;\n",
    "```"
   ]
  },
  {
   "cell_type": "markdown",
   "metadata": {},
   "source": [
    "### Basic mathematical operators\n",
    "\n",
    "\n",
    "We may now move on to our next problem: simple mathematics. Can you add or multiply numbers in SQL? \n",
    "\n",
    "Yes, you can! Take a look at the example:\n",
    "\n",
    "```\n",
    "SELECT *\n",
    "FROM user\n",
    "WHERE (monthly_salary * 12) > 50000;\n",
    "```\n",
    "\n",
    "In the above example, we multiply the monthly salary by 12 to get the annual salary by using the asterisk (*). We may then do whatever we want with the new value – in this case, we compare it with 50,000.\n",
    "\n",
    "In this way, you can add (`+`), subtract (`-`), multiply (`*`) and divide (`/`) numbers.\n",
    "\n",
    "As an exercise:\n",
    "\n",
    "Select all columns for cars with a tax amount over 2000.  The tax amount for all cars is 20% of their price.  Multiply the price by 0.2 to get the tax amount.\n",
    "\n",
    "### Show me the answer"
   ]
  },
  {
   "cell_type": "markdown",
   "metadata": {
    "jupyter": {
     "source_hidden": true
    }
   },
   "source": [
    "```\n",
    "SELECT *\n",
    "FROM car\n",
    "WHERE (price * 0.2) > 2000;\n",
    "```"
   ]
  },
  {
   "cell_type": "markdown",
   "metadata": {},
   "source": [
    "# Put it all together\n",
    "\n",
    "Now let's put together all the information we've learned so far. Let's imagine a customer who walks in and wants to know if we have any cars that meet his needs.\n",
    "\n",
    "### Exercise:\n",
    "\n",
    "Select all columns of those cars that:\n",
    "\n",
    "- were produced between 1999 and 2005,\n",
    "- are not Volkswagens,\n",
    "- have a model that begins with either 'P' or 'F',\n",
    "- have their price set.\n",
    "\n",
    "\n",
    "## Show me the answer"
   ]
  },
  {
   "cell_type": "markdown",
   "metadata": {
    "jupyter": {
     "source_hidden": true
    }
   },
   "source": [
    "```\n",
    "SELECT *\n",
    "FROM car\n",
    "WHERE production_year BETWEEN 1999 AND 2005\n",
    "  AND brand != 'Volkswagen'\n",
    "  AND (model LIKE 'P%' OR model LIKE 'F%')\n",
    "  AND price IS NOT NULL;\n",
    "```"
   ]
  },
  {
   "cell_type": "code",
   "execution_count": null,
   "metadata": {},
   "outputs": [],
   "source": []
  },
  {
   "cell_type": "code",
   "execution_count": null,
   "metadata": {},
   "outputs": [],
   "source": []
  }
 ],
 "metadata": {
  "kernelspec": {
   "display_name": "Python 3",
   "language": "python",
   "name": "python3"
  },
  "language_info": {
   "codemirror_mode": {
    "name": "ipython",
    "version": 3
   },
   "file_extension": ".py",
   "mimetype": "text/x-python",
   "name": "python",
   "nbconvert_exporter": "python",
   "pygments_lexer": "ipython3",
   "version": "3.7.3"
  }
 },
 "nbformat": 4,
 "nbformat_minor": 4
}
