{
 "cells": [
  {
   "cell_type": "markdown",
   "metadata": {},
   "source": [
    "# Window Functions, Part 1\n",
    "\n",
    "In this lesson, we're going to talk about `window functions` in PostgreSQL. \n",
    "\n",
    "SQL window functions make building complex aggregations much simpler. \n",
    "\n",
    "They are so powerful that they serve as a dividing point in time: people talk about SQL before window functions and SQL after window functions.\n",
    "\n",
    "After window functions and Common Table Expressions were introduced to the language, SQL has become [`Turing complete`](https://www.youtube.com/watch?v=RPQD7-AOjMI).\n",
    "\n",
    "Window functions are a relatively new addition to SQL.\n",
    "\n",
    "They were originally standardized with SQL:2003. \n",
    "\n",
    "Postgres has supported window functions since PostgreSQL 8.4. It was the first major database system to do so.\n",
    "\n",
    "We're going to start from the very beginning. \n",
    "\n",
    "Step by step, you will learn new elements that make up window functions. \n",
    "\n",
    "I hope that at the end of our course, you will take one more look at that scary example and think: this is now so easy!\n",
    "\n",
    "## What is a window function exactly? \n",
    "\n",
    "It is a function that performs calculations across a set of table rows. \n",
    "\n",
    "The rows are somehow related to the current row.\n",
    "\n",
    "For example, with window functions you can compute sum of values in the current row, one before and one after, as in the [picture](https://learnsql.com/static/postgresql-window-functions-window-functions-part2-ex4.gif):\n",
    "\n",
    "<img src = 'https://learnsql.com/static/postgresql-window-functions-window-functions-part2-ex4.gif'>\n",
    "\n",
    "\n",
    "\n",
    "We call it window functions precisely because the set of rows is called a window or a window frame. Take a look at the syntax:\n",
    "\n",
    "````\n",
    "<window_function> OVER (...)\n",
    "````\n",
    "\n",
    "`<window_function>` can be an aggregate function that you already know (`COUNT()`, `SUM()`, `AVG()` etc.), or another function, such as a ranking or an analytical function that you'll get to know in the coming lectures.\n",
    "\n",
    "The window frame is defined in the `OVER(...)` clause. \n",
    "\n",
    "The large part of the course explains how to define the window frame with `OVER(...)`. T\n",
    "\n",
    "This is what we're going to talk about in the next section.\n",
    "\n",
    "\n",
    "But first, let's get our schema\n",
    "\n",
    "https://www.db-fiddle.com/f/7FpnuSLVbfMFScZzCR2nsa/0\n",
    "\n",
    "Here's the schema:\n",
    "\n",
    "```\n",
    "\n",
    "CREATE TABLE IF NOT EXISTS \"employee\" (\n",
    "    \"id\" INT,\n",
    "    \"first_name\" TEXT,\n",
    "    \"last_name\" TEXT,\n",
    "    \"department_id\" INT,\n",
    "    \"salary\" INT,\n",
    "    \"years_worked\" INT\n",
    ");\n",
    "INSERT INTO \"employee\" VALUES\n",
    "    (1,'Diane','Turner',1,5330,4),\n",
    "    (2,'Clarence','Robinson',1,3617,2),\n",
    "    (3,'Eugene','Phillips',1,4877,2),\n",
    "    (4,'Philip','Mitchell',1,5259,3),\n",
    "    (5,'Ann','Wright',2,2094,5),\n",
    "    (6,'Charles','Wilson',2,5167,5),\n",
    "    (7,'Russell','Johnson',2,3762,4),\n",
    "    (8,'Jacqueline','Cook',2,6923,3),\n",
    "    (9,'Larry','Lee',3,2796,4),\n",
    "    (10,'Willie','Patterson',3,4771,5),\n",
    "    (11,'Janet','Ramirez',3,3782,2),\n",
    "    (12,'Doris','Bryant',3,6419,1),\n",
    "    (13,'Amy','Williams',3,6261,1),\n",
    "    (14,'Keith','Scott',3,4928,8),\n",
    "    (15,'Karen','Morris',4,6347,6),\n",
    "    (16,'Kathy','Sanders',4,6286,1),\n",
    "    (17,'Joe','Thompson',5,5639,3),\n",
    "    (18,'Barbara','Clark',5,3232,1),\n",
    "    (19,'Todd','Bell',5,4653,1),\n",
    "    (20,'Ronald','Butler',5,2076,5);\n",
    "\n",
    "CREATE TABLE IF NOT EXISTS \"department\" (\n",
    "    \"id\" INT,\n",
    "    \"name\" TEXT\n",
    ");\n",
    "INSERT INTO \"department\" VALUES\n",
    "    (1,'IT'),\n",
    "    (2,'Management'),\n",
    "    (3,'Human Resources'),\n",
    "    (4,'Accounting'),\n",
    "    (5,'Help Desk');\n",
    "    \n",
    "CREATE TABLE IF NOT EXISTS \"purchase\" (\n",
    "    \"id\" INT,\n",
    "    \"department_id\" INT,\n",
    "    \"item\" TEXT,\n",
    "    \"price\" INT\n",
    ");\n",
    "INSERT INTO \"purchase\" VALUES\n",
    "    (1,4,'monitor',531),\n",
    "    (2,1,'printer',315),\n",
    "    (3,3,'whiteboard',170),\n",
    "    (4,5,'training',117),\n",
    "    (5,3,'computer',2190),\n",
    "    (6,1,'monitor',418),\n",
    "    (7,3,'whiteboard',120),\n",
    "    (8,3,'monitor',388),\n",
    "    (9,5,'paper',37),\n",
    "    (10,1,'paper',695),\n",
    "    (11,3,'projector',407),\n",
    "    (12,4,'garden party',986),\n",
    "    (13,5,'projector',481),\n",
    "    (14,2,'chair',180),\n",
    "    (15,2,'desk',854),\n",
    "    (16,2,'post-it',15),\n",
    "    (17,3,'paper',60),\n",
    "    (18,2,'tv',943),\n",
    "    (19,2,'desk',478),\n",
    "    (20,5,'keyboard',214);\n",
    "\n",
    "```\n"
   ]
  },
  {
   "cell_type": "markdown",
   "metadata": {},
   "source": [
    "# `OVER()`\n",
    "\n",
    "Let's start by focusing on `OVER (...)`, which defines the window. \n",
    "\n",
    "The most basic example is `OVER()` and means that the window consists of all rows in the query. Take a look:\n",
    "\n",
    "```\n",
    "SELECT\n",
    "  first_name,\n",
    "  last_name,\n",
    "  salary,  \n",
    "  AVG(salary) OVER()\n",
    "FROM employee;\n",
    "```\n",
    "\n",
    "\n",
    "That's not a very complicated query, but take a look at the last column:\n",
    "\n",
    "```\n",
    "AVG(salary) OVER()\n",
    "```\n",
    "\n",
    "`AVG(salary)` means we're looking for the average salary. \n",
    "\n",
    "Where exactly? \n",
    "\n",
    "Everywhere we can, because `OVER()` means 'for all rows in the query result'. \n",
    "\n",
    "In others words, we're looking for the average salary in the entire company.\n",
    "\n",
    "Note that we did NOT group rows. \n",
    "\n",
    "`OVER()` makes it possible to show the details of single rows and the result of an aggregating function together. \n",
    "\n",
    "That wouldn't be so easy with GROUP BY — we would have to write a subquery, which is more complicated and less effective. \n",
    "\n",
    "`OVER()` makes our work simple and efficient at the same time.\n",
    "\n",
    "# Exercise\n",
    "\n",
    "\n",
    "Now it's your turn to write a window function. For each employee, find their first name, last name, salary and the sum of all salaries in the company.\n",
    "\n",
    "Note that the last column is an aggregated column, even though you're not using a `GROUP BY`.\n",
    "\n"
   ]
  },
  {
   "cell_type": "markdown",
   "metadata": {
    "jupyter": {
     "source_hidden": true
    }
   },
   "source": [
    "```\n",
    "SELECT\n",
    "  first_name,\n",
    "  last_name,\n",
    "  salary,\n",
    "  SUM(salary) OVER()\n",
    "FROM employee;\n",
    "```"
   ]
  },
  {
   "cell_type": "markdown",
   "metadata": {},
   "source": [
    "# Exercise\n",
    "\n",
    "For each item in the purchase table, select its name (column item), price and the average price of all items."
   ]
  },
  {
   "cell_type": "markdown",
   "metadata": {
    "jupyter": {
     "source_hidden": true
    }
   },
   "source": [
    "```\n",
    "SELECT\n",
    "  item,\n",
    "  price,\n",
    "  AVG(price) OVER()\n",
    "FROM purchase;\n",
    "```"
   ]
  },
  {
   "cell_type": "markdown",
   "metadata": {},
   "source": [
    "# Computations with OVER()\n",
    "\n",
    "Typically,`OVER()` is used to compare the current row with an aggregate. \n",
    "\n",
    "For example, we can compute the difference between employee's salary and the average salary. Actually, why don't we calculate the difference between these two values? \n",
    "\n",
    "Take a look:\n",
    "\n",
    "```\n",
    "SELECT\n",
    "  first_name,\n",
    "  last_name,\n",
    "  salary,\n",
    "  AVG(salary) OVER(),\n",
    "  salary - AVG(salary) OVER() as difference\n",
    "FROM employee;\n",
    "```\n",
    "\n",
    "The last column shows the difference between the employee's salary and the average salary. That's the typical usage of window functions: compare the current row with an aggregate for a group of rows. With window functions you can do such comparisons with one simple query.\n",
    "\n",
    "# Exercise\n",
    "\n",
    "For each employee in table employee, select first and last name, years_worked, average of years spent in the company by all employees, and the difference between the years_worked and the average as difference."
   ]
  },
  {
   "cell_type": "markdown",
   "metadata": {
    "jupyter": {
     "source_hidden": true
    }
   },
   "source": [
    "```\n",
    "SELECT\n",
    "  first_name,\n",
    "  last_name,\n",
    "  years_worked,\n",
    "  AVG(years_worked) OVER(),\n",
    "  years_worked - AVG(years_worked) OVER() AS difference\n",
    "FROM employee;\n",
    "```"
   ]
  },
  {
   "cell_type": "markdown",
   "metadata": {},
   "source": [
    "# Computations with OVER() - exercise 2\n",
    "\n",
    "Now, take a look at another interesting example:\n",
    "\n",
    "```\n",
    "SELECT\n",
    "  id,\n",
    "  item,\n",
    "  price,\n",
    "  price::numeric / SUM(price) OVER()\n",
    "FROM purchase\n",
    "WHERE department_id = 2;\n",
    "```\n",
    "\n",
    "In the above query, we show all purchases from the department with id = 2. \n",
    "\n",
    "Note that we divide the price of the item purchased by the total price of all items purchased by that department. \n",
    "\n",
    "In this way, we can check what part of all expenditures each purchase constitutes.\n",
    "\n",
    "## Exercise\n",
    "\n",
    "For all employees from department with department_id = 3, show their:\n",
    "\n",
    "- first_name.\n",
    "- last_name.\n",
    "- salary.\n",
    "- the difference of their salary to the average of all salaries in that department as difference."
   ]
  },
  {
   "cell_type": "markdown",
   "metadata": {
    "jupyter": {
     "source_hidden": true
    }
   },
   "source": [
    "```\n",
    "SELECT\n",
    "  first_name,\n",
    "  last_name,\n",
    "  salary,\n",
    "  salary - AVG(salary) OVER() AS difference\n",
    "FROM employee\n",
    "WHERE department_id = 3;\n",
    "```"
   ]
  },
  {
   "cell_type": "markdown",
   "metadata": {},
   "source": [
    "# OVER() and COUNT()\n",
    "\n",
    "You can use all aggregate functions with OVER(). Let's try an example with COUNT:\n",
    "\n",
    "```\n",
    "SELECT \n",
    "  id, \n",
    "  name, \n",
    "  COUNT(id) OVER()\n",
    "FROM department\n",
    "ORDER BY name ASC;\n",
    "```\n",
    "\n",
    "Here, we show the id and name of each department, plus the number of all departments. At the end, we sort the rows by name.\n",
    "\n",
    "## Exercise\n",
    "\n",
    "For each employee that earns more than 4000, show their first_name, last_name, salary and the number of all employees who earn more than 4000."
   ]
  },
  {
   "cell_type": "markdown",
   "metadata": {
    "jupyter": {
     "source_hidden": true
    }
   },
   "source": [
    "```\n",
    "SELECT\n",
    "  first_name,\n",
    "  last_name,\n",
    "  salary,\n",
    "  COUNT(id) OVER()\n",
    "FROM employee\n",
    "WHERE salary > 4000;\n",
    "```"
   ]
  },
  {
   "cell_type": "markdown",
   "metadata": {},
   "source": [
    "The concept of pure OVER() might seem easy, but let's do a few more questions to be on the safe side before we move on to more complex things.\n",
    "\n",
    "## Exercise\n",
    "\n",
    "For each purchase with department_id = 3, show its:\n",
    "\n",
    "- id.\n",
    "- department_id.\n",
    "- item.\n",
    "- price.\n",
    "- maximum price from all purchases in this department.\n",
    "- the difference between the maximum price and the price.\n",
    "\n"
   ]
  },
  {
   "cell_type": "markdown",
   "metadata": {
    "jupyter": {
     "source_hidden": true
    }
   },
   "source": [
    "```\n",
    "SELECT\n",
    "  id,\n",
    "  department_id,\n",
    "  item,\n",
    "  price,\n",
    "  MAX(price) OVER(),\n",
    "  MAX(price) OVER() - price AS difference\n",
    "FROM purchase\n",
    "WHERE department_id = 3;\n",
    "```"
   ]
  },
  {
   "cell_type": "markdown",
   "metadata": {},
   "source": [
    "## Exercise\n",
    "\n",
    "For each purchase from any department, show its id, item, price, average price and the sum of all prices in that table."
   ]
  },
  {
   "cell_type": "markdown",
   "metadata": {
    "jupyter": {
     "source_hidden": true
    }
   },
   "source": [
    "```\n",
    "SELECT\n",
    "  id,\n",
    "  item,\n",
    "  price,\n",
    "  AVG(price) OVER(),\n",
    "  SUM(price) OVER()\n",
    "FROM purchase;\n",
    "```"
   ]
  },
  {
   "cell_type": "markdown",
   "metadata": {},
   "source": [
    "# Range of OVER()\n",
    "\n",
    "Of course, you can add a `WHERE` clause just as you do in any other query:\n",
    "\n",
    "```\n",
    "SELECT\n",
    "  first_name,\n",
    "  last_name,\n",
    "  salary,\n",
    "  AVG(salary) OVER(),\n",
    "  salary - AVG(salary) OVER()\n",
    "FROM employee\n",
    "WHERE department_id = 1;\n",
    "```\n",
    "\n",
    "Now, we only calculate the salaries in the department with id = 1. \n",
    "\n",
    "Two exercises ago, we said that OVER() means 'for all rows in the query result'. \n",
    "\n",
    "This 'in the query result' part is very important – window functions work only on the rows returned by the query.\n",
    "\n",
    "Here, this means we'll get the salary of each IT department employee and the average salary in that department, and not in the entire company.\n",
    "\n",
    "That's a very important rule which you need to remember. \n",
    "\n",
    "Window functions are always executed AFTER the WHERE clause, so they work on whatever they find as the result.\n",
    "\n",
    "\n",
    "## Exercise\n",
    "\n",
    "Show the first_name, last_name and salary of every person who works in departments with id 1, 2 or 3, along with the average salary calculated in those three departments.\n",
    "\n",
    "\n"
   ]
  },
  {
   "cell_type": "markdown",
   "metadata": {
    "jupyter": {
     "source_hidden": true
    }
   },
   "source": [
    "```\n",
    "SELECT\n",
    "  first_name,\n",
    "  last_name,\n",
    "  salary,\n",
    "  AVG(salary) OVER()\n",
    "FROM employee\n",
    "WHERE department_id IN (1, 2, 3);\n",
    "```"
   ]
  },
  {
   "cell_type": "markdown",
   "metadata": {},
   "source": [
    "# OVER and WHERE\n",
    "\n",
    "Now, it might be tempting to use window functions in a WHERE clause, as in the example:\n",
    "\n",
    "```\n",
    "SELECT\n",
    "  first_name,\n",
    "  last_name,\n",
    "  salary,\n",
    "  AVG(salary) OVER()\n",
    "FROM employee\n",
    "WHERE salary > AVG(salary) OVER();\n",
    "```\n",
    "\n",
    "However, when you run this query, you'll get an error message. \n",
    "\n",
    "You cannot put window functions in WHERE.\n",
    "\n",
    "Why? \n",
    "\n",
    "The window functions is applied after the rows are selected. \n",
    "\n",
    "If the window functions were in a WHERE clause, you'd get a circular dependency: in order to compute the window function, you have to filter the rows with WHERE, which requires to compute the window function."
   ]
  },
  {
   "cell_type": "markdown",
   "metadata": {},
   "source": [
    "# Summary\n",
    "\n",
    "Let's review what we've learned so far.\n",
    "\n",
    "- Use <window_function> OVER() to compute an aggregate for all rows in the query result.\n",
    "- The window functions is applied after the rows are filtered by WHERE.\n",
    "- The window functions are used to compute aggregates but keep details of individual rows at the same time.\n",
    "- You can't use window functions in WHERE clauses."
   ]
  },
  {
   "cell_type": "markdown",
   "metadata": {},
   "source": [
    "# `OVER(PARTITION BY)` \n",
    "\n",
    "Here's a link to the fiddle for the next half of the class: https://www.db-fiddle.com/f/rsFrn1e6DDuPjRZVz95mqP/0\n",
    "\n",
    "\n",
    "\n",
    "Earlier I taught you the simplest window function type – an aggregate with OVER(). \n",
    "\n",
    "In that case, the window consisted of all the rows in the query result. \n",
    "\n",
    "Next, I'll show you how you can change that window.\n",
    "\n",
    "Here's a quick description about the tables:\n",
    "\n",
    "### Train Table\n",
    "\n",
    "Select all the information from the table train.\n",
    "\n",
    "Each train has an id, model, maximum speed expressed in km/h, production year, the number of first class seats and second class seats. Pretty intuitive, right?\n",
    "\n",
    "\n",
    "### Route Table\n",
    "\n",
    "A route in our system is, in other words, a railroad connection between point A and B.\n",
    "\n",
    "Each route has its own id, its friendly name, the from_city and the to_city, as well as the distance between these two cities in kilometers.\n",
    "\n",
    "For simplicity, we assume that we only have intercity trains, i.e. there are no stations between from_city and to_city where the train could stop.\n",
    "\n",
    "### Journey Table\n",
    "\n",
    "Select all the information from the table journey.\n",
    "\n",
    "Journey in our database is what passengers can buy tickets for. Each journey has its own id, is operated by a certain train, goes via a certain route on a certain day.\n",
    "\n",
    "Take a look at the first row: if you had wanted to go from Sheffield to Manchester with train 1 on 3 Jan 2016, you would have bought a ticket for journey with id 1.\n",
    "\n",
    "### Ticket Table\n",
    "\n",
    "Finally, there are tickets. Each ticket has its own id, price, seat class (1st or 2nd class) and the journey id for which it was bought. Show all these columns.\n",
    "\n"
   ]
  },
  {
   "cell_type": "markdown",
   "metadata": {},
   "source": [
    "# PARTITION BY\n",
    "\n",
    "In this part, we'll learn one construction which can be put in OVER(), namely PARTITION BY. T\n",
    "\n",
    "he basic syntax looks like this:\n",
    "\n",
    "```\n",
    "<window_function> OVER (PARTITION BY column1, column2 ... column_n)\n",
    "```\n",
    "\n",
    "PARTITION BY works in a similar way as GROUP BY: it partitions the rows into groups, based on the columns in PARTITION BY clause. Unlike GROUP BY, PARTITION BY does not collapse rows.\n",
    "\n",
    "Let's see the example. \n",
    "\n",
    "For each train, the query returns its id, model, first_class_places and the sum of first class places from the same models of trains.\n",
    "\n",
    "<img src = 'https://learnsql.com/static/postgresql-window-functions-window-functions-part3-ex5.png'>\n",
    "\n",
    "\n",
    "With PARTITION BY, you can easily compute the statistics for the whole group but keep details about individual rows.\n",
    "\n",
    "What functions can you use with PARTITION BY? \n",
    "\n",
    "You can use an aggregate function that you already know (COUNT(), SUM(), AVG(), etc.), or another function, such as a ranking or an analytical function that you'll get to know in the coming lectures.\n",
    "\n",
    "Within parentheses, in turn, we've now put PARTITION BY, followed by the columns by which we want to partition (group).\n",
    "\n",
    "```\n",
    "SELECT\n",
    "  id,\n",
    "  model,\n",
    "  first_class_places,\n",
    "  SUM(first_class_places) OVER (PARTITION BY model)\n",
    "FROM train;\n",
    "```\n",
    "\n",
    "As you can see, the query works fine. \n",
    "\n",
    "Imagine writing the same query using regular GROUP BY: you'd have to use a correlated subquery and a JOIN. \n",
    "\n",
    "The query would neither be readable nor efficient.\n",
    "\n",
    "We no longer want to pay that price and PARTITION BY is the solution. \n",
    "\n",
    "Thanks to PARTITION BY, we can easily get the information about individual rows AND the information about the groups these rows belong to. \n",
    "\n",
    "# Exercise\n",
    "\n",
    "Show the id of each journey, its date and the number of journeys that took place on that date."
   ]
  },
  {
   "cell_type": "markdown",
   "metadata": {
    "jupyter": {
     "source_hidden": true
    }
   },
   "source": [
    "```\n",
    "SELECT\n",
    "  id,\n",
    "  date,\n",
    "  COUNT(id) OVER(PARTITION BY date)\n",
    "FROM journey;\n",
    "```"
   ]
  },
  {
   "cell_type": "markdown",
   "metadata": {},
   "source": [
    "# Range of OVER(PARTITION BY)\n",
    "\n",
    "Remember: window functions only work for those rows which are indeed returned by the query. Take a look at this query:\n",
    "\n",
    "```\n",
    "SELECT\n",
    "  id,\n",
    "  model,\n",
    "  max_speed,\n",
    "  COUNT(id) OVER (PARTITION BY max_speed)\n",
    "FROM train\n",
    "WHERE production_year != 2012;\n",
    "```\n",
    "\n",
    "\n",
    "We cut out the trains with production_year = 2012 and the query would not show them – that's pretty obvious. \n",
    "\n",
    "But the window function would not even count them – we could find out that there are only 2 trains with max_speed = 240, even though there is a third one which was produced in 2012. \n",
    "\n",
    "Note that a GROUP BY clause with a WHERE clause will behave in the same way – GROUP BY will only take into account rows which match the condition(s).\n",
    "\n",
    "# Exercise\n",
    "\n",
    "Show id, model,first_class_places, second_class_places, and the number of trains of each model with more than 30 first class places and more than 180 second class places."
   ]
  },
  {
   "cell_type": "markdown",
   "metadata": {
    "jupyter": {
     "source_hidden": true
    }
   },
   "source": [
    "```\n",
    "SELECT\n",
    "  id,\n",
    "  model,\n",
    "  first_class_places,\n",
    "  second_class_places,\n",
    "  COUNT(id) OVER (PARTITION BY model)\n",
    "FROM train\n",
    "WHERE first_class_places > 30\n",
    "  AND second_class_places > 180;\n",
    "```"
   ]
  },
  {
   "cell_type": "markdown",
   "metadata": {},
   "source": [
    "# PARTITION BY MULTIPLE COLUMNS\n",
    "\n",
    "Of course, you can partition rows by multiple columns. \n",
    "\n",
    "Take a look:\n",
    "\n",
    "```\n",
    "SELECT\n",
    "  route_id,\n",
    "  ticket.id,\n",
    "  ticket.price,\n",
    "  SUM(price) OVER (PARTITION BY route_id, date)\n",
    "FROM ticket\n",
    "JOIN journey\n",
    "ON ticket.journey_id = journey.id;\n",
    "```\n",
    "\n",
    "We wanted to show each ticket with the sum of all tickets on the particular route on the particular date. \n",
    "\n",
    "Neither of the tables would suffice on its own, so we had to join them together to get all the columns.\n",
    "\n",
    "\n",
    "# Exercise\n",
    "\n",
    "Show the id of each journey, the date on which it took place, the model of the train that was used, the max_speed of that train and the highest max_speed from all the trains that ever went on the same route on the same day."
   ]
  },
  {
   "cell_type": "markdown",
   "metadata": {
    "jupyter": {
     "source_hidden": true
    }
   },
   "source": [
    "```\n",
    "SELECT\n",
    "  journey.id,\n",
    "  journey.date,\n",
    "  train.model,\n",
    "  train.max_speed,\n",
    "  MAX(max_speed) OVER(PARTITION BY route_id, date)\n",
    "FROM journey\n",
    "JOIN train\n",
    "  ON journey.train_id = train.id;\n",
    "```"
   ]
  },
  {
   "cell_type": "markdown",
   "metadata": {},
   "source": [
    "# Summary\n",
    "\n",
    "Let's review what we've learned in this part:\n",
    "\n",
    "- `OVER(PARTITION BY x)` works in a similar way to GROUP BY, defining the window as all the rows in the query result that have the same value in x.\n",
    "\n",
    "- `x` can be a single column or multiple columns separated by commas."
   ]
  },
  {
   "cell_type": "markdown",
   "metadata": {},
   "source": [
    "# Homework\n",
    "\n",
    "Use the following schema (same as the first half of the class) for the next two question:\n",
    "\n",
    "https://www.db-fiddle.com/f/7FpnuSLVbfMFScZzCR2nsa/0"
   ]
  },
  {
   "cell_type": "markdown",
   "metadata": {},
   "source": [
    "# Exercise\n",
    "\n",
    "For each employee from department with id 1, 3 or 5, show their first name, last name, years_worked and the average number of years_worked in those departments."
   ]
  },
  {
   "cell_type": "markdown",
   "metadata": {
    "jupyter": {
     "source_hidden": true
    }
   },
   "source": [
    "```\n",
    "SELECT\n",
    "  first_name,\n",
    "  last_name,\n",
    "  years_worked,\n",
    "  AVG(years_worked) OVER()\n",
    "FROM employee\n",
    "WHERE department_id IN (1, 3, 5);\n",
    "```"
   ]
  },
  {
   "cell_type": "markdown",
   "metadata": {},
   "source": [
    "# Exercise\n",
    "\n",
    "For each purchase, show its:\n",
    "\n",
    "- id.\n",
    "- the name of the department.\n",
    "- the item.\n",
    "- the price.\n",
    "- the minimum price from all the rows in the query result.\n",
    "- the difference between the price and the minimum price."
   ]
  },
  {
   "cell_type": "markdown",
   "metadata": {
    "jupyter": {
     "source_hidden": true
    }
   },
   "source": [
    "```\n",
    "SELECT\n",
    "  purchase.id,\n",
    "  name,\n",
    "  item,\n",
    "  price,\n",
    "  MIN(price) OVER(),\n",
    "  price - MIN(price) OVER()\n",
    "FROM purchase\n",
    "JOIN department\n",
    "  ON purchase.department_id = department.id;\n",
    "```"
   ]
  },
  {
   "cell_type": "markdown",
   "metadata": {},
   "source": [
    "# PARTITION BY HW\n",
    "\n",
    "Using the following schemas for the homework problems about PARTITION BY: https://www.db-fiddle.com/f/rsFrn1e6DDuPjRZVz95mqP/0\n"
   ]
  },
  {
   "cell_type": "markdown",
   "metadata": {},
   "source": [
    "# Exercise\n",
    "\n",
    "For each journey, show its id, the production_year of the train on that journey, the number of journeys the train took and the number of journeys on the same route.\n",
    "\n"
   ]
  },
  {
   "cell_type": "markdown",
   "metadata": {
    "jupyter": {
     "source_hidden": true
    }
   },
   "source": [
    "```\n",
    "SELECT\n",
    "  journey.id,\n",
    "  production_year,\n",
    "  COUNT(journey.id) OVER(PARTITION BY train_id),\n",
    "  COUNT(journey.id) OVER(PARTITION BY route_id)\n",
    "FROM train\n",
    "JOIN journey\n",
    "  ON train.id = journey.train_id;\n",
    "```"
   ]
  },
  {
   "cell_type": "markdown",
   "metadata": {},
   "source": [
    "# Exercise\n",
    "\n",
    "For each ticket, show its id, price, date of its journey, the average price of tickets sold on that day and the number of tickets sold on that day. Exclude journeys with train_id = 5."
   ]
  },
  {
   "cell_type": "markdown",
   "metadata": {},
   "source": [
    "```\n",
    "SELECT\n",
    "  ticket.id,\n",
    "  date,\n",
    "  price,\n",
    "  AVG(price) OVER(PARTITION BY date),\n",
    "  COUNT(ticket.id) OVER(PARTITION BY date)\n",
    "FROM ticket\n",
    "JOIN journey\n",
    "  ON ticket.journey_id = journey.id\n",
    "WHERE train_id != 5;\n",
    "```"
   ]
  },
  {
   "cell_type": "markdown",
   "metadata": {},
   "source": [
    "# Exercise\n",
    "\n",
    "For each ticket, show its id, price and, the column named ratio. The ratio is the ticket price to the sum of all ticket prices purchased on the same journey.\n",
    "\n"
   ]
  },
  {
   "cell_type": "markdown",
   "metadata": {
    "jupyter": {
     "source_hidden": true
    }
   },
   "source": [
    "```\n",
    "SELECT\n",
    "  id,\n",
    "  price,\n",
    "  price::numeric / SUM(price) OVER (PARTITION BY journey_id) AS ratio\n",
    "FROM ticket;\n",
    "```"
   ]
  },
  {
   "cell_type": "markdown",
   "metadata": {},
   "source": [
    "Use this fiddle for the next couple of exercises: https://www.db-fiddle.com/f/hAm1rR8KearmtEKi3Lpwah/1"
   ]
  },
  {
   "cell_type": "markdown",
   "metadata": {},
   "source": [
    "# Exercise\n",
    "\n",
    "For each employee, show their first_name, last_name, department, salary, as well as the minimal and maximal salary in that department."
   ]
  },
  {
   "cell_type": "markdown",
   "metadata": {
    "jupyter": {
     "source_hidden": true
    }
   },
   "source": [
    "```\n",
    "SELECT\n",
    "  first_name,\n",
    "  last_name,\n",
    "  department,\n",
    "  salary,\n",
    "  MIN(salary) OVER(PARTITION BY department),\n",
    "  MAX(salary) OVER(PARTITION BY department)\n",
    "FROM employee;\n",
    "```"
   ]
  },
  {
   "cell_type": "markdown",
   "metadata": {},
   "source": [
    "# Exercise\n",
    "\n",
    "For each employee, show their first_name, last_name, department, salary and the proportion of their salary to the sum of all salaries in that department. To avoid the integer division remember to cast the dividend to numeric."
   ]
  },
  {
   "cell_type": "markdown",
   "metadata": {
    "jupyter": {
     "source_hidden": true
    }
   },
   "source": [
    "```\n",
    "SELECT\n",
    "  first_name,\n",
    "  last_name,\n",
    "  department,\n",
    "  salary,\n",
    "  salary::numeric / SUM(salary) OVER(partition by department)\n",
    "FROM employee;\n",
    "```"
   ]
  },
  {
   "cell_type": "code",
   "execution_count": null,
   "metadata": {},
   "outputs": [],
   "source": []
  }
 ],
 "metadata": {
  "kernelspec": {
   "display_name": "Python 3",
   "language": "python",
   "name": "python3"
  },
  "language_info": {
   "codemirror_mode": {
    "name": "ipython",
    "version": 3
   },
   "file_extension": ".py",
   "mimetype": "text/x-python",
   "name": "python",
   "nbconvert_exporter": "python",
   "pygments_lexer": "ipython3",
   "version": "3.7.3"
  }
 },
 "nbformat": 4,
 "nbformat_minor": 4
}
