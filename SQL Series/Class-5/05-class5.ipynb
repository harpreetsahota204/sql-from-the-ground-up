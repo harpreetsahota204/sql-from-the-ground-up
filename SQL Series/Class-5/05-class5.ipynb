{
 "cells": [
  {
   "cell_type": "markdown",
   "metadata": {},
   "source": [
    "In the next few lessons, we're going to learn about some commonly used SQL functions!\n",
    "\n",
    "We're going to start with some basic PostgreSQL string functions. These will help you manipulate text values in your queries, and you'll learn how to:\n",
    "\n",
    "- Concatenate (combine) multiple text values into one.\n",
    "- Convert text to uppercase and lowercase.\n",
    "- Convert text to display characters in reverse order.\n",
    "- Select substrings and find their position in a string.\n",
    "- Find the length of a string.\n",
    "- Trim a string.\n",
    "- Replace parts of a string.\n",
    "\n",
    "\n",
    "We're going to be using `DB Fiddle` for this course. \n",
    "\n",
    "Navigate to: https://www.db-fiddle.com/\n",
    "\n",
    "In the top right corner of the webpage, be sure to select `Database: PostgreSQL 13`\n",
    "\n",
    "Now, in the `Schema SQL` pane on the left copy and paste the following, or just click this link here: https://www.db-fiddle.com/f/qXoBEtwVAPzRaN4UxWNjMm/1\n",
    "\n",
    "```\n",
    "CREATE TABLE IF NOT EXISTS \"item\" (\n",
    "    \"id\" INT,\n",
    "    \"name\" TEXT,\n",
    "    \"type\" TEXT\n",
    ");\n",
    "INSERT INTO \"item\" VALUES\n",
    "    (1,'WashPow(d)er','washing powder'),\n",
    "    (2,'riVer Flow','non-alcoholic cocktail'),\n",
    "    (3,'Vacum2000','vacuum cleaner'),\n",
    "    (4,'TripCare','backpack'),\n",
    "    (5,'Vacum2010',null);\n",
    "\n",
    "CREATE TABLE IF NOT EXISTS \"slogan\" (\n",
    "    \"id\" INT,\n",
    "    \"item_id\" INT,\n",
    "    \"type\" TEXT,\n",
    "    \"text\" TEXT,\n",
    "    \"copywriter_id\" INT\n",
    ");\n",
    "INSERT INTO \"slogan\" VALUES\n",
    "    (1,1,'tv commercial','Feel the difference. Feel the powder.',3),\n",
    "    (2,2,'tv commercial','Get enthusiastic - even without alcohol.',6),\n",
    "    (3,3,'tv commercial','Cleaning the apartment is a matter of seconds.',8),\n",
    "    (4,4,'tv commercial','You''ll simply love it.',4),\n",
    "    (5,1,'Internet ad','Powderful experience.',2),\n",
    "    (6,3,'Internet ad','Cleaning your house has never been so easy.',5),\n",
    "    (7,2,'newspaper ad','Pleasure and responsibility come together.',7),\n",
    "    (8,4,'newspaper ad','Each traveller''s choice.',1);\n",
    "    \n",
    "    CREATE TABLE IF NOT EXISTS \"copywriter\" (\n",
    "    \"id\" INT,\n",
    "    \"first_name\" TEXT,\n",
    "    \"last_name\" TEXT\n",
    ");\n",
    "INSERT INTO \"copywriter\" VALUES\n",
    "    (1,'Olivier','Norris'),\n",
    "    (2,'Anne','Sharp'),\n",
    "    (3,'Kate','Gordon'),\n",
    "    (4,'Penelope','Stone'),\n",
    "    (5,'Mark','Ratliff'),\n",
    "    (6,'Alexander','Turner'),\n",
    "    (7,'Angela','Bowen'),\n",
    "    (8,'Patricia','Lawrence'),\n",
    "    (9,null,'Lawrence');\n",
    "```\n",
    "\n"
   ]
  },
  {
   "cell_type": "markdown",
   "metadata": {},
   "source": [
    "# The concatenation || operator\n",
    "\n",
    "Okay, let's begin. \n",
    "\n",
    "First, we'll need a new operator: `||`. \n",
    "\n",
    "These two vertical bars are the concatenation operator, i.e., they join two or more text values (or strings, which is another name for text). \n",
    "\n",
    "If you write the following:\n",
    "\n",
    "```\n",
    "SELECT first_name || last_name\n",
    "FROM copywriter;\n",
    "```\n",
    "\n",
    "\n",
    "The result for first_name = 'Kate' and last_name = 'Gordon' will be KateGordon, all in a single column. Quite simple, right?\n",
    "\n",
    "Of course we want the first and last name separated with a space. \n",
    "\n",
    "Here's how you do it:\n",
    "\n",
    "```\n",
    "SELECT first_name || ' ' || last_name\n",
    "FROM copywriter;\n",
    "```\n",
    "\n",
    "\n",
    "Note that you use apostrophes for specific constant text values (a space in our example: ' '), but you don't use apostrophes for column names (first_name, last_name). \n",
    "\n",
    "The operator || can be used as many times as you need in a single query.\n",
    "\n",
    "### Exercise\n",
    "\n",
    "For each item, select its name, type, and in the third column named slogan_type both values joined by a dash ('-').\n",
    "\n",
    "Observe that if the name or type is NULL, then the slogan_type is also NULL.\n",
    "\n",
    "\n"
   ]
  },
  {
   "cell_type": "markdown",
   "metadata": {
    "jupyter": {
     "source_hidden": true
    }
   },
   "source": [
    "```\n",
    "SELECT\n",
    "  name,\n",
    "  type,\n",
    "  name || '-'  || type AS slogan_type\n",
    "FROM item;\n",
    "```"
   ]
  },
  {
   "cell_type": "markdown",
   "metadata": {},
   "source": [
    "# The CONCAT() function\n",
    "\n",
    "You can use the || operator to concatenate string values, but it is not the only way. \n",
    "\n",
    "PostgreSQL also provides the CONCAT() function. \n",
    "\n",
    "Here is how to use CONCAT() to join a slogan's id, type, and copywriter_id:\n",
    "\n",
    "```\n",
    "SELECT CONCAT(id, ' ', type, ' ', copywriter_id) AS slogan\n",
    "FROM slogan;\n",
    "```\n",
    "\n",
    "Notice that we included spaces as constant values here as well.\n",
    "\n",
    "### Exercise\n",
    "\n",
    "For each item, show the following sentence:\n",
    "\n",
    "`ID X is Y.`\n",
    "\n",
    "Where X is the id of the item and Y is its name. Name the new column item_name."
   ]
  },
  {
   "cell_type": "markdown",
   "metadata": {
    "jupyter": {
     "source_hidden": true
    }
   },
   "source": [
    "```\n",
    "SELECT CONCAT('ID ', id, ' is ', name, '.') AS item_name\n",
    "FROM item;\n",
    "```"
   ]
  },
  {
   "cell_type": "markdown",
   "metadata": {},
   "source": [
    "# The || operator vs the CONCAT() function\n",
    "\n",
    "\n",
    "You know two ways to concatenate values: the `||` operator and the `CONCAT()` function. \n",
    "\n",
    "What is the difference between them?\n",
    "\n",
    "Think back to using the `||` operator. \n",
    "\n",
    "When there was a NULL value in one of the joining columns, what was returned? A NULL.\n",
    "\n",
    "The `CONCAT()` function converts NULL to an empty string. Let's see this in an example. \n",
    "\n",
    "Remember, if any of the columns you work with can contain a NULL, use the CONCAT() function and not the || operator.\n",
    "\n",
    "## Exercise\n",
    "\n",
    "In this exercise, just look at the result.\n",
    "\n",
    "You see Vacum2010 as the product name, although there was a NULL value in the type column.\n",
    "\n",
    "```\n",
    "SELECT\n",
    "  name,\n",
    "  type,\n",
    "  CONCAT(name, type) AS product\n",
    "FROM item;\n",
    "```"
   ]
  },
  {
   "cell_type": "markdown",
   "metadata": {},
   "source": [
    "## The LENGTH() function\n",
    "\n",
    "Now that we know about concatenation, let's learn some string functions. We'll start with a simple one.\n",
    "\n",
    "The `LENGTH()` function shows the length of a string column. For example:\n",
    "\n",
    "```\n",
    "SELECT\n",
    "  first_name,\n",
    "  LENGTH(first_name) AS len\n",
    "FROM copywriter;\n",
    "```\n",
    "\n",
    "Suppose that first_name has a value of 'Anne'. `LENGTH()` will return 4 because 'Anne' has 4 letters. \n",
    "\n",
    "Simple, right?\n",
    "\n",
    "### Exercise\n",
    "Show the id, text, and string length for every slogan (text) in the slogan table. Name the last column len.\n",
    "\n"
   ]
  },
  {
   "cell_type": "markdown",
   "metadata": {
    "jupyter": {
     "source_hidden": true
    }
   },
   "source": [
    "```\n",
    "SELECT\n",
    "  id,\n",
    "  text,\n",
    "  LENGTH(text) AS len\n",
    "FROM slogan;\n",
    "```"
   ]
  },
  {
   "cell_type": "markdown",
   "metadata": {},
   "source": [
    "Remember, you are not limited to using the `LENGTH()` or other text functions in the SELECT clause only. \n",
    "\n",
    "You can use text functions in WHERE too! \n",
    "\n",
    "This allows you to select only rows with text of length greater or smaller than some value. For instance:\n",
    "\n",
    "```\n",
    "SELECT\n",
    "  id,\n",
    "  text\n",
    "FROM slogan\n",
    "WHERE LENGTH(text) > 45;\n",
    "```\n",
    "\n",
    "The above query will select only those slogans whose length is greater than 45 characters.\n",
    "\n",
    "### Exercise\n",
    "Show the IDs of all items with a name longer than 8 characters.\n",
    "\n"
   ]
  },
  {
   "cell_type": "markdown",
   "metadata": {
    "jupyter": {
     "source_hidden": true
    }
   },
   "source": [
    "```\n",
    "SELECT id\n",
    "FROM item\n",
    "WHERE LENGTH(name) > 8;\n",
    "```"
   ]
  },
  {
   "cell_type": "markdown",
   "metadata": {},
   "source": [
    "# The LOWER() and UPPER() functions\n",
    "\n",
    "Let's move on to another text function: `LOWER()`.\n",
    "\n",
    "Whatever is passed as an argument to LOWER() will be written in small (lowercase) letters:\n",
    "\n",
    "```\n",
    "SELECT LOWER(last_name) AS lower_name\n",
    "FROM copywriter;\n",
    "\n",
    "```\n",
    "`LOWER()` returns 'turner' for 'Turner'.\n",
    "\n",
    "If there is a function for lowercase letters, there must be a function for capital (uppercase) letters too. \n",
    "\n",
    "There is! \n",
    "\n",
    "It's called UPPER() and works in a similar way:\n",
    "\n",
    "```\n",
    "SELECT UPPER(last_name) AS upper_name\n",
    "FROM copywriter;\n",
    "```\n",
    "\n",
    "UPPER() returns 'TURNER' for the last name 'Turner'.\n",
    "\n",
    "Let's try this in an exercise!\n",
    "\n",
    "## Exercise\n",
    "\n",
    "The boss of the marketing agency said that it's very trendy to write Internet and newspaper ads in all lowercase letters. We don't want to reenter all of our slogans; let's use LOWER() instead.\n",
    "\n",
    "For every slogan of the type 'newspaper ad' or 'Internet ad', show the slogan ID and its text in all lowercase. Name the last column trendy_slogan.\n",
    "\n"
   ]
  },
  {
   "cell_type": "markdown",
   "metadata": {
    "jupyter": {
     "source_hidden": true
    }
   },
   "source": [
    "```\n",
    "SELECT\n",
    "  id,\n",
    "  LOWER(text) AS trendy_slogan\n",
    "FROM slogan\n",
    "WHERE type IN ('Internet ad', 'newspaper ad');\n",
    "```"
   ]
  },
  {
   "cell_type": "markdown",
   "metadata": {},
   "source": [
    "# The INITCAP() function\n",
    "\n",
    "Yet another function is `INITCAP()`, which will change the first letter of each word of text to upper case and the rest of the characters to lower. \n",
    "\n",
    "This is also called \"title case\". \n",
    "\n",
    "For instance, if someone mistakenly inserted first name as 'olivier' and last name with caps lock as 'sMITH', the query:\n",
    "\n",
    "```\n",
    "SELECT INITCAP(first_name || ' ' || last_name)\n",
    "FROM copywriter;\n",
    "```\n",
    "will show 'Olivier Smith'. \n",
    "\n",
    "That's usually a convenient way to show names in a proper way.\n",
    "\n",
    "### Exercise\n",
    "The boss wants you to update the names of all the items so that they are title cased. Show the id of each item together with its original name (as old_name) and the new name (as new_name)."
   ]
  },
  {
   "cell_type": "markdown",
   "metadata": {
    "jupyter": {
     "source_hidden": true
    }
   },
   "source": [
    "```\n",
    "SELECT\n",
    "  id,\n",
    "  name AS old_name,\n",
    "  INITCAP(name) AS new_name\n",
    "FROM item;\n",
    "```"
   ]
  },
  {
   "cell_type": "markdown",
   "metadata": {},
   "source": [
    "# The LTRIM() and RTRIM() functions\n",
    "\n",
    "\n",
    "Let's look at functions that remove leading or trailing spaces from a string.\n",
    "\n",
    "One of these is `LTRIM()`. It removes the leading (left) spaces from a string.\n",
    "\n",
    "\n",
    "`SELECT LTRIM(' Sophie ');`\n",
    "\n",
    "This query returns 'Sophie '. The leading space was removed.\n",
    "\n",
    "The `RTRIM()` function removes the trailing (right) spaces from a string. \n",
    "\n",
    "It works in a similar way:\n",
    "\n",
    "`SELECT RTRIM(' Sophie ');`\n",
    "\n",
    "This returns ' Sophie'. There is a leading space, but no trailing space.\n",
    "\n",
    "### Exercise\n",
    "\n",
    "Some of the item names in the item table have leading spaces. Show two columns:\n",
    "\n",
    "- The item name.\n",
    "- Prefix the value with 'No trim:' to see the leading spaces.\n",
    "- Name the column before_ltrim.\n",
    "- The item name without leading spaces.\n",
    "- Prefix the value with 'Trim:' to make sure the spaces have been removed.\n",
    "- Name the column after_ltrim.\n",
    "- To add prefixes, use the concatenation operator."
   ]
  },
  {
   "cell_type": "markdown",
   "metadata": {
    "jupyter": {
     "source_hidden": true
    }
   },
   "source": [
    "```\n",
    "SELECT\n",
    "  'No trim:' || name        AS before_ltrim,\n",
    "  'Trim:'    || LTRIM(name) AS after_ltrim\n",
    "FROM item;\n",
    "```"
   ]
  },
  {
   "cell_type": "markdown",
   "metadata": {},
   "source": [
    "# The TRIM() function\n",
    "\n",
    "You now know two functions that remove either leading or trailing spaces. \n",
    "\n",
    "Sometimes you need to remove both leading and trailing spaces. With PostgreSQL, you can do this with the `TRIM()` function. It only requires one parameter. \n",
    "\n",
    "Take a look:\n",
    "\n",
    "`SELECT TRIM(' Martin Smith      from England   .   ');`\n",
    "\n",
    "After calling this function, you get:\n",
    "\n",
    "'Martin Smith      from England   .'\n",
    "\n",
    "\n",
    "### Exercise\n",
    "\n",
    "Remove all leading and trailing spaces from the item names in the item table. \n",
    "\n",
    "For each item, show the original item name (name the column before_trim) and the item name without leading and trailing spaces (name the column after_trim). \n",
    "\n",
    "In order to see the difference, put asterisks (*) on both sides of the value (using the concatenation operator).\n"
   ]
  },
  {
   "cell_type": "markdown",
   "metadata": {
    "jupyter": {
     "source_hidden": true
    }
   },
   "source": [
    "```\n",
    "SELECT\n",
    "  '*' || name || '*' AS before_trim,\n",
    "  '*' || TRIM(name) || '*' AS after_trim\n",
    "FROM item;\n",
    "```"
   ]
  },
  {
   "cell_type": "markdown",
   "metadata": {},
   "source": [
    "# The SUBSTRING() function\n",
    "\n",
    "\n",
    "The functions we've learned so far act on entire string values. \n",
    "\n",
    "We can also manipulate parts of strings, or even single letters. \n",
    "\n",
    "We'll start with the `SUBSTRING()` function. It looks like this:\n",
    "\n",
    "`SUBSTRING(text FROM start FOR length)`\n",
    "\n",
    "or the shorter form:\n",
    "\n",
    "`SUBSTRING(text, start, length)`\n",
    "\n",
    "Here's how you'd use it to select part of a string:\n",
    "\n",
    "```\n",
    "SELECT SUBSTRING(name, 5, 4) AS substring_name\n",
    "FROM item;\n",
    "```\n",
    "\n",
    "The first parameter of `SUBSTRING()` is the given text (above, the name field). \n",
    "\n",
    "The second parameter tells the function where the substring should start. \n",
    "\n",
    "The indexing is 1-based (the first character in the string is available at index 1).\n",
    "\n",
    "In the above example, we are asking the `SUBSTRING()` function to start the text fragment at the fifth character. \n",
    "\n",
    "The third parameter, length, indicates how many characters will be returned.\n",
    "\n",
    "In this case, if the name is 'TripCare', the starting index is 5, and the length is 4, we'll get 'Care' as the result. \n",
    "\n",
    "The database will start at the fifth character, which is 'C', and return that character and the next three characters.\n",
    "\n",
    "### Exercise\n",
    "\n",
    "Show the full name of each item and its first four characters after trimming. Name the last column new_name."
   ]
  },
  {
   "cell_type": "markdown",
   "metadata": {
    "jupyter": {
     "source_hidden": true
    }
   },
   "source": [
    "```\n",
    "SELECT\n",
    "  name,\n",
    "  SUBSTRING(TRIM(name), 1, 4) AS new_name\n",
    "FROM item;\n",
    "```"
   ]
  },
  {
   "cell_type": "markdown",
   "metadata": {},
   "source": [
    "# The LEFT() and RIGHT() functions\n",
    "\n",
    "You can now get a substring (part of a string) from a larger string. \n",
    "\n",
    "But what if you need a substring located at the beginning or end of the string? \n",
    "\n",
    "Of course you may use the combination of the `SUBSTRING()` and `LENGTH()`\n",
    "functions but there are two other functions that let you do this easier: `LEFT()` and `RIGHT()`.\n",
    "\n",
    "As you might guess, `LEFT()` takes the substring starting at the leftmost (leading) character, and `RIGHT()` starts from the final character and works backwards. \n",
    "\n",
    "All you need to specify is the string and how many characters you want to return:\n",
    "\n",
    "```\n",
    "SELECT RIGHT(name, 3)\n",
    "FROM item;\n",
    "```\n",
    "\n",
    "In this case, `RIGHT()` returns the last three letters of an item's name.\n",
    "\n",
    "## Exercise\n",
    "The boss of the marketing agency would like to get the first letter of their first name and the last letter of their last name of all copywriters that have both of those names (i.e., both columns aren't NULL).\n",
    "\n",
    "Name the columns first_letter and last_letter."
   ]
  },
  {
   "cell_type": "markdown",
   "metadata": {
    "jupyter": {
     "source_hidden": true
    }
   },
   "source": [
    "```\n",
    "SELECT\n",
    "  LEFT(first_name,1) AS first_letter,\n",
    "  RIGHT(last_name,1) AS last_letter\n",
    "FROM copywriter\n",
    "WHERE first_name IS NOT NULL\n",
    "  AND last_name  IS NOT NULL;\n",
    "```"
   ]
  },
  {
   "cell_type": "markdown",
   "metadata": {},
   "source": [
    "# The POSITION() function\n",
    "\n",
    "\n",
    "There are times when you need to find a certain expression or set of characters in a string. \n",
    "\n",
    "Maybe you don't know what the whole string contains, but you know it has the letters 'br' in it somewhere. \n",
    "\n",
    "To find the index location of this string, use the `POSITION()` function. It has two parameters: the character string you want to find, the keyword IN, and the string or field to be searched. Here's an example:\n",
    "\n",
    "`SELECT POSITION('br' IN 'abracadabra');`\n",
    "\n",
    "The text 'abracadabra' starts with the letter 'a' (index position 1). The first occurrence of the string 'br' will be at index 2. \n",
    "\n",
    "The position returned by this POSITION() function is indeed 2.\n",
    "\n",
    "A similar `POSITION(`) function is `STRPOS()` supported by PostgreSQL, but the arguments are in reverse order and without the keyword IN: first is a string to search in and second is a substring to search:\n",
    "\n",
    "`SELECT STRPOS('abracadabra', 'br');`\n",
    "\n",
    "This query returns 2.\n",
    "\n",
    "### Exercise\n",
    "\n",
    "In the item table, show the position of the letter 'r' in all item names. Name the column r_index.\n",
    "\n",
    "Note that `POSITION()` returns 0 if the pattern is not present in the searched string."
   ]
  },
  {
   "cell_type": "markdown",
   "metadata": {
    "jupyter": {
     "source_hidden": true
    }
   },
   "source": [
    "```\n",
    "SELECT POSITION('r' IN name) AS r_index\n",
    "FROM item;\n",
    "```"
   ]
  },
  {
   "cell_type": "markdown",
   "metadata": {},
   "source": [
    "# The REVERSE() function\n",
    "\n",
    "The next text function we'll try is `REVERSE()`. This takes a string as a parameter and returns its characters in reverse order.\n",
    "\n",
    "Here we have a query that reverses the order of item names:\n",
    "\n",
    "```\n",
    "SELECT REVERSE(name)\n",
    "FROM item;\n",
    "```\n",
    "\n",
    "As you can see, it's a pretty simple function to use.\n",
    "\n",
    "## Exercise\n",
    "\n",
    "The marketing agency is organizing a costume party for all the copywriters. Each copywriter will be given a name tag with their first name spelled backward.\n",
    "\n",
    "Let's reverse the first name of each copywriter whose ID is less than five. Show the copywriter's real first name and their \"reversed\" first name as the nickname column.\n",
    "\n"
   ]
  },
  {
   "cell_type": "markdown",
   "metadata": {
    "jupyter": {
     "source_hidden": true
    }
   },
   "source": [
    "```\n",
    "SELECT\n",
    "  first_name,\n",
    "  REVERSE(first_name) AS nickname\n",
    "FROM copywriter\n",
    "WHERE id < 5;\n",
    "```"
   ]
  },
  {
   "cell_type": "markdown",
   "metadata": {},
   "source": [
    "# The REPLACE() function\n",
    "\n",
    "You can also replace parts of a string with anything you want using the `REPLACE()` function. It works like this:\n",
    "\n",
    "`REPLACE(string, substring_to_change, new_substring)`\n",
    "\n",
    "This searches string and, if it finds the substring_to_change, replaces substring_to_change with the text in new_substring. Let's try it!\n",
    "\n",
    "`SELECT REPLACE('young man', 'young', 'old');`\n",
    "\n",
    "In the above example, the function will look for 'young' in the string 'young man' and will replace it with 'old'. As a result, we'll get 'old man'. Of course, you can provide a column name instead of an actual text.\n",
    "\n",
    "Let's practice using this function!\n",
    "\n",
    "## Exercise\n",
    "\n",
    "For the slogan with an ID of 1, replace the word 'Feel' with 'Touch'. Show the slogan's original text and the updated text as the updated_text column."
   ]
  },
  {
   "cell_type": "markdown",
   "metadata": {
    "jupyter": {
     "source_hidden": true
    }
   },
   "source": [
    "```\n",
    "SELECT\n",
    "  text,\n",
    "  REPLACE(text, 'Feel', 'Touch') AS updated_text\n",
    "FROM slogan\n",
    "WHERE id = 1;\n",
    "```"
   ]
  },
  {
   "cell_type": "markdown",
   "metadata": {},
   "source": [
    "# The TRANSLATE() function\n",
    "\n",
    "PostgreSQL provides another function similar to `REPLACE()`. \n",
    "\n",
    "It's `TRANSLATE()`, and it looks like this:\n",
    "\n",
    "`TRANSLATE(string_to_search, old_characters, new_characters)`\n",
    "\n",
    "This function searches string_to_search, which can be an actual string or a field in the database, for the characters in old_characters. \n",
    "\n",
    "When it finds them, they're replaced with the corresponding characters in the new_characters. Here's how it looks:\n",
    "\n",
    "```\n",
    "SELECT\n",
    "  id,\n",
    "  text,\n",
    "  TRANSLATE(text, ' .', '*!') AS translated_text\n",
    "FROM slogan;\n",
    "```\n",
    "\n",
    "This will change the text of the slogans in the slogan table. The characters we're replacing are ` .` – spaces and periods. \n",
    "\n",
    "We want to translate them to `*!`: all spaces are replaced with the asterisks and all dots are replaced with the exclamation marks. \n",
    "\n",
    "\n",
    "### Exercise\n",
    "\n",
    "The marketing boss wants to make some of the slogans more original by replacing exclamation marks (!) with periods (.) and spaces ( ) with underscores (_). \n",
    "\n",
    "Do this for copywriters with an ID of 1, 2, 3, or 4. \n",
    "\n",
    "Show the new slogan text and the first and last name of the copywriter. \n",
    "\n",
    "Name the first column new_slogan."
   ]
  },
  {
   "cell_type": "markdown",
   "metadata": {
    "jupyter": {
     "source_hidden": true
    }
   },
   "source": [
    "```\n",
    "SELECT\n",
    "  TRANSLATE(slogan.text, '! ' , '._') AS new_slogan,\n",
    "  copywriter.first_name,\n",
    "  copywriter.last_name\n",
    "FROM slogan\n",
    "JOIN copywriter\n",
    "  ON copywriter.id = slogan.copywriter_id\n",
    "WHERE copywriter.id IN (1,2,3,4);\n",
    "```"
   ]
  },
  {
   "cell_type": "markdown",
   "metadata": {},
   "source": [
    "# The REPEAT() function\n",
    "\n",
    "The last function in this section is `REPEAT()`. It repeats a string (given in the first parameter) however many times specified by the second parameter. \n",
    "\n",
    "Here's an example:\n",
    "\n",
    "```\n",
    "SELECT REPEAT('.', 3) || name\n",
    "FROM item;\n",
    "```\n",
    "\n",
    "This query returns the item name with three periods in front of it. Let's try this function out!\n",
    "\n",
    "### Exercise\n",
    "\n",
    "Slogans with multiple star and dot characters (e.g., SLOGAN *.*.*.*.*.) are fashionable this season. \n",
    "\n",
    "The marketing agency management has decided to change all slogans' texts to add at the end a space and a chain of five '.**.'. Name the column fashionable_text.\n",
    "\n"
   ]
  },
  {
   "cell_type": "markdown",
   "metadata": {
    "jupyter": {
     "source_hidden": true
    }
   },
   "source": [
    "```\n",
    "SELECT text || ' ' || REPEAT('.**.', 5) AS fashionable_text\n",
    "FROM slogan;\n",
    "```"
   ]
  },
  {
   "cell_type": "markdown",
   "metadata": {},
   "source": [
    "#Summary\n",
    "\n",
    "\n",
    "That's it for this section! Before we move on, let's review what we've learned:\n",
    "\n",
    "- || is the concatenation operator. The || operator and the CONCAT() function are the concatenation functions. Both merge multiple strings into one.\n",
    "\n",
    "- LENGTH(s) returns the length of a string.\n",
    "\n",
    "- LOWER() and UPPER() functions change all letters in a string to lowercase or uppercase.\n",
    "\n",
    "- INITCAP(t) changes the first letter of each word of string t to title case.\n",
    "\n",
    "- LTRIM(s), RTRIM(s), and TRIM(s) return a string after removing spaces from the left, right, or both sides of a given string s.\n",
    "\n",
    "- LTRIM(s, 'set'), RTRIM(s, 'set'), and TRIM(s, 'set') return a string after removing custom set of characters from the left, right, or both sides of a given string s.\n",
    "\n",
    "- SUBSTRING(s, x, y) returns part of string s, starting from position x and returning the number of characters defined by y.\n",
    "\n",
    "- LEFT(s, n) returns the first n characters as the substring from the left side (beginning of the string).\n",
    "\n",
    "- RIGHT(s, n) returns the last n characters as the substring from the right side (end of the string).\n",
    "\n",
    "- POSITION(c IN s) finds the first occurance (index) of string c in string s.\n",
    "\n",
    "- STRPOS(s, c) does the same as the POSITION() function but has a different syntax.\n",
    "\n",
    "- REVERSE() returns text with all the characters in reverse order.\n",
    "\n",
    "- REPLACE(string, from, to) will replace from with to in the string string.\n",
    "\n",
    "- TRANSLATE(string, from, to) will make replacements in string based on the sets passed as strings into the from and to parameters.\n",
    "\n",
    "- REPEAT(x, n) will return the x string repeated n times.\n"
   ]
  },
  {
   "cell_type": "markdown",
   "metadata": {},
   "source": [
    "# Exercise\n",
    "Show the ID of each item, its name uppercased (as the upper_case column), and its reversed name (as the reversed column)."
   ]
  },
  {
   "cell_type": "markdown",
   "metadata": {
    "jupyter": {
     "source_hidden": true
    }
   },
   "source": [
    "```\n",
    "SELECT\n",
    "  id,\n",
    "  UPPER(name) AS upper_case,\n",
    "  REVERSE(name) AS reversed\n",
    "FROM item;\n",
    "```\n"
   ]
  },
  {
   "cell_type": "markdown",
   "metadata": {},
   "source": [
    "# Exercise\n",
    "\n",
    "For each slogan longer than 20 characters, show a 20-character substring starting from the fifth position. Name the column sub_text."
   ]
  },
  {
   "cell_type": "markdown",
   "metadata": {
    "jupyter": {
     "source_hidden": true
    }
   },
   "source": [
    "```\n",
    "SELECT SUBSTRING(text, 5, 20) AS sub_text\n",
    "FROM slogan\n",
    "WHERE LENGTH(text) > 20;\n",
    "```"
   ]
  },
  {
   "cell_type": "markdown",
   "metadata": {},
   "source": [
    "# Exercise\n",
    "\n",
    "For each 'tv commercial' slogan, show the item name, its type, and the slogan with each period (.) replaced with three exclamation marks (!!!) as the explosive_text column."
   ]
  },
  {
   "cell_type": "markdown",
   "metadata": {
    "jupyter": {
     "source_hidden": true
    }
   },
   "source": [
    "```\n",
    "SELECT\n",
    "  item.name,\n",
    "  item.type,\n",
    "  REPLACE(text, '.', '!!!') AS explosive_text\n",
    "FROM item\n",
    "JOIN slogan\n",
    "  ON item.id = slogan.item_id\n",
    "WHERE slogan.type = 'tv commercial';\n",
    "```"
   ]
  },
  {
   "cell_type": "code",
   "execution_count": null,
   "metadata": {},
   "outputs": [],
   "source": []
  }
 ],
 "metadata": {
  "kernelspec": {
   "display_name": "Python 3",
   "language": "python",
   "name": "python3"
  },
  "language_info": {
   "codemirror_mode": {
    "name": "ipython",
    "version": 3
   },
   "file_extension": ".py",
   "mimetype": "text/x-python",
   "name": "python",
   "nbconvert_exporter": "python",
   "pygments_lexer": "ipython3",
   "version": "3.7.3"
  }
 },
 "nbformat": 4,
 "nbformat_minor": 4
}
