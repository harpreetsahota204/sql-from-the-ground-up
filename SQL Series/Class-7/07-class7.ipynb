{
 "cells": [
  {
   "cell_type": "markdown",
   "metadata": {},
   "source": [
    "Today, We're going to get familiarized with PostgreSQL's date and time functions. \n",
    "\n",
    "Both beginners and more advanced users will find something useful here!\n",
    "\n",
    "We're gonna cover the following topics:\n",
    "- Dealing with dates\n",
    "- Working with time\n",
    "- Date and time data types in PostgresSQL\n",
    "- Extracting dates and times\n",
    "\n",
    "\n",
    "We're going to be using `DB Fiddle` for this course. \n",
    "\n",
    "Navigate to: https://www.db-fiddle.com/\n",
    "\n",
    "In the top right corner of the webpage, be sure to select `Database: PostgreSQL 13`\n",
    "\n",
    "Now, in the `Schema SQL` pane on the left copy and paste the following, or just click this link here: https://www.db-fiddle.com/f/9hh1sKDrTkgxKV4U6VX7h5/0\n",
    "\n",
    "\n",
    "\n",
    "```\n",
    "CREATE TABLE IF NOT EXISTS \"route\" (\n",
    "    \"code\" TEXT,\n",
    "    \"from_airport\" TEXT,\n",
    "    \"to_airport\" TEXT,\n",
    "    \"distance\" INT,\n",
    "    \"departure_time\" time,\n",
    "    \"arrival_time\" time\n",
    ");\n",
    "INSERT INTO \"route\" VALUES\n",
    "    ('PA2342','FRA','WAW',558,'07:55:00','09:30:00'),\n",
    "    ('PA8793','MAD','NRT',6701,'13:20:00','04:35:00'),\n",
    "    ('PA5643','GLA','DUB',185,'21:50:00','22:50:00'),\n",
    "    ('PA8744','WMI','CRL',710,'10:25:00','12:15:00'),\n",
    "    ('PA2134','KEF','GDN',1564,'21:25:00','00:55:00'),\n",
    "    ('PA3424','BLQ','MAD',807,'08:00:00','10:45:00'),\n",
    "    ('PA7155','JFK','CDG',5847,'11:05:00','18:35:00'),\n",
    "    ('PA6851','LHR','PRY',8949,'16:55:00','11:35:00'),\n",
    "    ('PA3425','ARN','SXF',810,'14:15:00','15:50:00'),\n",
    "    ('PA1269','FCO','CDG',1100,'18:05:00','20:15:00'),\n",
    "    ('PA7653','VCE','FCO',550,'19:20:00','20:40:00'),\n",
    "    ('PA4097','ZRH','MUC',240,'23:15:00','23:55:00'),\n",
    "    ('PA8542','FRA','NRT',9300,'02:10:00','13:45:00'),\n",
    "    ('PA9073','WAW','LHR',1445,'05:00:00','08:15:00');\n",
    "    \n",
    "    \n",
    "CREATE TABLE IF NOT EXISTS \"aircraft\" (\n",
    "    \"id\" INT,\n",
    "    \"model\" TEXT,\n",
    "    \"produced_date\" TIMESTAMP,\n",
    "    \"registration_timestamp\" TIMESTAMP,\n",
    "    \"launched_timestamp\" TIMESTAMP,\n",
    "    \"withdrawn_timestamp\" TIMESTAMP\n",
    ");\n",
    "INSERT INTO \"aircraft\" VALUES\n",
    "    (1,'Airbus A321-200','2014-04-05 00:00:00','2014-04-15 00:00:00','2014-06-10 07:55:00',null),\n",
    "    (2,'Airbus A333-300','2014-01-03 00:00:00','2014-01-13 00:00:00','2015-01-01 13:19:00',null),\n",
    "    (3,'Boeing 737-800','2010-03-01 00:00:00','2010-03-11 00:00:00','2010-04-01 21:58:00','2015-10-14 20:00:00'),\n",
    "    (4,'Airbus A320','2008-04-06 00:00:00','2008-04-09 00:00:00','2014-01-01 21:19:00',null),\n",
    "    (5,'Boeing 737-800','2009-12-31 00:00:00','2009-12-31 00:00:00','2012-01-01 10:14:00','2016-08-01 09:30:00'),\n",
    "    (6,'Airbus A320','2009-04-13 00:00:00','2009-04-19 00:00:00','2014-01-05 21:38:00','2013-01-05 21:38:00'),\n",
    "    (7,'Boeing 787-10','2011-01-01 00:00:00','2011-02-01 00:00:00','2011-11-17 11:17:00',null),\n",
    "    (8,'Boeing 777-300','1993-08-26 00:00:00','1993-08-30 00:00:00','2015-12-31 22:13:00','2016-10-15 12:52:00'),\n",
    "    (9,'Airbus A300-600','2013-01-01 00:00:00','2013-01-11 00:00:00','2014-02-23 06:53:00','2015-10-14 00:19:00'),\n",
    "    (10,'Airbus A380-900','2007-10-25 00:00:00','2007-11-29 00:00:00','2014-12-31 15:15:00',null),\n",
    "    (11,'Embraer 170','2012-12-31 00:00:00','2013-01-12 00:00:00','2013-01-01 16:52:00',null),\n",
    "    (12,'Vision SF50','2015-01-01 00:00:00','2015-02-01 00:00:00','2016-01-01 09:31:00',null),\n",
    "    (13,'Airbus A320','2016-06-06 00:00:00','2016-07-01 00:00:00','2016-08-28 10:35:00',null),\n",
    "    (14,'Embraer 170','2016-08-10 00:00:00','2016-09-05 00:00:00','2016-09-20 16:23:00',null),\n",
    "    (15,'Boeing 777-800','2010-03-01 00:00:00','2010-04-08 00:00:00','2012-01-01 10:14:00',null);\n",
    "\n",
    "CREATE TABLE IF NOT EXISTS \"flight\" (\n",
    "    \"id\" INT,\n",
    "    \"route_code\" TEXT,\n",
    "    \"aircraft_id\" INT,\n",
    "    \"flight_date\" DATE,\n",
    "    \"delay\" INT\n",
    ");\n",
    "INSERT INTO \"flight\" VALUES\n",
    "    (1,'PA2342',1,'2016-04-03',0),\n",
    "    (2,'PA2342',1,'2016-01-01',15),\n",
    "    (3,'PA8793',2,'2015-07-11',-13),\n",
    "    (4,'PA5643',3,'2014-12-31',5),\n",
    "    (5,'PA5643',3,'2015-08-13',0),\n",
    "    (6,'PA5643',3,'2015-08-14',35),\n",
    "    (7,'PA5643',3,'2016-01-01',8),\n",
    "    (8,'PA8744',3,'2016-01-20',0),\n",
    "    (9,'PA8744',3,'2016-02-21',-25),\n",
    "    (10,'PA2134',4,'2015-10-10',-10),\n",
    "    (11,'PA2134',4,'2015-08-14',16),\n",
    "    (12,'PA2342',5,'2015-12-30',4),\n",
    "    (13,'PA7155',7,'2016-06-08',20),\n",
    "    (14,'PA6851',7,'2015-12-31',5),\n",
    "    (15,'PA8744',9,'2015-08-31',30),\n",
    "    (16,'PA5643',8,'2015-01-01',0),\n",
    "    (17,'PA6851',10,'2016-02-26',-5),\n",
    "    (18,'PA8793',10,'2016-04-03',45),\n",
    "    (19,'PA3425',1,'2016-04-09',20),\n",
    "    (20,'PA1269',2,'2016-08-11',5);\n",
    "```"
   ]
  },
  {
   "cell_type": "markdown",
   "metadata": {},
   "source": [
    "# The DATE data type\n",
    "\n",
    "As you saw, dates are shown in the following format, which is the recommended PostgreSQL format:\n",
    "\n",
    "`YYYY-MM-DD`\n",
    "\n",
    "First we have the year, then the month, and finally the day.\n",
    "\n",
    "In PostgreSQL, the date data type is the default way to store date information. \n",
    "\n",
    "This data type has a range of `4713-01-01 BC` to `5874897-12-31 AD`. If we want to use dates in our queries, we need to enclose them with single quotes, like this:\n",
    "\n",
    "```\n",
    "SELECT\n",
    "  id,\n",
    "  model\n",
    "FROM aircraft\n",
    "WHERE produced_date = '2014-04-05';\n",
    "```\n",
    "\n",
    "This query will return the id and model for all aircraft produced on April 5, 2014.\n",
    "\n",
    "## Exercise\n",
    "Select the following columns: id, route_code, delay and flight_date for flights made on January 1, 2016 or April 3, 2016.\n"
   ]
  },
  {
   "cell_type": "markdown",
   "metadata": {},
   "source": [
    "```\n",
    "SELECT\n",
    "  id,\n",
    "  route_code,\n",
    "  delay,\n",
    "  flight_date\n",
    "FROM flight\n",
    "WHERE flight_date = '2016-01-01'\n",
    "  OR  flight_date = '2016-04-03';\n",
    "```"
   ]
  },
  {
   "cell_type": "markdown",
   "metadata": {},
   "source": [
    "# Using comparison operators with dates\n",
    "\n",
    "It is also quite easy to use dates with other comparison operators. \n",
    "\n",
    "Take a look at the following example:\n",
    "\n",
    "```\n",
    "SELECT\n",
    "  id,\n",
    "  model,\n",
    "  produced_date\n",
    "FROM aircraft\n",
    "WHERE produced_date > '2010-12-31';\n",
    "```\n",
    "\n",
    "In PostgreSQL, a date that is \"greater than\" (>) 2010-12-31 means \"all the dates after December 31, 2010\" (i.e., from 2011-01-01 to today). Similarly, the \"less than\" sign (<) will show all dates before the given date.\n",
    "\n",
    "# Exercise\n",
    "Select the id, route_code, and flight_date columns for all flights after December 31, 2014."
   ]
  },
  {
   "cell_type": "markdown",
   "metadata": {},
   "source": [
    "```\n",
    "SELECT\n",
    "  id,\n",
    "  route_code,\n",
    "  flight_date\n",
    "FROM flight\n",
    "WHERE flight_date > '2014-12-31';\n",
    "```"
   ]
  },
  {
   "cell_type": "markdown",
   "metadata": {},
   "source": [
    "# Using BETWEEN with dates\n",
    "\n",
    "You can also use the `BETWEEN` operator to return certain dates. \n",
    "\n",
    "In this way, you can select a range of dates. \n",
    "\n",
    "The following query selects information based on production dates for the year 2010:\n",
    "\n",
    "```\n",
    "SELECT\n",
    "  id,\n",
    "  model,\n",
    "  produced_date\n",
    "FROM aircraft\n",
    "WHERE produced_date BETWEEN '2010-01-01'\n",
    "  AND '2010-12-31';\n",
    "```\n",
    "\n",
    "This will find all the aircraft produced between January 1, 2010 and December 31, 2010, including the starting and ending dates.\n",
    "\n",
    "## Exercise\n",
    "\n",
    "Select the id and flight_date of all flights which did not take place in 2015."
   ]
  },
  {
   "cell_type": "markdown",
   "metadata": {},
   "source": [
    "```\n",
    "SELECT id, flight_date\n",
    "FROM flight\n",
    "WHERE flight_date NOT BETWEEN '2015-01-01' AND '2015-12-31';\n",
    "```"
   ]
  },
  {
   "cell_type": "markdown",
   "metadata": {},
   "source": [
    "# Dates with ORDER BY\n",
    "\n",
    "You can also sort rows by date using ORDER BY:\n",
    "\n",
    "```\n",
    "SELECT\n",
    "  id,\n",
    "  model,\n",
    "  produced_date\n",
    "FROM aircraft\n",
    "WHERE produced_date BETWEEN '2009-01-01'\n",
    "AND '2010-12-31'\n",
    "ORDER BY produced_date;\n",
    "```\n",
    "\n",
    "As usual, you can define the sort order by adding `ASC` (the default sort order) or `DESC` at the end of the ORDER BY clause.\n",
    "\n",
    "## Exercise\n",
    "\n",
    "Show the ID and date of all flights in 2015, so the most recent flights are first."
   ]
  },
  {
   "cell_type": "markdown",
   "metadata": {},
   "source": [
    "```\n",
    "SELECT id, flight_date\n",
    "FROM flight\n",
    "WHERE flight_date BETWEEN '2015-01-01' AND '2015-12-31'\n",
    "ORDER BY flight_date DESC;\n",
    "```"
   ]
  },
  {
   "cell_type": "markdown",
   "metadata": {},
   "source": [
    "# Dates – exercise\n",
    "\n",
    "Okay, let's try a more complicated exercise.\n",
    "\n",
    "## Exercise\n",
    "\n",
    "For every aircraft produced in 2010, show its ID, production date, and the route codes for all the distinct routes it flies."
   ]
  },
  {
   "cell_type": "markdown",
   "metadata": {},
   "source": [
    "```\n",
    "SELECT DISTINCT\n",
    "  aircraft.id,\n",
    "  produced_date,\n",
    "  route_code\n",
    "FROM aircraft\n",
    "JOIN flight\n",
    "  ON aircraft.id = flight.aircraft_id\n",
    "WHERE produced_date BETWEEN '2010-01-01' AND '2010-12-31';\n",
    "```"
   ]
  },
  {
   "cell_type": "markdown",
   "metadata": {},
   "source": [
    "# Time in SQL\n",
    "\n",
    "Our database can also store time data. At PerfectAir time columns are used in the route table to store planned departure and arrival times.\n",
    "\n",
    "Let's see how time is represented in the database.\n",
    "\n",
    "```\n",
    "SELECT departure_time\n",
    "FROM route;\n",
    "```\n",
    "\n",
    "\n",
    "## The TIME data type\n",
    "\n",
    "PostgreSQL uses the time data type to store time data. Its range is `00:00:00` to `24:00:00` and for time with time zone from `00:00:00+1459` to `24:00:00-1459`. \n",
    "\n",
    "Time in PostgreSQL can contain also the number of fractional seconds. As you saw, the format for this data type is:\n",
    "\n",
    "`HH:MM:SS.n`\n",
    "\n",
    "Breaking this down, we see that:\n",
    "\n",
    "- `HH` stands for hours.\n",
    "- `MM` stands for minutes. Each minute is represented by two digits from 00 to 59.\n",
    "- `SS` stands for seconds. Each second is represented by two digits from 00 to 59.\n",
    "- `.n` stands for the number of fractional seconds. This optional value can range from 0 to 6 digits. By default, its value is 0.\n",
    "\n",
    "\n",
    "So we have the time data type. Notice that time uses a 24-hour clock, so write 14:25 for 2:25 PM.\n",
    "\n",
    "The precision of time depends on the database designer; in our database, we use the default zero precision.\n",
    "\n",
    "Specifying a value in a column of time type requires you to put the value in single quotes:\n",
    "\n",
    "```\n",
    "SELECT\n",
    "  code,\n",
    "  departure_time\n",
    "FROM route\n",
    "WHERE arrival_time = '20:15:00';\n",
    "```\n",
    "\n",
    "## Exercise\n",
    "Show the code for the PerfectAir route arriving at 9:30 AM.\n",
    "\n"
   ]
  },
  {
   "cell_type": "markdown",
   "metadata": {},
   "source": [
    "```\n",
    "SELECT code\n",
    "FROM route\n",
    "WHERE arrival_time = '09:30:00';\n",
    "```"
   ]
  },
  {
   "cell_type": "markdown",
   "metadata": {},
   "source": [
    "## Using BETWEEN with time data\n",
    "\n",
    "You can also use BETWEEN with time data:\n",
    "\n",
    "```\n",
    "SELECT\n",
    "  code,\n",
    "  departure_time\n",
    "FROM route\n",
    "WHERE arrival_time BETWEEN '12:00:00'\n",
    "  AND '15:00:00';\n",
    "``` \n",
    "  \n",
    "Remember that BETWEEN is inclusive in the above query, routes that depart at 12:00 AM or 3:00 PM will be included in the results.\n",
    "\n",
    "## Exercise\n",
    "\n",
    "Show the codes for all routes departing between 11:00 AM and 5:00 PM."
   ]
  },
  {
   "cell_type": "markdown",
   "metadata": {},
   "source": [
    "```\n",
    "SELECT code\n",
    "FROM route\n",
    "WHERE departure_time BETWEEN '11:00:00' AND '17:00:00';\n",
    "```"
   ]
  },
  {
   "cell_type": "markdown",
   "metadata": {},
   "source": [
    "# Comparing dates and times using operators\n",
    "\n",
    "Well done! You can use the following operators to compare time data:\n",
    "\n",
    "- `<` less than.\n",
    "- `>` greater than.\n",
    "- `<=` less than or equal to.\n",
    "- `>=`greater than or equal to.\n",
    "\n",
    "Look at this query:\n",
    "\n",
    "```\n",
    "SELECT\n",
    "  code,\n",
    "  arrival_time\n",
    "FROM route\n",
    "WHERE arrival_time >= '12:00:00'\n",
    "  AND arrival_time <= '15:00:00';\n",
    "```\n",
    "\n",
    "It displays the codes and arrival times only for routes where the arrival time is at least `12:00:00` and not after `15:00:00`.\n",
    "\n",
    "## Exercise\n",
    "\n",
    "Show the code and departure time for all routes where the departure time is later than `14:00:00` but earlier than `23:00:00`.\n",
    "\n"
   ]
  },
  {
   "cell_type": "markdown",
   "metadata": {},
   "source": [
    "```\n",
    "SELECT code,\n",
    "  departure_time\n",
    "FROM route\n",
    "WHERE departure_time < '23:00:00'\n",
    "  AND departure_time > '14:00:00';\n",
    "```"
   ]
  },
  {
   "cell_type": "markdown",
   "metadata": {},
   "source": [
    "# Sorting by TIME columns\n",
    "\n",
    "Good! You can also sort results by time:\n",
    "\n",
    "```\n",
    "SELECT\n",
    "  code,\n",
    "  arrival_time\n",
    "FROM route\n",
    "ORDER BY arrival_time DESC;\n",
    "```\n",
    "Have you noticed that time and date data work very similarly?\n",
    "\n",
    "## Exercise\n",
    "\n",
    "Show the code and arrival_time of all routes that arrive before 4:00 PM. Order them by arrival time, with the earliest time first.\n"
   ]
  },
  {
   "cell_type": "markdown",
   "metadata": {},
   "source": [
    "```\n",
    "SELECT code,\n",
    "  arrival_time\n",
    "FROM route\n",
    "WHERE arrival_time < '16:00:00'\n",
    "ORDER BY arrival_time;\n",
    "```"
   ]
  },
  {
   "cell_type": "markdown",
   "metadata": {},
   "source": [
    "# Exercise\n",
    "Show the average distance of all routes departing after 8:00 AM. Name the column avg_distance."
   ]
  },
  {
   "cell_type": "markdown",
   "metadata": {},
   "source": [
    "```\n",
    "SELECT AVG(distance) AS avg_distance\n",
    "FROM route\n",
    "WHERE departure_time > '08:00:00';\n",
    "```"
   ]
  },
  {
   "cell_type": "markdown",
   "metadata": {},
   "source": [
    "# Date and time\n",
    "\n",
    "Apart from just the date or time, PostgreSQL databases can also store dates with exact times, meaning both the date and the time. Let's see what this data looks like.\n",
    "\n",
    "## Exercise\n",
    "\n",
    "Select the launched_timestamp and registration_timestamp columns from the aircraft table.\n",
    "\n",
    "Note how the date and time data is displayed."
   ]
  },
  {
   "cell_type": "markdown",
   "metadata": {},
   "source": [
    "```\n",
    "SELECT\n",
    "  launched_timestamp,\n",
    "  registration_timestamp\n",
    "FROM aircraft;\n",
    "```"
   ]
  },
  {
   "cell_type": "markdown",
   "metadata": {},
   "source": [
    "# Date and time data types in PostgreSQL\n",
    "\n",
    "Good! Did you notice the format? Here it is again:\n",
    "\n",
    "`2014-06-10 07:55:00.125`\n",
    "\n",
    "Let's analyze it. \n",
    "\n",
    "In PostgreSQL the date and time data type is timestamp. It contains both date and time parts. \n",
    "\n",
    "The first part is the date and the second part is the time, reported to fractions of a second. \n",
    "\n",
    "The fractional value in both date and time data types, if given, must be in the range of 0 to 6 digits. The default precision for these data types is 6 digits.\n",
    "\n",
    "The supported range in timestamp is '4713-01-01 BC' to '294276-12-31 AD'.\n",
    "\n",
    "Note that the upper value for timestamp is different than for date (which is '5874897-12-31 AD').\n",
    "\n",
    "timestamp can also contain time zone:\n",
    "\n",
    "`2018-05-23 07:55:12.534211+02`\n",
    "\n",
    "The '+02' refers to the timezone – in this case it means that we are two hours ahead of UTC. Time zone is optional. The timestamp data type without time zone stores date and time in the local time of the database server (in our database it is UTC).\n",
    "\n",
    "Now, let's look at a query:\n",
    "\n",
    "```\n",
    "SELECT id\n",
    "FROM aircraft\n",
    "WHERE withdrawn_timestamp < launched_timestamp;\n",
    "```\n",
    "\n",
    "The above query checks for typos in our table; we can make sure no aircraft was removed from service before it was launched.\n",
    "\n",
    "# Exercise\n",
    "Run the example query and find out for yourself if there are errors in the aircraft table."
   ]
  },
  {
   "cell_type": "markdown",
   "metadata": {},
   "source": [
    "```\n",
    "SELECT id\n",
    "FROM aircraft\n",
    "WHERE withdrawn_timestamp < launched_timestamp;\n",
    "```"
   ]
  },
  {
   "cell_type": "markdown",
   "metadata": {},
   "source": [
    "# Using date and time with constant values\n",
    "\n",
    "\n",
    "The timestamp data type is very precise in defining a point in time. T\n",
    "\n",
    "his is why using the equal sign (=) with this data type isn't a good idea. \n",
    "\n",
    "Two of these values may differ by a single nanosecond, which means the equality condition wouldn't be satisfied.\n",
    "\n",
    "Nevertheless, you can use comparisons (e.g., >, <, !=, etc.) with timestamp data. \n",
    "\n",
    "This will work when you're comparing two columns or when you're comparing one column against a constant value.\n",
    "\n",
    "Do we have to be precise when providing a constant value? Not really. Take a look:\n",
    "\n",
    "```\n",
    "SELECT id,\n",
    "  launched_timestamp\n",
    "FROM aircraft\n",
    "WHERE launched_timestamp > '2015-01-01';\n",
    "```\n",
    "\n",
    "As you can see, we compared a timestamp with a simple date. \n",
    "\n",
    "How is this possible? \n",
    "\n",
    "Well, our database converted the date we provided to a timestamp by adding as many zeros as necessary. For instance, `2015-01-01` will become `2015-01-01 00:00:00` and `2014-02-12 12:00` will become `2014-02-12 12:00:00`. \n",
    "\n",
    "Convenient, isn't it?\n",
    "\n",
    "\n",
    "## Exercise\n",
    "Find the ID number and withdrawn date for all aircraft discontinued after October 14, 2015."
   ]
  },
  {
   "cell_type": "markdown",
   "metadata": {},
   "source": [
    "```\n",
    "SELECT\n",
    "  id,\n",
    "  withdrawn_timestamp\n",
    "FROM aircraft\n",
    "WHERE withdrawn_timestamp >= '2015-10-15';\n",
    "```"
   ]
  },
  {
   "cell_type": "markdown",
   "metadata": {},
   "source": [
    "# Using operators to compare timestamps\n",
    "\n",
    "Well done! Next, let's see what kind of operators we can use to compare timestamp data. This query ...\n",
    "\n",
    "```\n",
    "SELECT\n",
    "  id,\n",
    "  registration_timestamp\n",
    "FROM aircraft\n",
    "WHERE registration_timestamp >= '2010-01-01';\n",
    "  AND registration_timestamp <  '2016-01-01'\n",
    "```\n",
    "\n",
    "... displays the ID of aircraft where the registration date is within the years 2010 – 2015. Briefly, these are the operators you can use with date and time data:\n",
    "\n",
    "- `<`  less than.\n",
    "- `>` greater than.\n",
    "- `<=` less than or equal to.\n",
    "- `>=` greater than or equal to.\n",
    "\n",
    "Remember that because of the high precision of timestamp data, it's a bad idea to use an equality operator (`=`).\n",
    "\n",
    "# Exercise\n",
    "\n",
    "Show the id and launched_timestamp columns for aircraft where the launched_timestamp is more than `2010-12-31 23:00:00` and less than `2015-01-01 12:00:00`.\n",
    "\n"
   ]
  },
  {
   "cell_type": "markdown",
   "metadata": {},
   "source": [
    "```\n",
    "SELECT\n",
    "  id,\n",
    "  launched_timestamp\n",
    "FROM aircraft\n",
    "WHERE launched_timestamp > '2010-12-31 23:00:00'\n",
    "  AND launched_timestamp < '2015-01-01 12:00:00';\n",
    "```"
   ]
  },
  {
   "cell_type": "markdown",
   "metadata": {},
   "source": [
    "# Sorting timestamp data\n",
    "\n",
    "Excellent! The last thing you should know about timestamp data is that you can sort with ORDER BY:\n",
    "\n",
    "```\n",
    "SELECT id, registration_timestamp\n",
    "FROM aircraft\n",
    "ORDER BY registration_timestamp;\n",
    "```\n",
    "\n",
    "\n",
    "# Exercise\n",
    "\n",
    "Show the id and launched_timestamp data for all aircraft launched in 2013 or 2014. Sort by launched_timestamp, going from the newest dates to the oldest.\n",
    "\n"
   ]
  },
  {
   "cell_type": "markdown",
   "metadata": {},
   "source": [
    "```\n",
    "SELECT\n",
    "  id,\n",
    "  launched_timestamp\n",
    "FROM aircraft\n",
    "WHERE launched_timestamp >= '2013-01-01'\n",
    "  AND launched_timestamp < '2015-01-01'\n",
    "ORDER BY launched_timestamp DESC;\n",
    "```"
   ]
  },
  {
   "cell_type": "markdown",
   "metadata": {},
   "source": [
    "# Exercise\n",
    "\n",
    "For each aircraft, show its ID number (as aircraft_id) and calculate the average distance covered on all its routes, and name it avg_distance. Only show data for aircraft that were launched before January 1, 2014, and took more than one flight.\n",
    "\n"
   ]
  },
  {
   "cell_type": "markdown",
   "metadata": {},
   "source": [
    "```\n",
    "SELECT\n",
    "  aircraft_id,\n",
    "  AVG(distance) AS avg_distance\n",
    "FROM flight\n",
    "JOIN route\n",
    "  ON flight.route_code = route.code\n",
    "JOIN aircraft a\n",
    "  ON a.id = aircraft_id\n",
    "WHERE launched_timestamp < '2014-01-01'\n",
    "GROUP BY aircraft_id\n",
    "HAVING COUNT(flight.id) > 1;\n",
    "```"
   ]
  },
  {
   "cell_type": "markdown",
   "metadata": {},
   "source": [
    "# The DATE_PART() function\n",
    "\n",
    "Now, let's see how we can manipulate dates, times, and timestamps. PostgreSQL provides a special function:\n",
    "\n",
    "`DATE_PART(part, source)`\n",
    "\n",
    "Here `part` is one of the following: `day`, `month`, `year`, `hour`, `minute`, `second`, etc. \n",
    "\n",
    "And source is one of the date and time data types.\n",
    "\n",
    "Take a look:\n",
    "\n",
    "```\n",
    "SELECT DATE_PART('year', launched_timestamp) AS year\n",
    "FROM aircraft\n",
    "ORDER BY year;\n",
    "```\n",
    "\n",
    "The above query will extract the year from the column launched_timestamp for each aircraft and will show it in ascending order.\n",
    "\n",
    "## Exercise\n",
    "\n",
    "For each aircraft show the id, the withdrawn_timestamp column and the withdrawn_month column (extracted month from the withdrawn_timestamp column)."
   ]
  },
  {
   "cell_type": "markdown",
   "metadata": {},
   "source": [
    "# DATE_PART() – example\n",
    "\n",
    "How can we use this function? For instance, we can use it to change the way dates are shown. \n",
    "\n",
    "Take a look:\n",
    "\n",
    "```\n",
    "SELECT\n",
    "  DATE_PART('day', launched_timestamp)\n",
    "    || '-'\n",
    "    || DATE_PART('month', launched_timestamp)\n",
    "    || '-'\n",
    "    || DATE_PART('year', launched_timestamp)\n",
    "    AS launched_date\n",
    "FROM aircraft;\n",
    "```\n",
    "\n",
    "As a result, we get dates like `10-03-2012` instead of `2012-03-10`. \n",
    "\n",
    "However PostgreSQL implements various functions to work with time and date to format them. We will meet these functions in the next section of the course.\n",
    "\n",
    "\n",
    "## Exercise\n",
    "\n",
    "For each route, show its code and the departure time in the following format: `hh.mm`, where `hh` is the hour and `mm` minutes. Name this new column `departure_hour_minute`.\n",
    "\n",
    "\n"
   ]
  },
  {
   "cell_type": "markdown",
   "metadata": {},
   "source": [
    "```\n",
    "SELECT\n",
    "  code,\n",
    "  DATE_PART('hour' , departure_time) || '.' || DATE_PART('minute' , departure_time)\n",
    "AS departure_hour_minute\n",
    "FROM route;\n",
    "```\n"
   ]
  },
  {
   "cell_type": "markdown",
   "metadata": {},
   "source": [
    "# DATE_PART() with the wrong data type\n",
    "\n",
    "You may wonder what happens when you try to extract a field which is not present in the given type. Is it possible to extract a year from a time column? Let's find out.\n",
    "\n",
    "```\n",
    "SELECT DATE_PART('year',  arrival_time) AS year\n",
    "FROM route;\n",
    "```"
   ]
  },
  {
   "cell_type": "markdown",
   "metadata": {},
   "source": [
    "# DATE_PART() with the wrong data type – continued\n",
    "\n",
    "Error! \n",
    "\n",
    "That's what you got, as you probably expected. \n",
    "\n",
    "It's not possible to extract part of date from a time column... But it's possible to extract a field of time from a date column. It will just provide a zero. Let's give it a try.\n",
    "\n",
    "## Exercise\n",
    "\n",
    "For each flight, show its id, flight_date, and month extracted from the flight_date column as the month column."
   ]
  },
  {
   "cell_type": "markdown",
   "metadata": {},
   "source": [
    "```\n",
    "SELECT\n",
    "  id,\n",
    "  flight_date,\n",
    "  DATE_PART('month', flight_date) AS month\n",
    "FROM flight;\n",
    "```"
   ]
  },
  {
   "cell_type": "markdown",
   "metadata": {},
   "source": [
    "# The EXTRACT() function\n",
    "\n",
    "Now observe that similar to the `DATE_PART()` function is `EXTRACT()`, which gets a the part of the date and time. \n",
    "\n",
    "Here's the syntax:\n",
    "\n",
    "`EXTRACT(part FROM source)`\n",
    "\n",
    "`part` is one part of the date and time like: `second`, `minute`, `hour`, `day`, `month`, `year`, etc. source is date and time (timestamp). \n",
    "\n",
    "As you noticed, this function requires the keyword `FROM` between part and source.\n",
    "\n",
    "The query below returns the year of the produced_date of the aircraft:\n",
    "\n",
    "```\n",
    "SELECT EXTRACT(year FROM produced_date) AS produced_year\n",
    "FROM aircraft;\n",
    "```\n",
    "\n",
    "## Exercise\n",
    "\n",
    "For each route show its code and the hour of the departure time (as departure_hour)"
   ]
  },
  {
   "cell_type": "markdown",
   "metadata": {},
   "source": [
    "```\n",
    "SELECT\n",
    "  code,\n",
    "  EXTRACT(hour FROM departure_time) AS departure_hour\n",
    "FROM route;\n",
    "```"
   ]
  },
  {
   "cell_type": "markdown",
   "metadata": {},
   "source": [
    "# The DATE_TRUNC() function\n",
    "\n",
    "Let's learn how to display the date truncated to the given part of the date and time. \n",
    "\n",
    "We'll need a new function:\n",
    "\n",
    "`DATE_TRUNC(field, source)`\n",
    "\n",
    "The `source` argument is timestamp or interval, and the `field` string argument indicates precision to truncate the input date or time. \n",
    "\n",
    "The field can contain these values: millisecond, second, minute, hour, day, week, month, quarter, year, etc.\n",
    "\n",
    "```\n",
    "SELECT\n",
    "  produced_date,\n",
    "  DATE_TRUNC('year', produced_date) AS truncated_produced_date\n",
    "FROM aircraft\n",
    "WHERE id = 1;\n",
    "```\n",
    "\n",
    "Notice that produced_date is truncated to the first day of the year. \n",
    "\n",
    "Only the year comes from the date, the remaining parts are changed to ones or zeros, as appropriate.\n",
    "\n",
    "\n",
    "The DATE_TRUNC() function comes in handy when calculating yearly, monthly, weekly, and similar aggregates. Look at the query below:\n",
    "\n",
    "```\n",
    "SELECT\n",
    "  DATE_TRUNC('month', produced_date) AS trunc_produced_date,\n",
    "  COUNT(id) AS aircraft\n",
    "FROM aircraft\n",
    "GROUP BY trunc_produced_date;\n",
    "```\n",
    "\n",
    "This query displays produced_date truncated to year and month, and the number of aircraft produced during this time. For example, in the output there are two aircraft produced in March 2010.\n",
    "\n",
    "# Exercise\n",
    "\n",
    "Let's find out how many aircraft were withdrawn in each week. In the first column show withdrawn_timestamp truncated to week (name the column week), and in the second show the count as withdrawn_count. Show this summary only for withdrawn aircraft.\n"
   ]
  },
  {
   "cell_type": "markdown",
   "metadata": {},
   "source": [
    "```\n",
    "SELECT\n",
    "  DATE_TRUNC('week', withdrawn_timestamp) AS week,\n",
    "  COUNT(id) AS withdrawn_count\n",
    "FROM aircraft\n",
    "WHERE withdrawn_timestamp IS NOT NULL\n",
    "GROUP BY 1;\n",
    "```"
   ]
  },
  {
   "cell_type": "markdown",
   "metadata": {},
   "source": [
    "# Homework"
   ]
  },
  {
   "cell_type": "markdown",
   "metadata": {},
   "source": [
    "## Exercise\n",
    "For all routes departing between 9:00 AM and 3:00 PM, show the route and both airport codes."
   ]
  },
  {
   "cell_type": "markdown",
   "metadata": {},
   "source": [
    "```\n",
    "SELECT\n",
    "  code,\n",
    "  from_airport,\n",
    "  to_airport\n",
    "FROM route\n",
    "WHERE departure_time BETWEEN '09:00:00' AND '15:00:00';\n",
    "```"
   ]
  },
  {
   "cell_type": "markdown",
   "metadata": {},
   "source": [
    "# Exercise\n",
    "For all flights that took place on July 11, 2015, show the departure and arrival airport, and the aircraft's model info."
   ]
  },
  {
   "cell_type": "markdown",
   "metadata": {},
   "source": [
    "```\n",
    "SELECT\n",
    "  from_airport,\n",
    "  to_airport,\n",
    "  model\n",
    "FROM route\n",
    "JOIN flight\n",
    "  ON route.code = flight.route_code\n",
    "JOIN aircraft\n",
    "  ON flight.aircraft_id = aircraft.id\n",
    "WHERE flight_date = '2015-07-11';\n",
    "```"
   ]
  },
  {
   "cell_type": "markdown",
   "metadata": {},
   "source": [
    "# Exercise\n",
    "\n",
    "Calculate the average delay for all flights taking place in August (for all available years). Name the column avg_delay."
   ]
  },
  {
   "cell_type": "markdown",
   "metadata": {},
   "source": [
    "```\n",
    "SELECT AVG(delay) AS avg_delay\n",
    "FROM flight\n",
    "WHERE DATE_PART('month', flight_date) = '08';\n",
    "```"
   ]
  },
  {
   "cell_type": "markdown",
   "metadata": {},
   "source": [
    "## Exercise\n",
    "\n",
    "Find yearly delay averages. Show two columns: year extracted from the flight_date column, and avg_delay – the average delay in that year."
   ]
  },
  {
   "cell_type": "markdown",
   "metadata": {},
   "source": [
    "```\n",
    "SELECT\n",
    "  DATE_PART('year', flight_date) AS year,\n",
    "  AVG(delay) as avg_delay\n",
    "FROM flight\n",
    "GROUP BY 1;\n",
    "```"
   ]
  },
  {
   "cell_type": "markdown",
   "metadata": {},
   "source": [
    "# Exercise\n",
    "Find out how many aircraft were registered each week. Show two columns: week and count. The week column should have values like 2011-01-31 00:00:00.0."
   ]
  },
  {
   "cell_type": "markdown",
   "metadata": {},
   "source": [
    "```\n",
    "SELECT\n",
    "  DATE_TRUNC('week', registration_timestamp) AS week,\n",
    "  COUNT(id) AS count\n",
    "FROM aircraft\n",
    "GROUP BY DATE_TRUNC('week', registration_timestamp);\n",
    "```"
   ]
  },
  {
   "cell_type": "code",
   "execution_count": null,
   "metadata": {},
   "outputs": [],
   "source": []
  }
 ],
 "metadata": {
  "kernelspec": {
   "display_name": "Python 3",
   "language": "python",
   "name": "python3"
  },
  "language_info": {
   "codemirror_mode": {
    "name": "ipython",
    "version": 3
   },
   "file_extension": ".py",
   "mimetype": "text/x-python",
   "name": "python",
   "nbconvert_exporter": "python",
   "pygments_lexer": "ipython3",
   "version": "3.7.3"
  }
 },
 "nbformat": 4,
 "nbformat_minor": 4
}
