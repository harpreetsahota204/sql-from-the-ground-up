{
 "cells": [
  {
   "cell_type": "markdown",
   "metadata": {},
   "source": [
    "# Data from multiple tables\n",
    "\n",
    "\n",
    "In the last class you learned how to get data from a single table. \n",
    "\n",
    "You've also learned how to filter rows to only get those which you really need.\n",
    "\n",
    "Single tables might seem handy at first, but in big databases we always use multiple tables.\n",
    "\n",
    "This also means that we often want to get data from more than one table at a time. By the end of this part, you'll know how to join results from multiple tables.\n",
    "\n",
    "We're going to be using `DB Fiddle` for this course. \n",
    "\n",
    "Navigate to: https://www.db-fiddle.com/\n",
    "\n",
    "In the top right corner of the webpage, be sure to select `Database: PostgreSQL 13`\n",
    "\n",
    "Now, in the `Schema SQL` pane on the left copy and paste the following:\n",
    "\n",
    "\n",
    "```\n",
    "CREATE TABLE IF NOT EXISTS \"director\" (\n",
    "    \"id\" INT,\n",
    "    \"name\" TEXT,\n",
    "    \"birth_year\" INT\n",
    ");\n",
    "INSERT INTO \"director\" VALUES\n",
    "    (1,'Alfred Hitchcock',1899),\n",
    "    (2,'Steven Spielberg',1946),\n",
    "    (3,'Woody Allen',1935),\n",
    "    (4,'Quentin Tarantino',1963),\n",
    "    (5,'Pedro Almodóvar',1949);\n",
    "\n",
    "CREATE TABLE IF NOT EXISTS \"movie\" (\n",
    "    \"id\" INT,\n",
    "    \"title\" TEXT,\n",
    "    \"production_year\" INT,\n",
    "    \"director_id\" INT\n",
    ");\n",
    "INSERT INTO \"movie\" VALUES\n",
    "    (1,'Psycho',1960,1),\n",
    "    (2,'Saving Private Ryan',1998,2),\n",
    "    (3,'Schindler''s List',1993,2),\n",
    "    (4,'Midnight in Paris',2011,3),\n",
    "    (5,'Sweet and Lowdown',1993,3),\n",
    "    (6,'Pulp fiction',1994,4),\n",
    "    (7,'Talk to her',2002,5),\n",
    "    (8,'The skin I live in',2011,5);\n",
    "```\n",
    "\n",
    "We know who directed a specific movie because there is a column director_id in the movie table. \n",
    "\n",
    "If you take a look at \"Midnight in Paris\", its director_id is 3. So we can now look into the director table to find out that id 3 is assigned to Woody Allen. \n",
    "\n",
    "And that's how we know he is the director. \n",
    "\n",
    "Did you get that right?\n",
    "\n",
    "\n",
    "There are quite a few ways of getting information from multiple tables at the same time. We're going to start with the easiest one.\n",
    "\n",
    "You already know how `SELECT * FROM` works, don't you? \n",
    "\n",
    "Now we just name two tables instead of one, and we separate them with a comma (,). Piece of cake! The result, however, might be a tiny bit of a surprise to you. Let's check that out.\n",
    "\n",
    "\n",
    "### Exercise\n",
    "\n",
    "Get all the data from two tables: movie and director.\n",
    "\n",
    "If there are 8 movies and 5 directors, how many rows will we get in our result? \n",
    "\n",
    "Think about it before you RUN AND CHECK CODE.\n",
    "\n",
    "```\n",
    "SELECT *\n",
    "FROM movie, director;\n",
    "```\n",
    "\n",
    "\n",
    "Note that you won't see all rows returned by the query – our platform displays only a limited number of rows due to readability restrictions.\n",
    "\n",
    "A bit surprised, huh? \n",
    "\n",
    "\n",
    "If there are 8 movies and 5 directors, most people will say that we'll get 5, 8 or 13 rows in the result. \n",
    "\n",
    "#### This is not true.\n",
    "\n",
    "We've got 40 rows altogether because **SQL takes every single movie and joins it with every possible director.**\n",
    "\n",
    "So we now have 8 * 5 = 40 rows!\n",
    "\n",
    "### Why did this happen? \n",
    "\n",
    "SQL doesn't know what to do with the results from the two tables, so it gave you every possible connection. \n",
    "\n",
    "\n",
    "How can we change it? Take a look:\n",
    "\n",
    "\n",
    "```\n",
    "SELECT *\n",
    "FROM movie, director\n",
    "WHERE director.id = movie.director_id;\n",
    "```\n",
    "\n",
    "We've set a new condition in the `WHERE` clause. \n",
    "\n",
    "We now see only those connections where `id` from `director` is the same as `id` from `movie`. \n",
    "\n",
    "Makes sense, right?\n",
    "\n",
    "# The keyword `JOIN`\n",
    "\n",
    "Joining two tables is such a popular and frequent operation that SQL provides a special word for it: `JOIN`. \n",
    "\n",
    "\n",
    "There are many versions of JOIN out there. For the time being, we'll focus on the basic one.\n",
    "\n",
    "\n",
    "Remember the `car` table from the previous lesson? Now imagine we also had a `person` table to go along with it and we want to join the person and car tables.\n",
    "\n",
    "We use the keyword `JOIN` between their names.\n",
    "\n",
    "```\n",
    "SELECT *\n",
    "FROM person\n",
    "JOIN car\n",
    "  ON person.id = car.owner_id;\n",
    "```\n",
    "\n",
    "SQL must also know how to join the tables, so there is another keyword `ON`. \n",
    "\n",
    "After it, we set our condition: join only those rows where the `id` in `person` is the same as `owner_id` in `car`.\n",
    "\n",
    "### Exercise\n",
    "\n",
    "\n",
    "Use the new construction `JOIN ... ON` to join rows from the movie and director tables in such a way that a movie is shown together with its director.\n",
    "\n",
    "#### Show me the answer\n",
    "(click the three dots below)"
   ]
  },
  {
   "cell_type": "markdown",
   "metadata": {
    "jupyter": {
     "source_hidden": true
    }
   },
   "source": [
    "```\n",
    "SELECT *\n",
    "FROM movie\n",
    "JOIN director\n",
    "  ON movie.director_id = director.id;\n",
    "```"
   ]
  },
  {
   "cell_type": "markdown",
   "metadata": {},
   "source": [
    "Now, let's say we only need a few columns in our result.\n",
    "\n",
    "Instead of the asterisk (`*`), we put the column names.\n",
    "\n",
    "### Exercise\n",
    "\n",
    "\n",
    "Select **director name** and **movie title** from tables `movie` and `director` in such a way that a movie is shown together with its director.\n",
    "\n",
    "#### Show me the answer\n",
    "(Click the three dots below)"
   ]
  },
  {
   "cell_type": "markdown",
   "metadata": {
    "jupyter": {
     "source_hidden": true
    }
   },
   "source": [
    "```\n",
    "SELECT movie.title, director.name\n",
    "FROM movie\n",
    "JOIN director\n",
    "  ON movie.director_id = director.id;\n",
    "```"
   ]
  },
  {
   "cell_type": "markdown",
   "metadata": {},
   "source": [
    "As we now have more than one table, we put the table name in front of the column name and we separate them with a dot (`.`). \n",
    "\n",
    "In this way, SQL knows that the column `title` belongs to the `movie` table, etc.\n",
    "\n",
    "\n",
    "### Refer to columns without table names\n",
    "\n",
    "In the previous example, we provided column names together with the tables they are a part of. \n",
    "\n",
    "It's good practice, but you only **need** to do it when there is **a chance of confusing them**. \n",
    "\n",
    "If there are two different columns with the same name in two different tables, then you have to specify the tables.\n",
    "\n",
    "#### If the name of the column is unique, though, you may omit the table name.\n",
    "\n",
    "\n",
    "#### Exercise\n",
    "\n",
    "Select **director name** and **movie title** from the `movie` and `directo`r tables in such a way that a movie is shown together with its director. \n",
    "\n",
    "Don't write table names in the `SELECT` clause.\n",
    "\n",
    "#### Show me the answer"
   ]
  },
  {
   "cell_type": "markdown",
   "metadata": {
    "jupyter": {
     "source_hidden": true
    }
   },
   "source": [
    "```\n",
    "SELECT title, name\n",
    "FROM movie\n",
    "JOIN director\n",
    "  ON director_id = director.id;\n",
    "```"
   ]
  },
  {
   "cell_type": "markdown",
   "metadata": {},
   "source": [
    "## Rename columns with `AS`\n",
    "\n",
    "We can do one more thing with our columns: rename them. \n",
    "\n",
    "After the column name, e.g. `person.id`, we use the new keyword `AS` and we put the new name after it (`person_id`). \n",
    "\n",
    "Up till now, the column named `id` was always shown as `id` in the result. Now we will change it:\n",
    "\n",
    "```\n",
    "SELECT\n",
    "  person.id AS person_id,\n",
    "  car.id AS car_id\n",
    "FROM person\n",
    "JOIN car\n",
    "  ON person.id = car.owner_id;\n",
    "```\n",
    "\n",
    "We can repeat this process with every column.\n",
    "\n",
    "The new name is just an **alias**, which means it's temporary and doesn't change the actual column name in the database. \n",
    "\n",
    "It only influences the way the column is shown in the result of the specific query. \n",
    "\n",
    "This technique is often used when there are a few columns with the same name coming from different tables. \n",
    "\n",
    "Normally, when SQL displays columns in the result, there is no information about the table that a specific column is part of.\n",
    "\n",
    "In our fictitious example, we had two columns `id`, so we renamed them to `person_id` and `car_id` respectively. \n",
    "\n",
    "Now, if we see the columns in the result, we will know which column comes from which table.\n",
    "\n",
    "### Exercise\n",
    "\n",
    "In this exercise, show the `title` column as `movie_title`. \n",
    "\n",
    "#### Show me the answer"
   ]
  },
  {
   "cell_type": "markdown",
   "metadata": {
    "jupyter": {
     "source_hidden": true
    }
   },
   "source": [
    "```\n",
    "SELECT\n",
    "  title AS movie_title,\n",
    "  name\n",
    "FROM movie\n",
    "JOIN director\n",
    "  ON director_id = director.id;\n",
    "```"
   ]
  },
  {
   "cell_type": "markdown",
   "metadata": {},
   "source": [
    "## Filter the joined tables\n",
    "\n",
    "Now that we know how to work with columns, let's find out how to filter the results even further:\n",
    "\n",
    "```\n",
    "SELECT \n",
    "    movie.title AS film_title,\n",
    "    director.name AS director_name\n",
    "FROM movie\n",
    "JOIN director\n",
    "  ON director_id = director.id\n",
    "WHERE director.birth_year > 1947;\n",
    "```\n",
    "\n",
    "The new part here is the `WHERE` clause. \n",
    "\n",
    "Here we're getting the movie title and the directors name for all the directors who were born after 1947.\n",
    "\n",
    "### Exercise\n",
    "\n",
    "Select all columns from tables movie and director in such a way that a movie is shown together with its director. \n",
    "\n",
    "Select only those movies which were made after 2000.\n",
    "\n",
    "#### Show me the answer"
   ]
  },
  {
   "cell_type": "markdown",
   "metadata": {
    "jupyter": {
     "source_hidden": true
    }
   },
   "source": [
    "```\n",
    "SELECT *\n",
    "FROM movie\n",
    "JOIN director\n",
    "  ON director_id = director.id\n",
    "WHERE production_year > 2000;\n",
    "```"
   ]
  },
  {
   "cell_type": "markdown",
   "metadata": {},
   "source": [
    "Filtering the results is very important, so let's do another exercise on that. \n",
    "\n",
    "Do you still remember how text values work in SQL?\n",
    "\n",
    "### Exercise\n",
    "\n",
    "Select all columns from tables movie and director in such a way that a movie is shown together with its director. \n",
    "\n",
    "Select only those movies which were directed by Steven Spielberg.\n",
    "\n",
    "#### Show me the answer"
   ]
  },
  {
   "cell_type": "markdown",
   "metadata": {
    "jupyter": {
     "source_hidden": true
    }
   },
   "source": [
    "```\n",
    "SELECT *\n",
    "FROM movie\n",
    "JOIN director\n",
    "  ON director_id = director.id\n",
    "WHERE director.name = 'Steven Spielberg';\n",
    "```"
   ]
  },
  {
   "cell_type": "markdown",
   "metadata": {},
   "source": [
    "### Put your skills to practice\n",
    "\n",
    "Let's put into practice everything we've learned so far. Are you ready? This example is going to be slightly more complicated, so make sure you remember everything from this part of the course.\n",
    "\n",
    "#### Exercise\n",
    "\n",
    "Select the title and production_year columns from the movie table, and the name and birth_year columns from the director table in such a way that a movie is shown together with its director.\n",
    "\n",
    "Show the column birth_year as born_in. Select only those movies which were filmed when their director was younger than 40 (i.e. the difference between production_year and birth_year must be less than 40).\n",
    "\n",
    "#### Show me the answer"
   ]
  },
  {
   "cell_type": "markdown",
   "metadata": {
    "jupyter": {
     "source_hidden": true
    }
   },
   "source": [
    "```\n",
    "SELECT\n",
    "  title,\n",
    "  production_year,\n",
    "  name,\n",
    "  birth_year AS Born_In\n",
    "FROM movie\n",
    "JOIN director\n",
    "  ON director_id = director.id\n",
    "WHERE (production_year - birth_year) < 40;\n",
    "```"
   ]
  },
  {
   "cell_type": "markdown",
   "metadata": {},
   "source": [
    "Select the `id`, `title`, and `production_year` columns from the `movie` table, and the `name` and `birth_year` columns from the director table in such a way that a movie is shown together with its director. \n",
    "\n",
    "Show the column `birth_year` as `born_in` and the column `production_year` as `produced_in`. \n",
    "\n",
    "Select only those movies:\n",
    "\n",
    "- whose title contains a letter 'a' and which were filmed after 2000, or\n",
    "- whose director was born between 1945 and 1995.\n",
    "\n",
    "#### Show me the answer\n"
   ]
  },
  {
   "cell_type": "markdown",
   "metadata": {
    "jupyter": {
     "source_hidden": true
    }
   },
   "source": [
    "```\n",
    "SELECT\n",
    "  movie.id,\n",
    "  title,\n",
    "  production_year AS Produced_In,\n",
    "  name,\n",
    "  birth_year AS Born_In\n",
    "FROM movie\n",
    "JOIN director\n",
    "  ON director.id = director_id\n",
    "WHERE (title LIKE '%a%' AND production_year > 2000)\n",
    "  OR (birth_year BETWEEN 1945 AND 1995);\n",
    "```"
   ]
  },
  {
   "cell_type": "markdown",
   "metadata": {},
   "source": [
    "# More on joins\n",
    "\n",
    "Copy and paste the following into DB-Fiddle.\n",
    "\n",
    "```\n",
    "CREATE TABLE IF NOT EXISTS \"student\" (\n",
    "    \"id\" INT,\n",
    "    \"name\" TEXT,\n",
    "    \"room_id\" INT\n",
    ");\n",
    "INSERT INTO \"student\" VALUES\n",
    "    (1,'Jack Pearson',8),\n",
    "    (2,'Charlie Black',null),\n",
    "    (3,'Ethan Wright',15),\n",
    "    (4,'Mary Benett',null),\n",
    "    (5,'Brian Saunders',8),\n",
    "    (6,'Ella Watson',8),\n",
    "    (7,'Jacob Chapman',null),\n",
    "    (8,'Charlotte Wood',1),\n",
    "    (9,'Emily Lane',1),\n",
    "    (10,'Freya Hart',10),\n",
    "    (11,'Megan Mcdonald',10),\n",
    "    (12,'Noah Rose',5),\n",
    "    (13,'Oscar Walls',10),\n",
    "    (14,'Luke Wild',11),\n",
    "    (15,'Benjamin Slade',10);\n",
    "    \n",
    "    \n",
    "CREATE TABLE IF NOT EXISTS \"room\" (\n",
    "    \"id\" INT,\n",
    "    \"room_number\" INT,\n",
    "    \"beds\" INT,\n",
    "    \"floor\" INT\n",
    ");\n",
    "INSERT INTO \"room\" VALUES\n",
    "    (1,101,2,1),\n",
    "    (2,102,2,1),\n",
    "    (3,103,3,1),\n",
    "    (4,104,3,1),\n",
    "    (5,201,1,2),\n",
    "    (6,202,2,2),\n",
    "    (7,203,3,2),\n",
    "    (8,204,3,2),\n",
    "    (9,205,4,2),\n",
    "    (10,301,4,3),\n",
    "    (11,302,1,3),\n",
    "    (12,303,2,3),\n",
    "    (13,401,3,4),\n",
    "    (14,402,1,4),\n",
    "    (15,403,1,4);\n",
    "\n",
    "CREATE TABLE IF NOT EXISTS \"equipment\" (\n",
    "    \"id\" INT,\n",
    "    \"name\" TEXT,\n",
    "    \"room_id\" INT\n",
    ");\n",
    "INSERT INTO \"equipment\" VALUES\n",
    "    (1,'kettle',4),\n",
    "    (2,'fridge',5),\n",
    "    (3,'tv',8),\n",
    "    (4,'tv',NULL),\n",
    "    (5,'kettle',7),\n",
    "    (6,'radio',7),\n",
    "    (7,'computer',7),\n",
    "    (8,'toaster',1),\n",
    "    (9,'toaster',1),\n",
    "    (10,'microwave',NULL),\n",
    "    (11,'kettle',NULL),\n",
    "    (12,'kettle',2),\n",
    "    (13,'tv',3),\n",
    "    (14,'microwave',9),\n",
    "    (15,'computer',10);\n",
    "\n",
    "```"
   ]
  },
  {
   "cell_type": "markdown",
   "metadata": {},
   "source": [
    "# INNER JOIN\n",
    "\n",
    "`JOIN` is actually just one, of a few joining methods. \n",
    "\n",
    "It's the most common one so it's always applied by default when you write the keyword `JOIN` in your SQL statement. \n",
    "\n",
    "Technically speaking, though, its full name is `INNER JOIN`.\n",
    "\n",
    "### Exercise\n",
    "\n",
    "Now, use the full name `INNER JOIN` to join the room and equipment tables, so that each piece of equipment is shown together with its room and other relevant columns. \n",
    "\n",
    "The result should have the following columns:\n",
    "\n",
    "- `room_id` – ID of the room\n",
    "- `room_number`\n",
    "- `beds`\n",
    "- `floor`\n",
    "- `equipment_id` – ID of the equipment\n",
    "- `name` (of the equipment)\n",
    "\n",
    "#### Show me the answer"
   ]
  },
  {
   "cell_type": "markdown",
   "metadata": {
    "jupyter": {
     "source_hidden": true
    }
   },
   "source": [
    "```\n",
    "SELECT\n",
    "  room.id AS room_id,\n",
    "  room_number,\n",
    "  beds,\n",
    "  floor,\n",
    "  equipment.id AS equipment_id,\n",
    "  name\n",
    "FROM room\n",
    "INNER JOIN equipment\n",
    "  ON equipment.room_id = room.id;\n",
    "```"
   ]
  },
  {
   "cell_type": "markdown",
   "metadata": {},
   "source": [
    "## How INNER JOIN works\n",
    "\n",
    "\n",
    "If you now compare the results of `INNER JOIN` with the content of the `equipment` table, you'll notice that not all pieces of equipment are present in the resulting table.\n",
    "\n",
    "For example, a lovely kettle with the ID of 11 is not there. \n",
    "\n",
    "Do you know why?\n",
    "\n",
    "`INNER JOIN` (or JOIN, for short) only shows those rows from the two tables where there is a match between the columns. \n",
    "\n",
    "In other words, you can only see those pieces of equipment which have a room assigned and vice versa. Equipment with no room is not shown in the result. "
   ]
  },
  {
   "cell_type": "markdown",
   "metadata": {},
   "source": [
    "## LEFT JOIN\n",
    "\n",
    "\n",
    "`LEFT JOIN` works in the following way: it returns all rows from the left table (the first table in the query) plus all matching rows from the right table (the second table in the query).\n",
    "\n",
    "### Exercise\n",
    "\n",
    "Show all rows from the student table. If a student is assigned to a room, show the room data as well.\n",
    "\n",
    "#### Show me the answer"
   ]
  },
  {
   "cell_type": "markdown",
   "metadata": {
    "jupyter": {
     "source_hidden": true
    }
   },
   "source": [
    "```\n",
    "SELECT *\n",
    "FROM student\n",
    "LEFT JOIN room\n",
    "  ON student.room_id = room.id;\n",
    "```\n",
    "\n"
   ]
  },
  {
   "cell_type": "markdown",
   "metadata": {},
   "source": [
    "### Exercise\n",
    "\n",
    "Select all pieces of equipment together with the room they are assigned to. Show each piece of equipment even if it isn't assigned to a room.\n",
    "\n",
    "#### Show me the answer"
   ]
  },
  {
   "cell_type": "markdown",
   "metadata": {
    "jupyter": {
     "source_hidden": true
    }
   },
   "source": [
    "```\n",
    "SELECT *\n",
    "FROM equipment\n",
    "LEFT JOIN room\n",
    "  ON equipment.room_id = room.id;\n",
    "```"
   ]
  },
  {
   "cell_type": "markdown",
   "metadata": {},
   "source": [
    "## RIGHT JOIN\n",
    "\n",
    "The `RIGHT JOIN` works in the following way: it returns all rows from the right table (the second table in the query) plus all matching rows from the left table (the first table in the query).\n",
    "\n",
    "\n",
    "Note: that the order of the tables in `LEFT` and `RIGHT JOIN` matters. \n",
    "\n",
    "In other words, `car RIGHT JOIN person` is the same as `person LEFT JOIN car`. \n",
    "\n",
    "Don't confuse the order!\n",
    "\n",
    "\n",
    "### Exercise\n",
    "For each student show their data with the data of the room they live in. Show also rooms with no students assigned. Use a RIGHT JOIN.\n",
    "\n",
    "#### Show me the answer"
   ]
  },
  {
   "cell_type": "markdown",
   "metadata": {
    "jupyter": {
     "source_hidden": true
    }
   },
   "source": [
    "```\n",
    "SELECT *\n",
    "FROM student\n",
    "RIGHT JOIN room\n",
    "  ON student.room_id = room.id;\n",
    "```"
   ]
  },
  {
   "cell_type": "markdown",
   "metadata": {},
   "source": [
    "# FULL JOIN\n",
    "\n",
    "\n",
    "\n",
    "Another joining method is `FULL JOIN`. This type of `JOIN` returns all rows from both tables and combines the rows when there is a match. In other words, FULL JOIN is a union of LEFT JOIN and RIGHT JOIN.\n",
    "\n",
    "\n",
    "### Exercise\n",
    "\n",
    "Show the room data which each student is assigned to. Include students without a room and rooms without students. Show all columns.\n",
    "\n",
    "#### Show me the answer"
   ]
  },
  {
   "cell_type": "markdown",
   "metadata": {
    "jupyter": {
     "source_hidden": true
    }
   },
   "source": [
    "```\n",
    "SELECT *\n",
    "FROM room\n",
    "RIGHT JOIN student\n",
    "  ON student.room_id = room.id;\n",
    "```"
   ]
  },
  {
   "cell_type": "markdown",
   "metadata": {},
   "source": [
    "# OUTER JOIN\n",
    "\n",
    "Remember when I told you that `JOIN` is short for `INNER JOIN`?\n",
    "\n",
    "The three joins we mentioned just now: `LEFT JOIN`, `RIGHT JOIN`, and `FULL JOIN` are also shortcuts. \n",
    "\n",
    "They are all actually OUTER JOINs: `LEFT OUTER JOIN`, `RIGHT OUTER JOIN`, and `FULL OUTER JOIN`. You can add the keyword OUTER and the results of your queries will stay the same.\n",
    "\n",
    "### Exercise\n",
    "\n",
    "Check it out for yourself. Use the full name RIGHT OUTER JOIN to show all the kettles together with their room data (even if there is no room assigned).\n",
    "\n",
    "#### Show me the answer"
   ]
  },
  {
   "cell_type": "markdown",
   "metadata": {
    "jupyter": {
     "source_hidden": true
    }
   },
   "source": [
    "```\n",
    "SELECT *\n",
    "FROM room\n",
    "RIGHT OUTER JOIN equipment\n",
    "  ON room.id = equipment.room_id\n",
    "WHERE equipment.name = 'kettle';\n",
    "```"
   ]
  },
  {
   "cell_type": "markdown",
   "metadata": {},
   "source": [
    "# Natural Join\n",
    "\n",
    "There's one more joining method before you go. \n",
    "\n",
    "It's called `NATURAL JOIN` and it's slightly different from the other methods because it doesn't require the ON clause with the joining condition.\n",
    "\n",
    "\n",
    "### Exercise\n",
    "Use a NATURAL JOIN on the student and room tables.\n",
    "\n",
    "#### Show me the answer"
   ]
  },
  {
   "cell_type": "markdown",
   "metadata": {
    "jupyter": {
     "source_hidden": true
    }
   },
   "source": [
    "```\n",
    "SELECT *\n",
    "FROM student\n",
    "NATURAL JOIN room;\n",
    "```"
   ]
  },
  {
   "cell_type": "markdown",
   "metadata": {},
   "source": [
    "`NATURAL JOIN` doesn't require column names because it always joins the two tables on the columns with the same name.\n",
    "\n",
    "In our example, students and rooms have been joined on the column id, which doesn't really make much sense. In our dormitory, the construction\n",
    "\n",
    "\n",
    "```\n",
    "SELECT *\n",
    "FROM student\n",
    "NATURAL JOIN room;\n",
    "```\n",
    "\n",
    "gives the same result as the following query:\n",
    "\n",
    "```\n",
    "SELECT *\n",
    "FROM student\n",
    "JOIN room\n",
    "  ON student.id = room.id;\n",
    "```\n",
    "\n",
    "You can, however, construct your tables in such a way that NATURAL JOIN comes in handy. If you had the following tables:\n",
    "\n",
    "car(car_id, brand, model)\n",
    "\n",
    "owner(owner_id, name, car_id)\n",
    "\n",
    "Then it would make perfect sense to use NATURAL JOIN because it would join the two tables on the car_id column. You would then need fewer keyboard strokes to join two tables."
   ]
  },
  {
   "cell_type": "markdown",
   "metadata": {},
   "source": [
    "# Set operations\n",
    "\n",
    "Lets play around with a couple of new tables \n",
    "\n",
    "```\n",
    "-- skating table\n",
    "\n",
    "CREATE TABLE IF NOT EXISTS \"skating\" (\n",
    "    \"d\" INT,\n",
    "    \"person\" TEXT,\n",
    "    \"country\" TEXT,\n",
    "    \"year\" INT,\n",
    "    \"place\" INT\n",
    ");\n",
    "INSERT INTO \"skating\" VALUES\n",
    "    (1,'Clara Hughes','Canada',2006,1),\n",
    "    (2,'Christa Luding-Rothenburger','East Germany',1988,1),\n",
    "    (3,'Michel Muder','Netherlands',2014,1),\n",
    "    (4,'Anni Friesinger','Germany',2002,1),\n",
    "    (5,'Keiichiro Nagashima','Japan',2014,2),\n",
    "    (6,'Lee Kang-seok','Korea',2006,3),\n",
    "    (7,'Hiroyasu Shimizu','Japan',1998,1),\n",
    "    (8,'Uwe Jens-Mey','Germany',1992,1);\n",
    "\n",
    "-- cycling table\n",
    "\n",
    "CREATE TABLE IF NOT EXISTS \"cycling\" (\n",
    "    \"id\" INT,\n",
    "    \"person\" TEXT,\n",
    "    \"country\" TEXT,\n",
    "    \"year\" INT,\n",
    "    \"place\" INT\n",
    ");\n",
    "INSERT INTO \"cycling\" VALUES\n",
    "    (1,'Clara Hughes','Canada',1996,3),\n",
    "    (2,'Christa Luding-Rothenburger','East Germany',1988,2),\n",
    "    (3,'Lizzie Armitstead','Great Britain',2012,2),\n",
    "    (4,'Guo Shuang','China',2008,3),\n",
    "    (5,'Sabine Spitz','Germany',2004,3),\n",
    "    (6,'Paola Pezzo','Italy',1996,1),\n",
    "    (7,'Lori-Ann Muenzer','Canada',2004,1),\n",
    "    (8,'Oksana Grishina','Russia',2000,2);\n",
    "\n",
    "```\n",
    "\n",
    "## UNION\n",
    "\n",
    "What is a union? Well, to make a long story short, it combines results of two or more queries. \n",
    "\n",
    "Let's analyze the example:\n",
    "\n",
    "```\n",
    "SELECT *\n",
    "FROM cycling\n",
    "WHERE country = 'Germany'\n",
    "\n",
    "UNION\n",
    "\n",
    "SELECT *\n",
    "FROM skating\n",
    "WHERE country = 'Germany';\n",
    "```\n",
    "\n",
    "As you can see, we first selected all medals for Germany from the cycling table, then we used the keyword UNION and finally we selected all medals for Germany from the skating table.\n",
    "\n",
    "You may be tempted to ask: Could we split this instruction into two separate queries? \n",
    "\n",
    "Of course we could. \n",
    "\n",
    "But using a UNION, we get all results for the first table PLUS the results of the second table shown together. Remember to only put the semicolon (;) at the very end of the whole instruction!\n",
    "\n",
    "## Exercise\n",
    "\n",
    "Show all the medals for the period between 2010 and 2014 for skating and cycling. Use the UNION keyword."
   ]
  },
  {
   "cell_type": "markdown",
   "metadata": {
    "jupyter": {
     "source_hidden": true
    }
   },
   "source": [
    "```\n",
    "SELECT *\n",
    "FROM cycling\n",
    "WHERE year BETWEEN 2010 AND 2014\n",
    "\n",
    "UNION\n",
    "\n",
    "SELECT *\n",
    "FROM skating\n",
    "WHERE year BETWEEN 2010 AND 2014;\n",
    "```\n"
   ]
  },
  {
   "cell_type": "markdown",
   "metadata": {},
   "source": [
    "# Conditions for UNION\n",
    "\n",
    "\n",
    "Okay, how does the magic work? \n",
    "\n",
    "How can we show two tables as one?\n",
    "\n",
    "As you probably expect, both tables must have the same number of columns so that the results can be merged into one table.\n",
    "\n",
    "Makes sense, right? \n",
    "\n",
    "You should also remember that the respective columns must have the same kind of information: number or text.\n",
    "\n",
    "For example, if one of your queries has a row of numbers (1, 2, 3) and the other of varchars ('first', 'second', 'third'), the trick won't work."
   ]
  },
  {
   "cell_type": "markdown",
   "metadata": {},
   "source": [
    "# Intersect\n",
    "\n",
    "Let's change our example a little bit:\n",
    "\n",
    "```\n",
    "SELECT year\n",
    "FROM cycling\n",
    "WHERE country = 'Germany'\n",
    "\n",
    "INTERSECT\n",
    "\n",
    "SELECT year\n",
    "FROM skating\n",
    "WHERE country = 'Germany';\n",
    "```\n",
    "\n",
    "\n",
    "Instead of `UNION` (or `UNION ALL`), we've put `INTERSECT` in there. What's the difference?\n",
    "\n",
    "Well, `UNION` gave you all the results from the first query PLUS the results from the second query. \n",
    "\n",
    "`INTERSECT`, on the other hand, only shows the rows which belong to BOTH tables.\n",
    "\n",
    "In this case, we would get the years when Germany got a medal in cycling AND speed skating at the same time.\n",
    "\n",
    "The conditions here stay the same: the number of columns in both tables must be the same and the number or text values must match.\n",
    "\n",
    "### Exercise\n",
    "Find names of each person who has medals in cycling and skating. Use an INTERSECT."
   ]
  },
  {
   "cell_type": "markdown",
   "metadata": {
    "jupyter": {
     "source_hidden": true
    }
   },
   "source": [
    "```\n",
    "SELECT person\n",
    "FROM cycling\n",
    "\n",
    "INTERSECT\n",
    "\n",
    "SELECT person\n",
    "FROM skating;\n",
    "```\n"
   ]
  },
  {
   "cell_type": "markdown",
   "metadata": {},
   "source": [
    "# Except\n",
    "\n",
    "The next keyword is: `EXCEPT`. Let's change our example one more time:\n",
    "\n",
    "```\n",
    "SELECT person\n",
    "FROM cycling\n",
    "WHERE country = 'Germany'\n",
    "\n",
    "EXCEPT\n",
    "\n",
    "SELECT person\n",
    "FROM skating\n",
    "WHERE country = 'Germany';\n",
    "```\n",
    "\n",
    "So what does `EXCEPT` do? \n",
    "\n",
    "It shows all the results from the first (left) table with the exception of those that also appeared in the second (right) table.\n",
    "\n",
    "In our example, we will see all people from Germany who won a medal in cycling except for the people from Germany who also won a medal in skating.\n",
    "\n",
    "\n",
    "### Exercise\n",
    "Find all the countries which have a medal in cycling but not in skating."
   ]
  },
  {
   "cell_type": "markdown",
   "metadata": {
    "jupyter": {
     "source_hidden": true
    }
   },
   "source": [
    "```\n",
    "SELECT country\n",
    "FROM cycling\n",
    "\n",
    "EXCEPT\n",
    "\n",
    "SELECT country\n",
    "FROM skating;\n",
    "```"
   ]
  },
  {
   "cell_type": "code",
   "execution_count": null,
   "metadata": {},
   "outputs": [],
   "source": []
  }
 ],
 "metadata": {
  "kernelspec": {
   "display_name": "Python 3",
   "language": "python",
   "name": "python3"
  },
  "language_info": {
   "codemirror_mode": {
    "name": "ipython",
    "version": 3
   },
   "file_extension": ".py",
   "mimetype": "text/x-python",
   "name": "python",
   "nbconvert_exporter": "python",
   "pygments_lexer": "ipython3",
   "version": "3.7.3"
  }
 },
 "nbformat": 4,
 "nbformat_minor": 4
}
