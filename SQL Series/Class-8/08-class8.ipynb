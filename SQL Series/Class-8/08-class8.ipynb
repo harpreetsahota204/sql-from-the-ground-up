{
 "cells": [
  {
   "cell_type": "markdown",
   "metadata": {},
   "source": [
    "Today, We're going to continue to get familiarized with PostgreSQL's date and time functions - picking up where we left off last week and the moving into some other commonly used functions\n",
    "\n",
    "Both beginners and more advanced users will find something useful here!\n",
    "\n",
    "We're gonna cover the following topics:\n",
    "- Date intervals\n",
    "- The Overlaps operator\n",
    "- The AGE function\n",
    "- Formatting dates and times\n",
    "- Coalsece function\n",
    "- Greatest and Least functions\n",
    "- Nulliff function\n",
    "\n",
    "\n",
    "We're going to be using `DB Fiddle` for this course. \n",
    "\n",
    "Navigate to: https://www.db-fiddle.com/\n",
    "\n",
    "In the top right corner of the webpage, be sure to select `Database: PostgreSQL 13`\n",
    "\n",
    "Now, in the `Schema SQL` pane on the left copy and paste the following, or just click this link here: https://www.db-fiddle.com/f/9hh1sKDrTkgxKV4U6VX7h5/0\n",
    "\n",
    "Note: for the first half of this class we are using the same schema as the last class, and then switching schemas later when we finish up the date time functions.\n",
    "\n",
    "```\n",
    "CREATE TABLE IF NOT EXISTS \"route\" (\n",
    "    \"code\" TEXT,\n",
    "    \"from_airport\" TEXT,\n",
    "    \"to_airport\" TEXT,\n",
    "    \"distance\" INT,\n",
    "    \"departure_time\" time,\n",
    "    \"arrival_time\" time\n",
    ");\n",
    "INSERT INTO \"route\" VALUES\n",
    "    ('PA2342','FRA','WAW',558,'07:55:00','09:30:00'),\n",
    "    ('PA8793','MAD','NRT',6701,'13:20:00','04:35:00'),\n",
    "    ('PA5643','GLA','DUB',185,'21:50:00','22:50:00'),\n",
    "    ('PA8744','WMI','CRL',710,'10:25:00','12:15:00'),\n",
    "    ('PA2134','KEF','GDN',1564,'21:25:00','00:55:00'),\n",
    "    ('PA3424','BLQ','MAD',807,'08:00:00','10:45:00'),\n",
    "    ('PA7155','JFK','CDG',5847,'11:05:00','18:35:00'),\n",
    "    ('PA6851','LHR','PRY',8949,'16:55:00','11:35:00'),\n",
    "    ('PA3425','ARN','SXF',810,'14:15:00','15:50:00'),\n",
    "    ('PA1269','FCO','CDG',1100,'18:05:00','20:15:00'),\n",
    "    ('PA7653','VCE','FCO',550,'19:20:00','20:40:00'),\n",
    "    ('PA4097','ZRH','MUC',240,'23:15:00','23:55:00'),\n",
    "    ('PA8542','FRA','NRT',9300,'02:10:00','13:45:00'),\n",
    "    ('PA9073','WAW','LHR',1445,'05:00:00','08:15:00');\n",
    "    \n",
    "    \n",
    "CREATE TABLE IF NOT EXISTS \"aircraft\" (\n",
    "    \"id\" INT,\n",
    "    \"model\" TEXT,\n",
    "    \"produced_date\" TIMESTAMP,\n",
    "    \"registration_timestamp\" TIMESTAMP,\n",
    "    \"launched_timestamp\" TIMESTAMP,\n",
    "    \"withdrawn_timestamp\" TIMESTAMP\n",
    ");\n",
    "INSERT INTO \"aircraft\" VALUES\n",
    "    (1,'Airbus A321-200','2014-04-05 00:00:00','2014-04-15 00:00:00','2014-06-10 07:55:00',null),\n",
    "    (2,'Airbus A333-300','2014-01-03 00:00:00','2014-01-13 00:00:00','2015-01-01 13:19:00',null),\n",
    "    (3,'Boeing 737-800','2010-03-01 00:00:00','2010-03-11 00:00:00','2010-04-01 21:58:00','2015-10-14 20:00:00'),\n",
    "    (4,'Airbus A320','2008-04-06 00:00:00','2008-04-09 00:00:00','2014-01-01 21:19:00',null),\n",
    "    (5,'Boeing 737-800','2009-12-31 00:00:00','2009-12-31 00:00:00','2012-01-01 10:14:00','2016-08-01 09:30:00'),\n",
    "    (6,'Airbus A320','2009-04-13 00:00:00','2009-04-19 00:00:00','2014-01-05 21:38:00','2013-01-05 21:38:00'),\n",
    "    (7,'Boeing 787-10','2011-01-01 00:00:00','2011-02-01 00:00:00','2011-11-17 11:17:00',null),\n",
    "    (8,'Boeing 777-300','1993-08-26 00:00:00','1993-08-30 00:00:00','2015-12-31 22:13:00','2016-10-15 12:52:00'),\n",
    "    (9,'Airbus A300-600','2013-01-01 00:00:00','2013-01-11 00:00:00','2014-02-23 06:53:00','2015-10-14 00:19:00'),\n",
    "    (10,'Airbus A380-900','2007-10-25 00:00:00','2007-11-29 00:00:00','2014-12-31 15:15:00',null),\n",
    "    (11,'Embraer 170','2012-12-31 00:00:00','2013-01-12 00:00:00','2013-01-01 16:52:00',null),\n",
    "    (12,'Vision SF50','2015-01-01 00:00:00','2015-02-01 00:00:00','2016-01-01 09:31:00',null),\n",
    "    (13,'Airbus A320','2016-06-06 00:00:00','2016-07-01 00:00:00','2016-08-28 10:35:00',null),\n",
    "    (14,'Embraer 170','2016-08-10 00:00:00','2016-09-05 00:00:00','2016-09-20 16:23:00',null),\n",
    "    (15,'Boeing 777-800','2010-03-01 00:00:00','2010-04-08 00:00:00','2012-01-01 10:14:00',null);\n",
    "\n",
    "CREATE TABLE IF NOT EXISTS \"flight\" (\n",
    "    \"id\" INT,\n",
    "    \"route_code\" TEXT,\n",
    "    \"aircraft_id\" INT,\n",
    "    \"flight_date\" DATE,\n",
    "    \"delay\" INT\n",
    ");\n",
    "INSERT INTO \"flight\" VALUES\n",
    "    (1,'PA2342',1,'2016-04-03',0),\n",
    "    (2,'PA2342',1,'2016-01-01',15),\n",
    "    (3,'PA8793',2,'2015-07-11',-13),\n",
    "    (4,'PA5643',3,'2014-12-31',5),\n",
    "    (5,'PA5643',3,'2015-08-13',0),\n",
    "    (6,'PA5643',3,'2015-08-14',35),\n",
    "    (7,'PA5643',3,'2016-01-01',8),\n",
    "    (8,'PA8744',3,'2016-01-20',0),\n",
    "    (9,'PA8744',3,'2016-02-21',-25),\n",
    "    (10,'PA2134',4,'2015-10-10',-10),\n",
    "    (11,'PA2134',4,'2015-08-14',16),\n",
    "    (12,'PA2342',5,'2015-12-30',4),\n",
    "    (13,'PA7155',7,'2016-06-08',20),\n",
    "    (14,'PA6851',7,'2015-12-31',5),\n",
    "    (15,'PA8744',9,'2015-08-31',30),\n",
    "    (16,'PA5643',8,'2015-01-01',0),\n",
    "    (17,'PA6851',10,'2016-02-26',-5),\n",
    "    (18,'PA8793',10,'2016-04-03',45),\n",
    "    (19,'PA3425',1,'2016-04-09',20),\n",
    "    (20,'PA1269',2,'2016-08-11',5);\n",
    "```"
   ]
  },
  {
   "cell_type": "markdown",
   "metadata": {},
   "source": [
    "# Difference between timestamps\n",
    "\n",
    "Let's move on. \n",
    "\n",
    "Our database can add and subtract dates. Take a look:\n",
    "\n",
    "```\n",
    "SELECT withdrawn_timestamp - launched_timestamp AS difference\n",
    "FROM aircraft\n",
    "WHERE withdrawn_timestamp IS NOT NULL;\n",
    "```\n",
    "\n",
    "The above query will calculate the difference between the columns withdrawn_timestamp and launched_timestamp. What will the result look like? \n",
    "\n",
    "Let's find out.\n",
    "\n",
    "\n",
    "The results are intervals, which tell us the difference between the two timestamps:\n",
    "\n",
    "`0 years 0 mons 1673 days 23 hours 16 mins 0.00 secs`\n",
    "\n",
    "PostgresSQL provides the interval data type. The simplest way to create an interval in with the syntax:\n",
    "\n",
    "`INTERVAL 'x field'`\n",
    "\n",
    "x is a number, its unit can be any of millennium, century, decade, year, month, week, day, hour, minute, second, millisecond, microsecond, or abbreviations (y, m, d, etc.) or plural forms (months, days, etc.). Example intervals can be:\n",
    "\n",
    "- `INTERVAL '2 hours'`\n",
    "- `INTERVAL '3 days'`\n",
    "- `INTERVAL '5 months'`\n",
    "- `INTERVAL '1 year'`\n",
    "\n",
    "You can add such intervals to a date/timestamp:\n",
    "\n",
    "```\n",
    "SELECT\n",
    "  id,\n",
    "  launched_timestamp,\n",
    "  launched_timestamp + INTERVAL '1 year' AS new_launched_timestamp\n",
    "FROM aircraft;\n",
    "```\n",
    "\n",
    "The above query will add one year to each launched timestamp in the aircraft table.\n",
    "\n",
    "# Exercise\n",
    "\n",
    "PerfectAir decided to use the withdrawn aircraft with ID of 3 once again. Show its original withdrawn timestamp and the withdrawn timestamp postponed by 6 months as the new_launched_timestamp column."
   ]
  },
  {
   "cell_type": "markdown",
   "metadata": {
    "jupyter": {
     "source_hidden": true
    }
   },
   "source": [
    "```\n",
    "SELECT\n",
    "  withdrawn_timestamp,\n",
    "  withdrawn_timestamp + INTERVAL '6 months' AS new_launched_timestamp\n",
    "FROM aircraft\n",
    "WHERE id = 3;\n",
    "```"
   ]
  },
  {
   "cell_type": "markdown",
   "metadata": {},
   "source": [
    "Let's use a few INTERVALs right away:\n",
    "\n",
    "```\n",
    "SELECT\n",
    "  withdrawn_timestamp,\n",
    "  withdrawn_timestamp\n",
    "    + INTERVAL '1 year'\n",
    "    - INTERVAL '3 month'\n",
    "    AS new_launched_timestamp\n",
    "FROM aircraft\n",
    "WHERE id = 3;`\n",
    "\n",
    "```\n",
    "\n",
    "The above query will add one year minus three months to the timestamp stored in the withdrawn_timestamp column. (Yes, you may simply add 9 months, this is just an example 😉)\n",
    "\n",
    "You can also create an interval with multiple fields, using this syntax:\n",
    "\n",
    "- `INTERVAL '1 year 2 months 3 days'`\n",
    "- `INTERVAL '2 weeks ago'`\n",
    "\n",
    "For example:\n",
    "\n",
    "```\n",
    "SELECT\n",
    "  withdrawn_timestamp,\n",
    "  withdrawn_timestamp\n",
    "    + INTERVAL '1 year 3 months'\n",
    "    AS new_launched_timestamp\n",
    "FROM aircraft\n",
    "WHERE id = 3;\n",
    "```\n",
    "\n",
    "# Exercise\n",
    "\n",
    "PerfectAir, due to unexpected work on the runway of Frankfurt airport (the FRA code). needs to reschedule all departing flights... Show the code, new departure and arrival times forwarded by 1 hour and 15 minutes (show these as new_departure_time and new_arrival_time columns)."
   ]
  },
  {
   "cell_type": "markdown",
   "metadata": {
    "jupyter": {
     "source_hidden": true
    }
   },
   "source": [
    "```\n",
    "SELECT\n",
    "  code,\n",
    "  departure_time + INTERVAL '1 hour 15 minutes' AS new_departure_time,\n",
    "  arrival_time   + INTERVAL '1 hour 15 minutes' AS new_arrival_time\n",
    "FROM route\n",
    "WHERE from_airport = 'FRA';\n",
    "```"
   ]
  },
  {
   "cell_type": "markdown",
   "metadata": {},
   "source": [
    "# INTERVAL with constant values\n",
    "\n",
    "\n",
    "You can also use intervals with a constant value which you provide on your own. There is, however, one catch.\n",
    "\n",
    "`SELECT '2015-01-01' + INTERVAL '5 day';`\n",
    "\n",
    "The addition failed because our database thinks that '2015-01-01' is a common text value (string) and it's not able to add an interval to a text field. \n",
    "\n",
    "What can we do then? We can explicitly convert '2015-01-01' to a date/timestamp:\n",
    "\n",
    "`SELECT '2015-01-01'::timestamp + INTERVAL '5 days';`\n",
    "\n",
    "If you recall, PostgreSQL delivers the double colon operator (::) to convert one data type to another. \n",
    "\n",
    "On the left, we have the value to be converted to another data typem specified by the data type on the right. In this example, the string '2015-01-01' is converted to a timestamp data type. \n",
    "\n",
    "Now, it's possible to add an interval (5 days) to the date and time. In the same way, we can convert strings containing dates to date data type. Look at the another example:\n",
    "\n",
    "`SELECT '2015-01-01'::date + INTERVAL '5 day';`\n",
    "\n",
    "Let's see if it works.\n",
    "\n",
    "\n",
    "# Filtering with INTERVALs\n",
    "\n",
    "Good! The query worked this time. Intervals are typically used with BETWEEN to select facts from a given day, month, year etc. Take a look:\n",
    "\n",
    "```\n",
    "SELECT id\n",
    "FROM aircraft\n",
    "WHERE produced_date >= '2010-01-01'\n",
    "  AND produced_date <  '2010-01-01'::date + INTERVAL '1 year';\n",
    "```\n",
    "\n",
    "This query will look for aircraft produced in 2010. Note we needed to cast the string to date with the :: operator in order to add an interval.\n",
    "\n",
    "# Exercise\n",
    "\n",
    "Show the id and the model for all the aircraft produced in 2014 and 2015."
   ]
  },
  {
   "cell_type": "markdown",
   "metadata": {
    "jupyter": {
     "source_hidden": true
    }
   },
   "source": [
    "```\n",
    "SELECT id, model\n",
    "FROM aircraft\n",
    "WHERE produced_date\n",
    "BETWEEN '2014-01-01' AND '2014-01-01':: date + INTERVAL '2 years';\n",
    "```"
   ]
  },
  {
   "cell_type": "markdown",
   "metadata": {},
   "source": [
    "# Filtering with INTERVALs – practice\n",
    "\n",
    "Interval arithmetic is often used with intervals when we want to find facts for a specific month. We no longer need to check whether a given month has 28, 29 (February), 30 or 31 days; the database will do that for us.\n",
    "\n",
    "```\n",
    "SELECT id\n",
    "FROM aircraft\n",
    "WHERE produced_date >= '2010-01-01'\n",
    "  AND produced_date <  '2010-01-01'::date + INTERVAL '1 month';\n",
    "```\n",
    "\n",
    "# Exercise\n",
    "\n",
    "Count the number of flights performed within 180 days from the beginning of August 2015. Name the column flights."
   ]
  },
  {
   "cell_type": "markdown",
   "metadata": {
    "jupyter": {
     "source_hidden": true
    }
   },
   "source": [
    "```\n",
    "SELECT COUNT(id) AS flights\n",
    "FROM flight\n",
    "WHERE flight_date >= '2015-08-01'\n",
    "  AND flight_date <  '2015-08-01'::date + INTERVAL '180 day';\n",
    "```"
   ]
  },
  {
   "cell_type": "markdown",
   "metadata": {},
   "source": [
    "# The OVERLAPS operator\n",
    "\n",
    "PostgreSQL has also another useful operator – OVERLAPS:\n",
    "\n",
    "```\n",
    "(start1, end1) OVERLAPS\n",
    "(start2, end2)\n",
    "```\n",
    "\n",
    "As you may guess, it yields true when the two time periods (defined by their endpoints) overlap, and false when they don't.\n",
    "\n",
    "The OVERLAPS operator works great with intervals too:\n",
    "\n",
    "```\n",
    "(start1, interval) OVERLAPS\n",
    "(start2, interval)\n",
    "```\n",
    "\n",
    "# Exercise\n",
    "\n",
    "Let's see what aircraft were used while the Boeing 777-300 (ID of 8) was flying. In this exercise, just run the template query.\n",
    "\n",
    "Note that you won't see aircraft that are still in use (those of NULL value in the withdrawn_timestamp column). We will learn how to show them in the next part of the course."
   ]
  },
  {
   "cell_type": "markdown",
   "metadata": {
    "jupyter": {
     "source_hidden": true
    }
   },
   "source": [
    "```\n",
    "SELECT other.id, other.model\n",
    "FROM aircraft other, aircraft boeing\n",
    "WHERE boeing.id = 8\n",
    "  AND other.id != 8\n",
    "  AND (other.launched_timestamp,  other.withdrawn_timestamp) OVERLAPS\n",
    "      (boeing.launched_timestamp, boeing.withdrawn_timestamp);\n",
    "```"
   ]
  },
  {
   "cell_type": "markdown",
   "metadata": {},
   "source": [
    "# The AGE() function\n",
    "\n",
    "Let's look at the `AGE(start_timestamp)` function. \n",
    "\n",
    "It takes only one date and returns the difference between the current date and time, and the one given as the argument. Look at the example below:\n",
    "\n",
    "```\n",
    "SELECT AGE(flight_date)\n",
    "FROM flight;\n",
    "```\n",
    "\n",
    "This query returns the time duration between today and the flight date.\n",
    "\n",
    "# Exercise\n",
    "\n",
    "For each aircraft show its ID and how much time has passed since withdrawing as the difference column.\n",
    "\n"
   ]
  },
  {
   "cell_type": "markdown",
   "metadata": {
    "jupyter": {
     "source_hidden": true
    }
   },
   "source": [
    "```\n",
    "SELECT\n",
    "  id,\n",
    "  AGE(withdrawn_timestamp) AS difference\n",
    "FROM aircraft;\n",
    "```"
   ]
  },
  {
   "cell_type": "markdown",
   "metadata": {},
   "source": [
    "# The AGE() function – continued\n",
    "\n",
    "Sometimes we want to know, for example, how old a person was on the day of their death. We will use another syntax of the AGE() function:\n",
    "\n",
    "`AGE(end_timestamp, start_timestamp)`\n",
    "\n",
    "Note that the start_timestamp is counter-intuitively the second argument.\n",
    "\n",
    "The query below returns an interval of time between withdrawn timestamp and launched timestamp:\n",
    "\n",
    "```\n",
    "SELECT AGE(withdrawn_timestamp, launched_timestamp)\n",
    "FROM aircraft\n",
    "WHERE id = 9;\n",
    "```\n",
    "\n",
    "The returned result is the actual difference between the time this aircraft was launched and the time it was withdrawn. The result of the AGE() is the interval.\n",
    "\n",
    "# Exercise\n",
    "\n",
    "For each aircraft, select its ID and show the difference in years, months, and days between its registration and production date (as the difference column)."
   ]
  },
  {
   "cell_type": "markdown",
   "metadata": {
    "jupyter": {
     "source_hidden": true
    }
   },
   "source": [
    "```\n",
    "SELECT id, AGE(registration_timestamp, produced_date) AS difference\n",
    "FROM aircraft;\n",
    "```"
   ]
  },
  {
   "cell_type": "markdown",
   "metadata": {},
   "source": [
    "# AT TIME ZONE\n",
    "\n",
    "Another thing we want to introduce is the conversion between various time zones. \n",
    "\n",
    "As you know, the route table provides the departure and arrival times in Central European Time. Let's see how we can show the same time in different timezones:\n",
    "\n",
    "```\n",
    "SELECT\n",
    "  launched_timestamp AS original,\n",
    "  launched_timestamp AT TIME ZONE 'Asia/Tokyo' AS tokyo\n",
    "FROM aircraft;\n",
    "```\n",
    "\n",
    "As you can see, we need to write AT TIME ZONE followed by the timezone in apostrophes. In our database, we usually provide the time zone in the format Continent/City, but you need to watch out, because PostgreSQL has other conventions.\n",
    "\n",
    "As you can see, we need to write AT TIME ZONE followed by the timezone in apostrophes. In our database, we usually provide the time zone in the format Continent/City, but you need to watch out, because PostgreSQL has other conventions.\n",
    "\n",
    "# Exercise\n",
    "\n",
    "For each aircraft that was withdrawn, show the model, and the same time in two time zones:\n",
    "\n",
    "- local time of Paris (Europe/Paris) – as the paris_time column.\n",
    "- Pacific Standard Time (PST) – as the pst column.\n",
    "\n"
   ]
  },
  {
   "cell_type": "markdown",
   "metadata": {},
   "source": [
    "# The TO_CHAR() function\n",
    "\n",
    "We can also use the TO_CHAR() function to format dates and times. It has a structure which looks like this:\n",
    "\n",
    "`TO_CHAR(timestamp, format)`\n",
    "\n",
    "The first argument is the date and time that will be formatted, and the second is a string specifying the format. This function returns a string or, if there's a problem, a NULL. Let's look at an example:\n",
    "\n",
    "```\n",
    "SELECT\n",
    "  flight_date,\n",
    "  TO_CHAR(flight_date,'Day, DD Month YYYY')\n",
    "FROM flight;\n",
    "```\n",
    "\n",
    "The default date format is `YYYY-MM-DD`; therefore, for the flight with ID of 1 the date is '2016-04-03'. \n",
    "\n",
    "However, if we apply the TO_CHAR() function and the 'Day, DD Month YYYY' format, the date will be displayed as 'Sunday, 3 April 2016'. \n",
    "\n",
    "The 'Day' specifier in this format denotes the name of the day of the week, DD is the digit day of the month, 'Month' is the name of the month, and YYYY is the four-digit year.\n",
    "\n",
    "This could be unwanted behavior, but you can change this by placing the FM modifier (which stands for fill mode, and it will suppress leading zeros and padding blanks) before each part that you don't want to have padding applied:\n",
    "\n",
    "```\n",
    "SELECT\n",
    "  flight_date,\n",
    "  TO_CHAR(flight_date,'FMDay, DD FMMonth YYYY')\n",
    "FROM flight;\n",
    "```\n",
    "\n",
    "\n",
    "# Exercise\n",
    "\n",
    "The company is using a new format for planned flight arrival times:\n",
    "\n",
    "`HH.MI.SS AM`\n",
    "\n",
    "`HH` is a two-digit hour, `MI` is the two-digits minute, `SS` is the two digit seconds, and AM is the meridiem indicator (without periods).\n",
    "\n",
    "New times will look like this:\n",
    "\n",
    "`08.12.05 PM`\n",
    "\n",
    "For all planned arriving flights, show the arrival_time in the old and new format. Name the new column formatted_arrival_time.\n",
    "\n",
    "\n"
   ]
  },
  {
   "cell_type": "markdown",
   "metadata": {
    "jupyter": {
     "source_hidden": true
    }
   },
   "source": [
    "```\n",
    "SELECT\n",
    "  arrival_time,\n",
    "  TO_CHAR(arrival_time,'HH.MI.SS AM') AS formatted_arrival_time\n",
    "FROM route;\n",
    "```"
   ]
  },
  {
   "cell_type": "markdown",
   "metadata": {},
   "source": [
    "# The TO_CHAR() function – additional practice\n",
    "\n",
    "Now we will learn more specifiers to convert the date to a new format. Let's look at this query below:\n",
    "\n",
    "```\n",
    "SELECT\n",
    "  id,\n",
    "  TO_CHAR(\n",
    "    launched_timestamp,\n",
    "    'DD Mon YY, HH12:MI:SS.US AM')\n",
    "    AS formatted_launched_ts\n",
    "FROM aircraft;\n",
    "```\n",
    "\n",
    "This query is for the aircraft with ID of 1 and a launched timestamp of `2014-06-10 07:55:0` and returns this date and time in new format:\n",
    "\n",
    "You will find more format patterns in the documentation: https://www.postgresql.org/docs/10/functions-formatting.html\n",
    "\n",
    "\n",
    "# Exercise\n",
    "\n",
    "Let's show the code and the departure time for each route in a new format `HH24.MI.SS`, where:\n",
    "\n",
    "- `HH24` is hour in the range 00-24.\n",
    "- `MI` is minute in the range 00-59.\n",
    "- `SS` is second in the range 00-59.\n",
    "\n",
    "where the time components are separated by a dot. Name the new column formatted_departure_time."
   ]
  },
  {
   "cell_type": "markdown",
   "metadata": {
    "jupyter": {
     "source_hidden": true
    }
   },
   "source": [
    "```\n",
    "SELECT\n",
    "  code,\n",
    "  TO_CHAR(\n",
    "    departure_time,\n",
    "    'HH24.MI.SS')\n",
    "    AS formatted_departure_time\n",
    "FROM route;\n",
    "```"
   ]
  },
  {
   "cell_type": "markdown",
   "metadata": {},
   "source": [
    "# The CURRENT_TIMESTAMP and NOW() functions\n",
    "\n",
    "Now we'll learn how to get the current date and time.\n",
    "\n",
    "PostgreSQL actually has several functions you can use to get the current date and time. Each function returns different details.\n",
    "\n",
    "Let's start with the simplest function: `NOW()`. It returns the current date and time with time zone. Here's how you use it:\n",
    "\n",
    "`SELECT NOW();`\n",
    "\n",
    "It's very simple, right?\n",
    "\n",
    "The `CURRENT_TIMESTAMP` function works exactly like NOW(). You don't need parentheses with this function, just the name will do:\n",
    "\n",
    "`SELECT CURRENT_TIMESTAMP;`\n",
    "\n",
    "This returns a date and time with fractional seconds and includes the time zone information.\n",
    "\n",
    "Why do we have two functions that do the same thing? CURRENT_TIMESTAMP follows the ANSI SQL standard; NOW() is the PostgreSQL version.\n",
    "\n",
    "`SELECT CURRENT_TIMESTAMP AS current_date_time;`\n",
    "\n",
    "\n",
    "# The CURRENT_DATE and CURRENT_TIME functions\n",
    "\n",
    "You can individually pull the local time or the local date with the CURRENT_DATE and CURRENT_TIME functions. The query below gets the current date and time:\n",
    "\n",
    "`SELECT CURRENT_DATE, CURRENT_TIME;`\n",
    "\n",
    "It returns the current date and time (with the time zone and full precision of fractional seconds), respectively.\n",
    "\n",
    "# Exercise\n",
    "\n",
    "Do you know how long until our flights arrive in hours? Check the difference between the current and arrival time of the routes. Select the route code and the difference of time between the arrival and now. Name this column difference_hours."
   ]
  },
  {
   "cell_type": "markdown",
   "metadata": {
    "jupyter": {
     "source_hidden": true
    }
   },
   "source": [
    "```\n",
    "SELECT\n",
    "  code,\n",
    "  DATE_PART('hour', CURRENT_TIMESTAMP) - DATE_PART('hour', arrival_time) AS difference_hours\n",
    "FROM route;\n",
    "```"
   ]
  },
  {
   "cell_type": "markdown",
   "metadata": {},
   "source": [
    "# Current date and time with intervals – additional practice\n",
    "\n",
    "Let's do one more exercise.\n",
    "\n",
    "# Exercise\n",
    "\n",
    "Find the code of all the routes which normally depart within three hours from the current time.\n",
    "\n"
   ]
  },
  {
   "cell_type": "markdown",
   "metadata": {},
   "source": [
    "```\n",
    "SELECT code\n",
    "FROM route\n",
    "WHERE departure_time BETWEEN CURRENT_TIME AND CURRENT_TIME + INTERVAL '3 hours';\n",
    "```"
   ]
  },
  {
   "cell_type": "markdown",
   "metadata": {},
   "source": [
    "# Summary\n",
    "\n",
    "It's time to review what we know about date and time in PostgreSQL:\n",
    "\n",
    "- PostgreSQL uses dates ('2010-01-01'), times ('13:00:00'), and timestamps ('2010-01-01 13:00:00').\n",
    "\n",
    "- You can compare the above types with BETWEEN or basic operators like: <,<=,>,>=.\n",
    "\n",
    "- You can specify the resulting order with ORDER BY.\n",
    "\n",
    "- The TIMESTAMP data type allows you to save date and time data in your local time zone.\n",
    "\n",
    "- To get parts of a date or time, use the EXTRACT() or DATE_PART() functions.\n",
    "\n",
    "- Use the DATE_TRUNC(x, y) function to truncate the date and time (passed as y) to the given date or time part (passed as x).\n",
    "\n",
    "- Use the INTERVAL operator to add or subtract a period of date or time.\n",
    "\n",
    "- Use the operator :: to convert data types.\n",
    "\n",
    "- Use the AGE(x, y) function to return the difference between the current date or between two dates, x and y, specified as arguments.\n",
    "\n",
    "- Use converted time zones with AT TIME ZONE 'new_timezone'.\n",
    "\n",
    "- Use TO_CHAR(timestamp, format) to display the date in a given format.\n",
    "\n",
    "- To get the current date and time, use:\n",
    "  - CURRENT_TIMESTAMP to get the timestamp with the time zone (or CURRENT_TIMESTAMP(p) where p is the precision of fractional seconds).\n",
    "  - NOW() to get date and time with time zone.\n",
    "  - CURRENT_DATE to get only the date.\n",
    "  - CURRENT_TIME to get only the time with the time zone (or CURRENT_TIME(p) where p is the precision of fractional seconds).\n",
    "  \n",
    "  "
   ]
  },
  {
   "cell_type": "markdown",
   "metadata": {},
   "source": [
    "Here's a link to the new schema for the rest of this section:\n",
    "\n",
    "https://www.db-fiddle.com/f/tmuAtqDPnbjTv6dMsNmmaK/0\n",
    "\n",
    "Or, you can copy and paste:\n",
    "\n",
    "```\n",
    "CREATE TABLE IF NOT EXISTS \"product\" (\n",
    "    \"id\" INT,\n",
    "    \"category\" TEXT,\n",
    "    \"name\" TEXT,\n",
    "    \"type\" TEXT,\n",
    "    \"price\" NUMERIC(5, 2),\n",
    "    \"market1_price\" NUMERIC(5, 2),\n",
    "    \"market2_price\" NUMERIC(5, 2),\n",
    "    \"market3_price\" NUMERIC(5, 2),\n",
    "    \"launch_date\" TIMESTAMP,\n",
    "    \"production_area\" TEXT,\n",
    "    \"shipping_cost\" NUMERIC(3, 2),\n",
    "    \"description\" TEXT\n",
    ");\n",
    "INSERT INTO \"product\" VALUES\n",
    "    (1,'bedroom','Vaatekaappi','wardrobe',276.19,278.23,301.6,299.99,'2015-08-01 00:00:00','UE',0,'Feel invited to take a journey around this spacious wardrobe. Vaatekaappi is the number one choice for every luxurious bedroom!'),\n",
    "    (2,NULL,'Spisebord','dining table',107.99,110.3,121,109.99,NULL,'UE',0,'Spisebord is a simple dining table which will fit in every living room. Its wooden pattern makes it ideal for every rustical home.'),\n",
    "    (3,'living room','Salongbord','coffee table',112.79,133.5,120.7,NULL,'2016-01-01 00:00:00','China',5.99,'Created by a group of French designers, this coffee table will make your life much easier. Be it your favorite drink during afternoon tea time or your legs after a long day at work – Salongbord will satisfy your needs.'),\n",
    "    (4,'kitchen','Tekanna',NULL,10,15,17.8,19.99,'2015-02-25 00:00:00','UE',2.99,'This amazing tea kettle is equipped with a number of LED lights. Thanks to it, you will never lose your way when you want a cup of tea at night.'),\n",
    "    (5,'kitchen','Haarukka','fork',2.5,1.99,1.99,NULL,'2014-07-05 00:00:00',NULL,1.99,'This award-winning fork has been with us for a long time. Feel the difference with our Haarukka. You will never get hungry again!'),\n",
    "    (6,'bathroom','Handduk','towel',2.99,8.99,7,9.99,NULL,'China',1.99,'Three times smaller than your usual towel, yet still as efficient. Try Handduk today!'),\n",
    "    (7,NULL,'Krus',NULL,8,15.68,16,12.99,'2013-04-30 00:00:00',NULL,2.99,'Resistance against hot temperatures makes this mug one of a kind.'),\n",
    "    (8,'hall',NULL,'mirror',13.59,20.55,18.5,19.99,'2013-01-01 00:00:00','China',2.99,'Let''s you see your true inner self.');\n",
    "\n",
    "```"
   ]
  },
  {
   "cell_type": "markdown",
   "metadata": {},
   "source": [
    "# A quick review of NULLs\n",
    "\n",
    "Let's do a quick review of NULLs.\n",
    "\n",
    "A NULL indicates that a value is unknown or missing. You might see a NULL in the last_name field of a client table if you don't have the client's last name (because you forgot to ask!). You may have a NULL in the launch_date field of a product table if that product hasn't been launched.\n",
    "\n",
    "A NULL in a product_price field doesn't mean that the product is free, just that we don't know the price.\n",
    "\n",
    "We use the operators IS NULL and IS NOT NULL to check if a value is NULL. IS NULL works like this:\n",
    "\n",
    "```\n",
    "SELECT *\n",
    "FROM product\n",
    "WHERE category IS NULL;\n",
    "```\n",
    "\n",
    "# Exercise\n",
    "\n",
    "Select name for all products whose launch_date isn't a NULL."
   ]
  },
  {
   "cell_type": "markdown",
   "metadata": {
    "jupyter": {
     "source_hidden": true
    }
   },
   "source": [
    "```\n",
    "SELECT name\n",
    "FROM product\n",
    "WHERE launch_date IS NOT NULL;\n",
    "```"
   ]
  },
  {
   "cell_type": "markdown",
   "metadata": {},
   "source": [
    "# The COALESCE() function\n",
    "\n",
    "Next, let's look at how the COALESCE() function can help with NULLs. This is a standard SQL function also used in PostgreSQL.\n",
    "\n",
    "The `COALESCE(x, y)` function returns the first value that is not `NULL`. Check out the example:\n",
    "\n",
    "```\n",
    "SELECT\n",
    "  name,\n",
    "  COALESCE(category, 'none') AS category\n",
    "FROM product;\n",
    "```\n",
    "In this query, a product with an associated category will have its name and category shown. If there is a NULL in a product's category field, the query will show \"none\" instead of a category name.\n",
    "\n",
    "If you're wondering what the word \"coalesce\" means, it basically means \"to come together, to form one group or mass.\" You can use coalesce literally (ingredients can coalesce into bread) or figuratively (ideas can coalesce).\n",
    "\n",
    "# Exercise\n",
    "\n",
    "Select the names and categories for all products. If any of these columns has a NULL, show 'n/a' instead. Rename the new columns to name and category.\n",
    "\n"
   ]
  },
  {
   "cell_type": "markdown",
   "metadata": {
    "jupyter": {
     "source_hidden": true
    }
   },
   "source": [
    "```\n",
    "SELECT\n",
    "  COALESCE(name, 'n/a') AS name,\n",
    "  COALESCE(category, 'n/a') AS category\n",
    "FROM product;\n",
    "```"
   ]
  },
  {
   "cell_type": "markdown",
   "metadata": {},
   "source": [
    "# Data types in COALESCE()\n",
    "\n",
    "\n",
    " It's good to remember that COALESCE() takes an argument of only one data type. For instance, the following works fine:\n",
    "\n",
    "```\n",
    "SELECT COALESCE(price, 0.00) AS price\n",
    "FROM product;\n",
    "```\n",
    "The price column is of decimal data type; therefore we replace its 0.00 value which is the same data type. This function will return 0.00 in place of a NULL value in the price column.\n",
    "\n",
    "Check it out yourself. Try to use the COALESCE() function to show the product name and the launch_date or 'no date' when the date is unknown.\n",
    "\n",
    "# Using COALESCE() with other functions\n",
    "\n",
    "You can also use COALESCE() with other functions and operations, such as concatenation, multiplication, etc. Take a look:\n",
    "\n",
    "```\n",
    "SELECT\n",
    "  COALESCE(category, 'unknown category')\n",
    "    || ': '\n",
    "    || COALESCE(type, 'unknown type')\n",
    "    AS category_type\n",
    "FROM product;\n",
    "```\n",
    "\n",
    "In the above query fragment, a NULL category or type value is replaced with an appropriate message, but we can still see the type when the category is NULL (and vice versa).\n",
    "\n",
    "# Exercise\n",
    "\n",
    "Show the following sentence:\n",
    "\n",
    "`Product X is made in Y.`\n",
    "\n",
    "X is the product name and Y is the production area. If the product name is not provided, display 'unknown name' instead. If the production area is not provided, substitute 'unknown area'. Name the column origin.\n"
   ]
  },
  {
   "cell_type": "markdown",
   "metadata": {
    "jupyter": {
     "source_hidden": true
    }
   },
   "source": [
    "```\n",
    "SELECT\n",
    "  'Product '\n",
    "    || COALESCE(name, 'unknown name')\n",
    "    || ' is made in '\n",
    "    || COALESCE(production_area, 'unknown area')\n",
    "    || '.'\n",
    "    AS origin\n",
    "FROM product;\n",
    "```"
   ]
  },
  {
   "cell_type": "markdown",
   "metadata": {},
   "source": [
    "# Using COALESCE() in calculations\n",
    "\n",
    "You can also use `COALESCE()` in calculations:\n",
    "\n",
    "```\n",
    "SELECT COALESCE(price, 0) * 1.05\n",
    "FROM product;\n",
    "```\n",
    "\n",
    "This will return each product's price times 1.05 (if there's a price value) or a zero if the price is NULL.\n",
    "\n",
    "# Exercise\n",
    "\n",
    "The company is giving a 10% discount on all prices for in its first market shop. Show the names of all products, their current price (market1_price), and the new discounted price. Name the new column new_market1_price. If there is no price, show 0.0."
   ]
  },
  {
   "cell_type": "markdown",
   "metadata": {
    "jupyter": {
     "source_hidden": true
    }
   },
   "source": [
    "```\n",
    "SELECT\n",
    "  name,\n",
    "  market1_price,\n",
    "  COALESCE(market1_price * 0.9, 0.0) AS new_market1_price\n",
    "FROM product;\n",
    "```"
   ]
  },
  {
   "cell_type": "markdown",
   "metadata": {},
   "source": [
    "# Using COALESCE() with multiple parameters\n",
    "\n",
    "The last thing you should know about COALESCE() is that it can take more than two arguments. It will simply look for the first non-NULL value in the list and return it.\n",
    "\n",
    "```\n",
    "SELECT COALESCE(name, id::char, 'n/a')\n",
    "FROM product;\n",
    "```\n",
    "\n",
    "The above function will show a product name. If the name is unknown, it will show the product id instead. If both the name and id are unknown, it will simply show 'n/a'.\n",
    "\n",
    "\n",
    "# Exercise\n",
    "\n",
    "Show each product's name and type. When the type is unknown, show the category. If the category is missing too, show 'No clue what that is'. Name the column type.\n",
    "\n"
   ]
  },
  {
   "cell_type": "markdown",
   "metadata": {
    "jupyter": {
     "source_hidden": true
    }
   },
   "source": [
    "```\n",
    "SELECT\n",
    "  name,\n",
    "  COALESCE(type, category, 'No clue what that is') AS type\n",
    "FROM product;\n",
    "```"
   ]
  },
  {
   "cell_type": "markdown",
   "metadata": {},
   "source": [
    "# The GREATEST() function\n",
    "\n",
    "The next function you'll get to know is GREATEST(), used to select the largest value among values given as arguments. Look at the first example of the function GREATEST():\n",
    "\n",
    "```\n",
    "SELECT\n",
    "  id,\n",
    "  GREATEST(market1_price, market2_price) AS largest_price\n",
    "FROM product;\n",
    "```\n",
    "\n",
    "How does it work? In our database, each product has three different prices in three different shops (columns: market1_price, market2_price, market3_price). For each product, the query above displays, the largest price between shop 1 and shop 2.\n",
    "\n",
    "Don't consider using the MAX() function, as it's a not good solution. Why? The MAX() function is an aggregate function. It returns only one value – the greatest value in a column and it collapses all the rows. The GREATEST() function finds the largest value from a list of expressions. It can select a different value for each row.\n",
    "\n",
    "# Exercise\n",
    "\n",
    "Find the largest price for each product among all three shops. Select ID, the name of the product and the largest price as the largest_price column.\n",
    "\n",
    "\n"
   ]
  },
  {
   "cell_type": "markdown",
   "metadata": {
    "jupyter": {
     "source_hidden": true
    }
   },
   "source": [
    "```\n",
    "SELECT\n",
    "  id,\n",
    "  name,\n",
    "  GREATEST(\n",
    "    market1_price,\n",
    "    market2_price,\n",
    "    market3_price\n",
    "  ) AS largest_price\n",
    "FROM product;\n",
    "```\n"
   ]
  },
  {
   "cell_type": "markdown",
   "metadata": {},
   "source": [
    "# The LEAST() function\n",
    "\n",
    "Similar to the GREATEST() function there is the LEAST() function. Here is the query using it:\n",
    "\n",
    "```\n",
    "SELECT\n",
    "  id,\n",
    "  LEAST(market1_price, market2_price) AS smallest_price\n",
    "FROM product;\n",
    "```\n",
    "\n",
    "This query returns the lowest price between shop 1 and shop 2.\n",
    "\n",
    "# Exercise\n",
    "\n",
    "Find the smallest price of each product among prices in all three shops. Select ID, the name of the product, and the smallest price as the smallest_price column.\n"
   ]
  },
  {
   "cell_type": "markdown",
   "metadata": {
    "jupyter": {
     "source_hidden": true
    }
   },
   "source": [
    "```\n",
    "SELECT\n",
    "  id,\n",
    "  name,\n",
    "  LEAST(\n",
    "    market1_price,\n",
    "    market2_price,\n",
    "    market3_price\n",
    "  ) AS smallest_price\n",
    "FROM product;\n",
    "```"
   ]
  },
  {
   "cell_type": "markdown",
   "metadata": {},
   "source": [
    "# The GREATEST() and the LEAST() with NULL\n",
    "\n",
    "What if a value in the list of arguments in GREATEST() or LEAST() functions is NULL? They omit NULL and return the largest or the least values for those different than NULL. The query looks like this:\n",
    "\n",
    "```\n",
    "SELECT\n",
    "  id,\n",
    "  LEAST(market2_price, market3_price) AS smallest_price\n",
    "FROM product;\n",
    "```\n",
    "\n",
    "For the product with ID of 5 it returns 1.99. This comes from the market2_price column because the market3_price stores NULL; therefore it is ignored.\n",
    "\n",
    "NULL is returned only if all arguments are NULL.\n",
    "\n",
    "# Exercise\n",
    "\n",
    "For the product with ID of 3 show its name and the largest_price in all three shops."
   ]
  },
  {
   "cell_type": "markdown",
   "metadata": {
    "jupyter": {
     "source_hidden": true
    }
   },
   "source": [
    "```\n",
    "SELECT\n",
    "  name,\n",
    "  GREATEST(\n",
    "    market1_price,\n",
    "    market2_price,\n",
    "    market3_price\n",
    "  ) AS largest_price\n",
    "FROM product\n",
    "WHERE id = 3;\n",
    "```"
   ]
  },
  {
   "cell_type": "markdown",
   "metadata": {},
   "source": [
    "# The NULLIF() function\n",
    "\n",
    "Another useful function, albeit one that's less frequently applied, is NULLIF(x, y).\n",
    "\n",
    "It returns a NULL if both x and y are equal. Otherwise, it returns the first argument. \n",
    "\n",
    "For example, NULLIF(5, 4) returns 5, while NULLIF(5, 5) returns NULL.\n",
    "\n",
    "Why would you use this function? \n",
    "\n",
    "Because it helps you avoid division by zero. Consider this example:\n",
    "\n",
    "We have 10,000 and want to give an equal amount to a number of people. There's a number stored in the all_people column. However, some people are rich and don't need the money, and their number is stored in the rich_people column. Now, if we want to decide how much a single 'not-rich' person should receive, we could write:\n",
    "\n",
    "`10000 / (all_people - rich_people)`\n",
    "\n",
    "This query works fine, unless all the people are rich. We will then get a 0 in the denominator.\n",
    "\n",
    "As you know, we can't divide by zero, so the database will return an error. We can use the NULLIF() function to solve this problem:\n",
    "\n",
    "`10000 / NULLIF(all_people - rich_people, 0)`\n",
    "\n",
    "NULLIF() checks if the subtraction equals 0. If it does equal 0, the function returns a NULL; otherwise it just gives the result of the subtraction.\n",
    "\n",
    "Dividing by zero is illegal in PostgreSQL, but dividing by NULL will just give a NULL. In this way, we can prevent our database from producing an error.\n",
    "\n",
    "# Exercise\n",
    "\n",
    "Today, Home made yours has a special offer: the price of each product has decreased by 1.99. This means some products may be free!\n",
    "\n",
    "A customer has 1,000.00 and would like to know how many of each product he could buy. Show the name of each product and the quantity he could buy (i.e., divide 1000.00 by the new price of each product).\n",
    "\n",
    "In case of division by zero, return a NULL. Most products will have a decimal part, but don't worry about it."
   ]
  },
  {
   "cell_type": "markdown",
   "metadata": {
    "jupyter": {
     "source_hidden": true
    }
   },
   "source": [
    "```\n",
    "SELECT\n",
    "  name,\n",
    "  1000.00 / NULLIF(price - 1.99, 0) AS quantity\n",
    "FROM product;\n",
    "```"
   ]
  },
  {
   "cell_type": "markdown",
   "metadata": {},
   "source": [
    "# Exercise\n",
    "\n",
    "Show the name of each product and the ratio column calculated in the following way: the price of each product in relation to its shipping_cost in percent, rounded to an integer value (e.g., 31).\n",
    "\n",
    "If the shipping cost is 0.00, show NULL instead."
   ]
  },
  {
   "cell_type": "markdown",
   "metadata": {
    "jupyter": {
     "source_hidden": true
    }
   },
   "source": [
    "```\n",
    "SELECT\n",
    "  name,\n",
    "  ROUND(price / NULLIF(shipping_cost, 0) * 100) AS ratio\n",
    "FROM product;\n",
    "```"
   ]
  },
  {
   "cell_type": "markdown",
   "metadata": {},
   "source": [
    "# Exercise\n",
    "\n",
    "Mr. Adams wants to launch a new promotion: Each customer who orders a product and picks it up (i.e., no shipping required) can buy it at a special price: the initial price minus the shipping_cost! If the shipping_cost is greater than the price itself, then the customer just pays the difference (i.e., the absolute value of price - shipping_cost).\n",
    "\n",
    "A customer has 1,000.00 and wants to know how many of each product she could buy. Show each product name with the quantity column (which calculates the number of products she can buy for 1,000). Get rid of the decimal part. If you get a price of 0.00, show NULL instead."
   ]
  },
  {
   "cell_type": "markdown",
   "metadata": {
    "jupyter": {
     "source_hidden": true
    }
   },
   "source": [
    "```\n",
    "SELECT\n",
    "  name,\n",
    "  FLOOR(1000.00 / NULLIF(ABS(price - shipping_cost), 0)) AS quantity\n",
    "FROM product;\n",
    "```"
   ]
  },
  {
   "cell_type": "markdown",
   "metadata": {},
   "source": [
    "# Summary\n",
    "\n",
    "Now it's time to review what we've learned:\n",
    "\n",
    "- The `IS NULL` operator checks if a column value is NULL.\n",
    "\n",
    "- The `IS NOT NULL` operator checks if a column value is not NULL.\n",
    "\n",
    "- `COALESCE(x, y, ...)` returns the first non-NULL argument or replaces a NULL with the value given in the second argument.\n",
    "\n",
    "- The `GREATEST()` and `LEAST()` functions return the largest and the smallest value among values in the argument list, respectively.\n",
    "\n",
    "- The `NULLIF(x, y)` function returns NULL if x = y. Otherwise, it returns x."
   ]
  },
  {
   "cell_type": "markdown",
   "metadata": {},
   "source": [
    "# Exercise\n",
    "\n",
    "Show all product names and the 3rd market shop's prices (casted to char). If the price is NULL, display 'unknown'. The price column should be named price."
   ]
  },
  {
   "cell_type": "markdown",
   "metadata": {
    "jupyter": {
     "source_hidden": true
    }
   },
   "source": [
    "```\n",
    "SELECT\n",
    "  name,\n",
    "  COALESCE(CAST(market3_price AS char), 'unknown') AS price\n",
    "FROM product;\n",
    "```"
   ]
  },
  {
   "cell_type": "markdown",
   "metadata": {},
   "source": [
    "# Exercise\n",
    "\n",
    "For each product, show three columns:\n",
    "\n",
    "- id\n",
    "\n",
    "- product_type – the type of the product. If there is no product type, show 'unknown type'.\n",
    "\n",
    "- new_launch_date – the launch date. If the launch_date is NULL, show the current date instead (use CURRENT_DATE).\n",
    "\n",
    "Order the results by new_launch_date, with the oldest dates appearing first."
   ]
  },
  {
   "cell_type": "markdown",
   "metadata": {
    "jupyter": {
     "source_hidden": true
    }
   },
   "source": [
    "```\n",
    "SELECT\n",
    "  id,\n",
    "  COALESCE(type, 'unknown type') AS product_type,\n",
    "  COALESCE(launch_date, CURRENT_DATE) AS new_launch_date\n",
    "FROM product\n",
    "ORDER BY 3;\n",
    "```"
   ]
  },
  {
   "cell_type": "markdown",
   "metadata": {},
   "source": [
    "# Homework\n",
    "\n",
    "\n",
    "\n",
    "```\n",
    "CREATE TABLE IF NOT EXISTS \"person\" (\n",
    "    \"id\" INT,\n",
    "    \"branch_id\" INT,\n",
    "    \"first_name\" TEXT,\n",
    "    \"middle_name\" TEXT,\n",
    "    \"last_name\" TEXT,\n",
    "    \"registration\" TIMESTAMP,\n",
    "    \"iq\" INT,\n",
    "    \"weight\" NUMERIC(8, 6),\n",
    "    \"height\" INT\n",
    ");\n",
    "INSERT INTO \"person\" VALUES\n",
    "    (1,1,'Manuel','Carson','Krupp','2014-11-21 00:00:00',155,79.029999,171),\n",
    "    (2,1,'Herschel','Maxwell','Woolwine','2013-06-17 00:00:00',156,81.959999,173),\n",
    "    (3,1,'Josef','Garfield','Shorty','2013-07-23 00:00:00',148,97.510002,161),\n",
    "    (4,1,'Ernest','Valentin','Terpstra','2015-07-04 00:00:00',NULL,74.940002,170),\n",
    "    (6,2,'Weston','Jarod','Santillan','2014-04-11 00:00:00',152,97.790001,165),\n",
    "    (7,2,'Clemente','Forest','Prim','2012-06-22 00:00:00',155,65.32,173),\n",
    "    (8,2,'Millard','Jackie','Friscia','2014-02-06 00:00:00',152,63.779999,175),\n",
    "    (9,2,'Robt','Victor','Dunmore','2015-06-22 00:00:00',148,76.690002,177),\n",
    "    (10,2,'Marcos','Luke','Moree','2012-12-31 00:00:00',153,84.230003,164),\n",
    "    (11,2,'Jana','Elease','Pullman','2016-04-05 00:00:00',149,92.269997,175),\n",
    "    (12,3,'Paulina','Anisha','Gregg','2016-05-04 00:00:00',NULL,72.279999,165),\n",
    "    (13,3,'Latarsha','Dorthea','Urenda','2012-05-19 00:00:00',151,70.239998,183),\n",
    "    (14,3,'Louann','null','Eddington','2016-02-01 00:00:00',155,80.120003,162),\n",
    "    (15,4,'Alane','Stasia','Wetherby','2015-03-03 00:00:00',149,77.529999,168),\n",
    "    (16,4,'Jeniffer','null','Nussbaum','2014-07-27 00:00:00',155,70.82,184),\n",
    "    (17,4,'Hulda','Kina','Esteban','2012-06-13 00:00:00',NULL,74.459999,162),\n",
    "    (18,4,'Idalia','Ka','Tarnowski','2016-01-04 00:00:00',155,67.43,175),\n",
    "    (19,5,'Maryanne','Micki','Salters','2013-08-03 00:00:00',150,89.290001,165),\n",
    "    (20,5,'Modesta','Faustina','Hout','2021-03-17 00:00:00',152,79.669998,177),\n",
    "    (5,2,'Gerry','Danial','Yanez','2021-02-17 00:00:00',155,63.029999,182);\n",
    "```"
   ]
  },
  {
   "cell_type": "markdown",
   "metadata": {},
   "source": [
    "# Exercise\n",
    "\n",
    "Show the first, middle, and last name of each person together in one column (name this new column full_name). Format it like this:\n",
    "\n",
    "`First_name Middle_name LASTNAME`\n",
    "\n",
    "In other words, capitalize the first letter of the first and middle names, and show the last name uppercased.\n",
    "\n",
    "Show this information only for people whose last names are at least 7 characters long. If a person has a NULL middle name, show an empty string for this middle name."
   ]
  },
  {
   "cell_type": "markdown",
   "metadata": {
    "jupyter": {
     "source_hidden": true
    }
   },
   "source": [
    "```\n",
    "SELECT\n",
    "  INITCAP(first_name)\n",
    "    || ' '\n",
    "    || COALESCE(INITCAP(middle_name), '')\n",
    "    || ' '\n",
    "    || UPPER(last_name)\n",
    "    AS full_name\n",
    "FROM person\n",
    "WHERE LENGTH(last_name) >= 7;\n",
    "```"
   ]
  },
  {
   "cell_type": "markdown",
   "metadata": {},
   "source": [
    "# Exercise\n",
    "\n",
    "The IQ society created a dating website for its members. We need to anonymize the user data before members go on their first date. For each person, show the following sentence:\n",
    "\n",
    "XYZ lives in A and weighs B kilograms.\n",
    "XYZ is the person's initials (XZ if a person has no middle name), A is the city where they live, and B is their weight, rounded to the nearest integer. Don't forget about the period at the end of the sentence!"
   ]
  },
  {
   "cell_type": "markdown",
   "metadata": {
    "jupyter": {
     "source_hidden": true
    }
   },
   "source": [
    "```\n",
    "SELECT\n",
    "  CONCAT(\n",
    "    UPPER(LEFT(first_name, 1)),\n",
    "    UPPER(LEFT(middle_name, 1)),\n",
    "    UPPER(LEFT(last_name, 1)),\n",
    "    ' lives in ',\n",
    "    city,\n",
    "    ' and weighs ',\n",
    "    ROUND(weight),\n",
    "    ' kilograms.') AS sentence\n",
    "FROM person\n",
    "JOIN branch\n",
    "  ON person.branch_id = branch.id;\n",
    "```"
   ]
  },
  {
   "cell_type": "markdown",
   "metadata": {},
   "source": [
    "# Exercise\n",
    "\n",
    "For each person, show their first and last name along with their precise weight, their weight rounded down (name this column weight_down) and their weight rounded up to the next integer (name this column weight_up)."
   ]
  },
  {
   "cell_type": "markdown",
   "metadata": {
    "jupyter": {
     "source_hidden": true
    }
   },
   "source": [
    "```\n",
    "SELECT\n",
    "  first_name,\n",
    "  last_name,\n",
    "  weight,\n",
    "  FLOOR(weight) AS weight_down,\n",
    "  CEIL(weight) AS weight_up\n",
    "FROM person;\n",
    "```"
   ]
  },
  {
   "cell_type": "markdown",
   "metadata": {},
   "source": [
    "# Exercise\n",
    "\n",
    "For each branch, show its ID, country, city, and the average IQ of its members, rounded to 2 decimal places as the avg_iq column."
   ]
  },
  {
   "cell_type": "markdown",
   "metadata": {
    "jupyter": {
     "source_hidden": true
    }
   },
   "source": [
    "```\n",
    "SELECT\n",
    "  branch.id,\n",
    "  country,\n",
    "  city,\n",
    "  ROUND(AVG(iq), 2) AS avg_iq\n",
    "FROM person\n",
    "JOIN branch\n",
    "  ON person.branch_id = branch.id\n",
    "GROUP BY\n",
    "  branch.id,\n",
    "  country,\n",
    "  city;\n",
    "```"
   ]
  },
  {
   "cell_type": "markdown",
   "metadata": {},
   "source": [
    "# Exercise\n",
    "\n",
    "For each person who registered in the last 3 months, show their first_name, last_name and the interval showing how long they've been a member (subtract the registration from CURRENT_DATE) as the member_for column."
   ]
  },
  {
   "cell_type": "markdown",
   "metadata": {
    "jupyter": {
     "source_hidden": true
    }
   },
   "source": [
    "```\n",
    "SELECT\n",
    "  first_name,\n",
    "  last_name,\n",
    "  CURRENT_DATE - registration AS member_for\n",
    "FROM person\n",
    "WHERE registration > CURRENT_DATE - INTERVAL '3 month';\n",
    "```"
   ]
  },
  {
   "cell_type": "markdown",
   "metadata": {},
   "source": [
    "# Exercise\n",
    "\n",
    "Count the number of people who registered in each month of 2015. Show two columns: month and count. You don't need to show months without registrations."
   ]
  },
  {
   "cell_type": "markdown",
   "metadata": {
    "jupyter": {
     "source_hidden": true
    }
   },
   "source": [
    "```\n",
    "SELECT\n",
    "  EXTRACT(MONTH FROM registration) AS month,\n",
    "  COUNT(id) AS count\n",
    "FROM person\n",
    "WHERE registration BETWEEN '2015-01-01' AND CAST('2015-01-01' AS DATE) + INTERVAL '1 year'\n",
    "GROUP BY EXTRACT(MONTH FROM registration);\n",
    "```"
   ]
  },
  {
   "cell_type": "code",
   "execution_count": null,
   "metadata": {},
   "outputs": [],
   "source": []
  }
 ],
 "metadata": {
  "kernelspec": {
   "display_name": "Python 3",
   "language": "python",
   "name": "python3"
  },
  "language_info": {
   "codemirror_mode": {
    "name": "ipython",
    "version": 3
   },
   "file_extension": ".py",
   "mimetype": "text/x-python",
   "name": "python",
   "nbconvert_exporter": "python",
   "pygments_lexer": "ipython3",
   "version": "3.7.3"
  }
 },
 "nbformat": 4,
 "nbformat_minor": 4
}
