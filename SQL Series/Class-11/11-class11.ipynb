{
 "cells": [
  {
   "cell_type": "markdown",
   "metadata": {},
   "source": [
    "# Window Functions, Part 2: Ranking\n",
    "\n",
    "\n",
    "In this part, I'll teach you how to use window functions for something very useful – creating rankings. \n",
    "\n",
    " - Which x is the best? \n",
    "\n",
    " - Which x is in 3rd place? \n",
    "\n",
    " - Which is the worst? \n",
    "\n",
    "These are the questions we're going to answer in this part.\n",
    "\n",
    "Today, we're going to deal with a development studio that produces games for mobile platforms. \n",
    "\n",
    "Let's take a look at it.\n",
    "\n",
    "\n",
    "Go to the fiddle, here: https://www.db-fiddle.com/f/fWMdFHYRpTy8FBfKq4roUA/1\n",
    "\n",
    "\n",
    "\n",
    "# Exercise\n",
    "\n",
    "Select all the information from table game.\n",
    "\n",
    "Each game has an id and a name and is runnable on a specific platform. It is characterized by a specific genre, has an editor_rating and size in MB. \n",
    "\n",
    "The column released specifies when the game was released, whereas updated – when the game was last updated.\n",
    "\n",
    "\n",
    "Each purchase of a game is stored in this table. The purchase has its own id, the id of the game, the price paid and the date of purchase.\n",
    "\n",
    "# Exercise\n",
    "\n",
    "Select all the information from the purchase table.\n",
    "\n",
    "Each purchase of a game is stored in this table. The purchase has its own id, the id of the game, the price paid and the date of purchase.\n",
    "\n",
    "\n",
    "# Ranking functions - introduction\n",
    "\n",
    "Let's get down to work. So far, you've learned how to use window functions with aggregate functions that you already know – SUM(), COUNT(), AVG(), MAX() and MIN().\n",
    "\n",
    "Now, we'll teach you different functions that go well with OVER() – ranking functions. The general syntax is as follows:\n",
    "\n",
    "`<ranking function> OVER (ORDER BY <order by columns>)` \n",
    "\n",
    "\n",
    "We'll introduce a few possible ranking functions in the next exercises.\n",
    "\n",
    "As to OVER (ORDER BY col1, col2...), this is the part where you specify the order in which rows should be sorted and therefore ranked.\n",
    "\n",
    "\n",
    "# Function RANK()\n",
    "\n",
    "Alright. We'll start with the most widely used ranking function: RANK(). The syntax is as follows:\n",
    "\n",
    "`RANK() OVER (ORDER BY ...)`\n",
    "\n",
    "\n",
    "What does RANK() do? \n",
    "\n",
    "It returns the rank (a number) of each row with respect to the sorting specified within parentheses.\n",
    "\n",
    "ORDER BY sorts rows and shows them in a specific order to you. \n",
    "\n",
    "RANK() OVER(ORDER BY ...) is a function that shows the rank(place, position) of each row in a separate column.\n",
    "\n",
    "Let's look at an example from our database:\n",
    "\n",
    "```\n",
    "SELECT\n",
    "  name,\n",
    "  platform,\n",
    "  editor_rating,\n",
    "  RANK() OVER(ORDER BY editor_rating)\n",
    "FROM game;\n",
    "```\n",
    "\n",
    "\n",
    "\n",
    "The first three columns are quite obvious, but look what happens next: we want to return the rank (RANK()) of each row when we sort them by the column editor_rating (OVER(ORDER BY editor_rating).\n",
    "\n",
    "Look at the result of the example query.\n",
    "\n",
    "As you can see, we get the rank of each game in the last column. There are 3 games with the lowest score – 4. All of them got rank 1.\n",
    "\n",
    "The next game, with score 5, got rank 4, not 2. \n",
    "\n",
    "That's how RANK() works. \n",
    "\n",
    "\n",
    "There were three games before the game with score 5, so, being the 4th game, it got rank 4 – regardless of the fact that the other three all got rank 1. \n",
    "\n",
    "RANK() will always leave gaps in numbering when more than 1 row share the same value.\n",
    "\n",
    "# Exercise\n",
    "\n",
    "For each game, show name, genre, date of update and its rank. The rank should be created with RANK() and take into account the date of update."
   ]
  },
  {
   "cell_type": "markdown",
   "metadata": {
    "jupyter": {
     "source_hidden": true
    }
   },
   "source": [
    "```\n",
    "SELECT\n",
    "  name,\n",
    "  genre,\n",
    "  updated,\n",
    "  RANK() OVER(ORDER BY updated)\n",
    "FROM game;\n",
    "```"
   ]
  },
  {
   "cell_type": "markdown",
   "metadata": {},
   "source": [
    "# DENSE_RANK()\n",
    "\n",
    "As we said, RANK() will always leave gaps in numbering when more than 1 row share the same value. You can change that behavior by using another function: DENSE_RANK():\n",
    "\n",
    "```\n",
    "SELECT\n",
    "  name,\n",
    "  platform,\n",
    "  editor_rating,\n",
    "  DENSE_RANK() OVER(ORDER BY editor_rating)\n",
    "FROM game;\n",
    "```\n",
    "\n",
    "\n",
    "DENSE_RANK gives a 'dense' rank indeed, i.e. there are no gaps in numbering.\n",
    "\n",
    "Look at the output from the query above. Right now, go loook at it.\n",
    "\n",
    "\n",
    "We've now got three rows with rank 1, followed by a fourth row with rank 2. That's the difference between RANK() and DENSE_RANK() – the latter never leaves gaps."
   ]
  },
  {
   "cell_type": "markdown",
   "metadata": {},
   "source": [
    "\n",
    "# Exercise\n",
    "\n",
    "Use DENSE_RANK() and for each game, show name, size and the rank in terms of its size.\n",
    "\n"
   ]
  },
  {
   "cell_type": "markdown",
   "metadata": {
    "jupyter": {
     "source_hidden": true
    }
   },
   "source": [
    "```\n",
    "SELECT\n",
    "  name,\n",
    "  size,\n",
    "  DENSE_RANK() OVER(ORDER BY size)\n",
    "FROM game;\n",
    "```"
   ]
  },
  {
   "cell_type": "markdown",
   "metadata": {},
   "source": [
    "# ROW_NUMBER()\n",
    "\n",
    "All right, and now, let us take a look at yet another way of ranking:\n",
    "\n",
    "```\n",
    "SELECT\n",
    "  name,\n",
    "  platform,\n",
    "  editor_rating,\n",
    "  ROW_NUMBER() OVER(ORDER BY editor_rating)\n",
    "FROM game;\n",
    "```\n",
    "\n",
    "Let's run the example to see what's different now.\n",
    "\n"
   ]
  },
  {
   "cell_type": "markdown",
   "metadata": {},
   "source": [
    "# Exercise\n",
    "\n",
    "Run the example above and see the difference in ranking.\n",
    "\n",
    "Now, each row gets its own, unique rank number, so even rows with the same value get consecutive numbers."
   ]
  },
  {
   "cell_type": "markdown",
   "metadata": {
    "jupyter": {
     "source_hidden": true
    }
   },
   "source": [
    "```\n",
    "SELECT\n",
    "  name,\n",
    "  platform,\n",
    "  editor_rating,\n",
    "  ROW_NUMBER() OVER(ORDER BY editor_rating)\n",
    "FROM game;\n",
    "```"
   ]
  },
  {
   "cell_type": "markdown",
   "metadata": {},
   "source": [
    "# ROW_NUMBER() – practice\n",
    "\n",
    "As you can see, ROW_NUMBER() gives a unique rank number to each row. Even those rows which share the same editor_rating value got different ranks that are expressed as consecutive numbers.\n",
    "\n",
    "The only problem is with the order of these consecutive numbers. \n",
    "\n",
    "You could ask yourself – how does my database determine which of the games with editor_rating = 4 gets 1, 2 or 3 as the rank? \n",
    "\n",
    "The answer is – it doesn't, really. \n",
    "\n",
    "The order is nondeterministic. When you execute ROW_NUMBER(), you never really know what the output will be.\n",
    "\n",
    "Now, how about an exercise for you?"
   ]
  },
  {
   "cell_type": "markdown",
   "metadata": {},
   "source": [
    "# Exercise\n",
    "\n",
    "Use ROW_NUMBER() and for each game, show their name, date of release and the rank based on the date of release.\n",
    "\n"
   ]
  },
  {
   "cell_type": "markdown",
   "metadata": {
    "jupyter": {
     "source_hidden": true
    }
   },
   "source": [
    "```\n",
    "SELECT\n",
    "  name,\n",
    "  released,\n",
    "  ROW_NUMBER() OVER(ORDER BY released)\n",
    "FROM game;\n",
    "```"
   ]
  },
  {
   "cell_type": "markdown",
   "metadata": {},
   "source": [
    "# Exercise\n",
    "\n",
    "For each game, show its name, genre and date of release. In the next three columns, show RANK(), DENSE_RANK() and ROW_NUMBER() sorted by the date of release.\n",
    "\n"
   ]
  },
  {
   "cell_type": "markdown",
   "metadata": {
    "jupyter": {
     "source_hidden": true
    }
   },
   "source": [
    "```\n",
    "SELECT\n",
    "  name,\n",
    "  genre,\n",
    "  released,\n",
    "  RANK() OVER(ORDER BY released),\n",
    "  DENSE_RANK() OVER(ORDER BY released),\n",
    "  ROW_NUMBER() OVER(ORDER BY released)\n",
    "FROM game;\n",
    "```"
   ]
  },
  {
   "cell_type": "markdown",
   "metadata": {},
   "source": [
    "# RANK() OVER(ORDER BY ... DESC)\n",
    "\n",
    "You may have noticed that the rank given by the function may be counter-intuitive to some extent. When we showed the rank sorted by editor_rating, the game with the lowest score got a rank of 1. We usually want it the other way around – the first place should be occupied by the best game. Luckily, this requires a very minor change to our query:\n",
    "\n",
    "\n",
    "```\n",
    "SELECT\n",
    "  name,\n",
    "  platform,\n",
    "  editor_rating,\n",
    "  RANK() OVER(ORDER BY editor_rating DESC)\n",
    "FROM game;\n",
    "```\n",
    "\n",
    "Voila, add DESC after the column name in OVER( ... ) and the ranking order is reversed.\n",
    "\n"
   ]
  },
  {
   "cell_type": "markdown",
   "metadata": {},
   "source": [
    "# Exercise\n",
    "\n",
    "Let's use `DENSE_RANK()` to show the latest games from our studio. For each game, show its name, genre, date of release and DENSE_RANK() in the descending order."
   ]
  },
  {
   "cell_type": "markdown",
   "metadata": {
    "jupyter": {
     "source_hidden": true
    }
   },
   "source": [
    "```\n",
    "SELECT\n",
    "  name,\n",
    "  genre,\n",
    "  released,\n",
    "  DENSE_RANK() OVER(ORDER BY released DESC)\n",
    "FROM game;\n",
    "```"
   ]
  },
  {
   "cell_type": "markdown",
   "metadata": {},
   "source": [
    "# RANK() with ORDER BY many columns\n",
    "\n",
    "Yet another thing you can do is rank by multiple columns, each of them in the ascending or descending order of your choice. Let's pretend that a player named John has limited space on his phone, but he wants to install a relatively recent game. Take a look:\n",
    "\n",
    "```\n",
    "SELECT\n",
    "  name,\n",
    "  genre,\n",
    "  editor_rating,\n",
    "  RANK() OVER(ORDER BY released DESC, size ASC)\n",
    "FROM game;\n",
    "```\n",
    "\n",
    "We first sort the rows by the release date, with the latest games coming first, and then by size, with the smallest games appearing before bigger games."
   ]
  },
  {
   "cell_type": "markdown",
   "metadata": {},
   "source": [
    "# Exercise\n",
    "\n",
    "We want to find games which were both recently released and recently updated. For each game, show name, date of release and last update date, as well as their rank: use ROW_NUMBER(), sort by release date and then by update date, both in the descending order.\n",
    "\n",
    "\n"
   ]
  },
  {
   "cell_type": "markdown",
   "metadata": {},
   "source": [
    "```\n",
    "SELECT\n",
    "  name,\n",
    "  released,\n",
    "  updated,\n",
    "  ROW_NUMBER() OVER(ORDER BY released DESC, updated DESC)\n",
    "FROM game;\n",
    "```"
   ]
  },
  {
   "cell_type": "markdown",
   "metadata": {},
   "source": [
    "# Ranking and ORDER BY\n",
    "\n",
    "Very good! You may wonder if you can use regular ORDER BY with the ranking functions. Of course, you can. The ranking function and the external ORDER BY are independent. The ranking function returns the rank with the respect to the order provided within OVER. Let's look at the example:\n",
    "\n",
    "````\n",
    "SELECT\n",
    "  name,\n",
    "  RANK() OVER (ORDER BY editor_rating)\n",
    "FROM game\n",
    "ORDER BY size DESC;\n",
    "````\n",
    "\n",
    "The query returns the name of the game and the rank of the game with respect to editor ranking. The returned rows are ordered by size of the game in descending way.\n",
    "\n"
   ]
  },
  {
   "cell_type": "markdown",
   "metadata": {},
   "source": [
    "# Exercise\n",
    "\n",
    "For each game find its name, genre, its rank by size. Order the games by date of release with newest games coming first."
   ]
  },
  {
   "cell_type": "markdown",
   "metadata": {
    "jupyter": {
     "source_hidden": true
    }
   },
   "source": [
    "```\n",
    "SELECT\n",
    "  name,\n",
    "  genre,\n",
    "  RANK() OVER(ORDER BY size)\n",
    "FROM game\n",
    "ORDER BY released DESC;\n",
    "```"
   ]
  },
  {
   "cell_type": "markdown",
   "metadata": {},
   "source": [
    "# Exercise\n",
    "\n",
    "For each purchase, find the name of the game, the price, and the date of the purchase. Give purchases consecutive numbers by date when the purchase happened, so that the latest purchase gets number 1. Order the result by editor's rating of the game."
   ]
  },
  {
   "cell_type": "markdown",
   "metadata": {
    "jupyter": {
     "source_hidden": true
    }
   },
   "source": [
    "\n",
    "```\n",
    "SELECT\n",
    "  name,\n",
    "  price,\n",
    "  date,\n",
    "  ROW_NUMBER() OVER(ORDER BY date DESC)\n",
    "FROM purchase, game\n",
    "WHERE game.id = game_id\n",
    "ORDER BY editor_rating;\n",
    "```"
   ]
  },
  {
   "cell_type": "markdown",
   "metadata": {},
   "source": [
    "# NTILE(X)\n",
    "\n",
    "The last function we'll introduce in this section is NTILE(X). It distributes the rows into a specific number of groups, provided as X. For instance:\n",
    "\n",
    "```\n",
    "SELECT\n",
    "  name,\n",
    "  genre,\n",
    "  editor_rating,\n",
    "  NTILE(3) OVER (ORDER BY editor_rating DESC)\n",
    "FROM game;\n",
    "```\n",
    "\n",
    "In the above example, we create three groups with NTILE(3) that are divided based on the values in the column editor_rating. The \"best\" games will be put in group 1, \"average\" games in group 2, \"worst\" games in group 3. See the picture below:\n",
    "\n",
    "\n",
    "\n",
    "\n",
    "<img src = 'https://learnsql.com/static/postgresql-window-functions-window-functions-part4-ex15.png'>"
   ]
  },
  {
   "cell_type": "markdown",
   "metadata": {},
   "source": [
    "Note that if the number of rows is not divisible by the number of groups, some groups will have one more element than other groups, with larger groups coming first.\n",
    "\n",
    "# Exercise\n",
    "\n",
    "We want to divide games into 4 groups with regard to their size, with biggest games coming first. For each game, show its name, genre, size and the group it belongs to."
   ]
  },
  {
   "cell_type": "markdown",
   "metadata": {
    "jupyter": {
     "source_hidden": true
    }
   },
   "source": [
    "```\n",
    "SELECT\n",
    "  name,\n",
    "  genre,\n",
    "  size,\n",
    "  NTILE(4) OVER (ORDER BY size DESC)\n",
    "FROM game;\n",
    "```"
   ]
  },
  {
   "cell_type": "markdown",
   "metadata": {},
   "source": [
    "# Exercise\n",
    "\n",
    "Split the games into 5 groups based on their date of last update. The most recently updated games should come first. For each of them, show the name, genre, date of update and the group they were assigned to. In the result, notice how many items the groups have (varying value)."
   ]
  },
  {
   "cell_type": "markdown",
   "metadata": {
    "jupyter": {
     "source_hidden": true
    }
   },
   "source": [
    "```\n",
    "SELECT\n",
    "  name,\n",
    "  genre,\n",
    "  updated,\n",
    "  NTILE(5) OVER(ORDER BY updated DESC)\n",
    "FROM game;\n",
    "```"
   ]
  },
  {
   "cell_type": "markdown",
   "metadata": {},
   "source": [
    "In the previous section, we've introduced ranking functions whose result was shown as an additional column in our query results. \n",
    "\n",
    "Our game table is pretty small, so it's easy to identify the first, second, or third place manually. In real life, however, we deal with huge tables and looking for one particular rank can be troublesome.\n",
    "\n",
    "In this section, we will learn how to create queries that, for instance, return only the row with rank 1, 5, 10, etc. \n",
    "\n",
    "This cannot be accomplished with a simple query – we will need to create a complex one. \n",
    "\n",
    "For this purpose, we'll use Common Table Expressions. \n",
    "\n",
    "An example may look like this:\n",
    "\n",
    "```\n",
    "WITH ranking AS (\n",
    "  SELECT\n",
    "    name,\n",
    "    RANK() OVER(ORDER BY editor_rating DESC) AS rank\n",
    "  FROM game\n",
    ")\n",
    "\n",
    "SELECT name\n",
    "FROM ranking\n",
    "WHERE rank = 2;\n",
    "```\n",
    "\n",
    "\n",
    "The query returns the name of the game which gets rank number 2 with respect to editor rating. Don't worry if the query looks complicated. We'll explain it in a second.\n"
   ]
  },
  {
   "cell_type": "markdown",
   "metadata": {},
   "source": [
    "# Create the ranking\n",
    "\n",
    "Ok, we want to answer the following question: what is the name of the game with rank 2 in terms of best editor_rating? \n",
    "\n",
    "We create the SQL query to answer this problem in two steps.\n",
    "\n",
    "In step 1, we create a ranking, just as we did in the previous section:\n",
    "\n",
    "```\n",
    "SELECT name,\n",
    "  RANK() OVER(ORDER BY editor_rating DESC) AS rank\n",
    "FROM game;\n",
    "```\n",
    "\n",
    "This step should be quite obvious now. Let's run it to confirm that it works.\n",
    "\n",
    "## The full query\n",
    "\n",
    "Alright, the query worked the way we wanted.\n",
    "\n",
    "Now, the second step is to treat our previous example as a subquery and put it in the FROM clause. As you can remember, we previously wrote:\n",
    "\n",
    "```\n",
    "SELECT\n",
    "  name,\n",
    "  RANK() OVER(ORDER BY editor_rating DESC) AS rank\n",
    "FROM game;\n",
    "and now we'll write this:\n",
    "\n",
    "WITH ranking AS (\n",
    "  SELECT\n",
    "    name,\n",
    "    RANK() OVER(ORDER BY editor_rating DESC) AS rank\n",
    "  FROM game\n",
    ")\n",
    "\n",
    "SELECT name\n",
    "FROM ranking\n",
    "WHERE rank = 2;\n",
    "```\n",
    "\n",
    "The first line (WITH ranking AS) tells that what follows is called ranking. \n",
    "\n",
    "Inside the parentheses, we provide the query which we created in the previous step. In the end, all we do is select the row(s) with rank = 2 from the query we named ranking.\n",
    "\n",
    "It's time for some practice, let's give it a try.\n",
    "\n",
    "# Exercise\n",
    "\n",
    "Find the name, genre and size of the smallest game in our studio.\n",
    "\n",
    "Remember the steps:\n",
    "\n",
    "1. Create the ranking query so that the smallest game gets rank 1.\n",
    "\n",
    "2. Use WITH to select rows with rank 1.\n"
   ]
  },
  {
   "cell_type": "markdown",
   "metadata": {
    "jupyter": {
     "source_hidden": true
    }
   },
   "source": [
    "```\n",
    "\n",
    "WITH ranking AS (\n",
    "  SELECT\n",
    "    name,\n",
    "    genre,\n",
    "    size,\n",
    "    RANK() OVER(ORDER BY size) AS rank\n",
    "  FROM game\n",
    ")\n",
    "\n",
    "SELECT\n",
    "  name,\n",
    "  genre,\n",
    "  size\n",
    "FROM ranking\n",
    "WHERE rank = 1;\n",
    "```\n"
   ]
  },
  {
   "cell_type": "markdown",
   "metadata": {},
   "source": [
    "# Exercise\n",
    "\n",
    "Show the name, platform and update date of the second most recently updated game.\n",
    "\n"
   ]
  },
  {
   "cell_type": "markdown",
   "metadata": {
    "jupyter": {
     "source_hidden": true
    }
   },
   "source": [
    "```\n",
    "WITH ranking AS (\n",
    "  SELECT\n",
    "    name,\n",
    "    platform,\n",
    "    updated,\n",
    "    RANK() OVER(ORDER BY updated DESC) AS rank\n",
    "  FROM game\n",
    ")\n",
    "\n",
    "SELECT\n",
    "  name,\n",
    "  platform,\n",
    "  updated\n",
    "FROM ranking\n",
    "WHERE rank = 2;\n",
    "```"
   ]
  },
  {
   "cell_type": "markdown",
   "metadata": {},
   "source": [
    "# Summary\n",
    "\n",
    "Okay, let's review what we've learned in this part:\n",
    "\n",
    "- The most basic usage of ranking functions is: RANK() OVER(ORDER BY column1, column2...).\n",
    "\n",
    "- The ranking functions we have learned:\n",
    "\n",
    "- RANK() – returns the rank (a number) of each row with respect to the sorting specified within parentheses.\n",
    "\n",
    "- DENSE_RANK() – returns a 'dense' rank, i.e. there are no gaps in numbering.\n",
    "\n",
    "- ROW_NUMBER() – returns a unique rank number, so even rows with the same value get consecutive numbers.\n",
    "\n",
    "- NTILE(x) – distributes the rows into a specific number of groups, provided as x.\n",
    "\n",
    "To get col1 of the row with rank place1 in a ranking sorted by col2, write:\n",
    "\n",
    "```\n",
    "WITH ranking AS\n",
    "  (SELECT\n",
    "    RANK() OVER (ORDER BY col2) AS RANK,\n",
    "    col1\n",
    "  FROM table_name)\n",
    "\n",
    "SELECT col1\n",
    "FROM ranking\n",
    "WHERE RANK = place1;\n",
    "```\n",
    "\n"
   ]
  },
  {
   "cell_type": "markdown",
   "metadata": {},
   "source": [
    "# Window Frames\n",
    "\n",
    "Now, we're finally going to define the windows of window functions in detail.\n",
    "\n",
    "Let's start by introducing today's tables. We're going to work for a company called ColdLikeHell which deals with... well, everything that is somehow connected to ice. \n",
    "\n",
    "Let's check the products.\n",
    "\n",
    "Here's the fiddle link for the schema: https://www.db-fiddle.com/f/83ivTQum95t768HCkdRLAU/2\n",
    "\n",
    "\n",
    "# Exercise\n",
    "\n",
    "Select all the information from the product table.\n",
    "\n",
    "Just take a look at all those wonderful products! Each of them has an id, a name, and a third column which informs when it was introduced to the market.\n",
    "\n",
    "# Exercise\n",
    "\n",
    "Select all the information from stock_change table.\n",
    "\n",
    "A single row in stock_change means that either a given number of products left the warehouse, or were delivered to the warehouse.\n",
    "\n",
    "You can find:\n",
    "\n",
    "the id of the change.\n",
    "the product_id.\n",
    "the quantity (positive values mean delivery, negative values mean the products left the warehouse).\n",
    "the changed when it happened.\n",
    "\n",
    "# Exercise\n",
    "\n",
    "Select all the information from the single_order table.\n",
    "\n",
    "A pretty simple table, each order has an id, was placed on a specific day and has a given total_price.\n",
    "\n",
    "# Exercise\n",
    "\n",
    "Select all the information from the order_position table.\n",
    "\n",
    "Each order_position is a single position in an order (you may think of it as a position in an invoice). It has its own id, the id of the product, id of the order, and the quantity of the product.\n"
   ]
  },
  {
   "cell_type": "markdown",
   "metadata": {},
   "source": [
    "# General syntax\n",
    "\n",
    "In this part, we're finally going to learn about window frames.\n",
    "\n",
    "Window frames define precisely which rows should be taken into account when computing the results and are always relative to the current row. \n",
    "\n",
    "In this way, we can create new kinds of queries.\n",
    "\n",
    "For instance, you may say that for each row, 3 rows before and 3 rows after it are taken into account; or rows from the beginning of the partition until the current row. \n",
    "\n",
    "In a moment, you'll discover how such queries can come in handy. \n",
    "\n",
    "Take a look at the example window frame, where two rows before and two rows after the current row are selected:\n",
    "\n",
    "<img src= 'https://learnsql.com/static/postgresql-window-functions-window-functions-part5-ex5.png'>\n",
    "\n",
    "The are two kinds of window frames: those with the keyword ROWS and those with RANGE instead. The general syntax is as follows:\n",
    "\n",
    "```\n",
    "<window function> OVER (...\n",
    "  ORDER BY <order_column>\n",
    "  [ROWS|RANGE] <window frame extent>\n",
    "  )\n",
    "```\n",
    "Of course, other elements might be added above (for instance, a PARTITION BY clause), which is why we put dots (...) in the brackets. \n",
    "\n",
    "For now, we'll focus on the meaning of ROWS and RANGE. \n",
    "\n",
    "We'll talk about PARTITION BY later in the course.\n",
    "\n",
    "Let's take a look at the example:\n",
    "\n",
    "```\n",
    "SELECT\n",
    "  id,\n",
    "  total_price,\n",
    "  SUM(total_price) OVER(\n",
    "    ORDER BY placed\n",
    "    ROWS UNBOUNDED PRECEDING)\n",
    "FROM single_order;\n",
    "```\n",
    "\n",
    "In the above query, we sum the column total_price. \n",
    "\n",
    "For each row, we add the current row AND all the previously introduced rows (UNBOUNDED PRECEDING) to the sum. \n",
    "\n",
    "As a result, the sum will increase with each new order.\n",
    "\n",
    "\n",
    "# Window frame definition\n",
    "\n",
    "Let's jump into the brackets of OVER(...) and discuss the details. \n",
    "\n",
    "We'll start with ROWS, because they are a bit easier to explain than RANGE. The general syntax is as follows:\n",
    "\n",
    "```\n",
    "ROWS BETWEEN lower_bound AND upper_bound\n",
    "```\n",
    "\n",
    "You know BETWEEN already – it's used to define a range. \n",
    "\n",
    "So far, you've used it to define a range of values – this time, we're going to use it to define a range of rows instead. \n",
    "\n",
    "What are the two bounds? \n",
    "\n",
    "The bounds can be any of the five options:\n",
    "\n",
    "- `UNBOUNDED PRECEDING` – the first possible row.\n",
    "\n",
    "- `PRECEDING` – the n-th row before the current row (instead of n, write the number of your choice).\n",
    "\n",
    "- `CURRENT ROW` – simply current row.\n",
    "\n",
    "- `FOLLOWING` – the n-th row after the current row.\n",
    "\n",
    "- `UNBOUNDED FOLLOWING` – the last possible row.\n",
    "\n",
    "The lower bound must come BEFORE the upper bound. \n",
    "\n",
    "In other words, a construction like: `...ROWS BETWEEN CURRENT ROW AND UNBOUNDED PRECEDING` doesn't make sense and you'll get an error if you run it.\n",
    "\n",
    "\n",
    "Exercise\n",
    "Take a look at the example:\n",
    "\n",
    "```\n",
    "SELECT\n",
    "  id,\n",
    "  total_price,\n",
    "  SUM(total_price) OVER(ORDER BY placed ROWS UNBOUNDED PRECEDING) AS running_total,\n",
    "  SUM(total_price) OVER(ORDER BY placed ROWS between 3 PRECEDING and 3 FOLLOWING) AS sum_3_before_after\n",
    "FROM single_order\n",
    "ORDER BY placed;\n",
    "```\n",
    "\n",
    "The query computes:\n",
    "\n",
    "- the total price of all orders placed so far (this kind of sum is called a running total).\n",
    "- the total price of the current order, 3 preceding orders and 3 following orders.\n",
    "\n"
   ]
  },
  {
   "cell_type": "markdown",
   "metadata": {},
   "source": [
    "First exercise\n",
    "\n",
    "It's your turn to write a query!\n",
    "\n",
    "Here is a syntax reminder:\n",
    "\n",
    "```\n",
    "SELECT\n",
    "  id,\n",
    "  quantity,\n",
    "  changed,\n",
    "  SUM(quantity) OVER(\n",
    "    ORDER BY changed\n",
    "    ROWS BETWEEN UNBOUNDED PRECEDING AND CURRENT ROW)\n",
    "FROM stock_change\n",
    "```\n",
    "\n",
    "# Exercise\n",
    "\n",
    "For each order, show its id, the placed date, and the third column which will count the number of orders up to the current order when sorted by the placed date.\n",
    "\n"
   ]
  },
  {
   "cell_type": "markdown",
   "metadata": {
    "jupyter": {
     "source_hidden": true
    }
   },
   "source": [
    "```\n",
    "SELECT\n",
    "  id,\n",
    "  placed,\n",
    "  COUNT(id) OVER(\n",
    "    ORDER BY placed\n",
    "    ROWS BETWEEN UNBOUNDED PRECEDING AND CURRENT ROW)\n",
    "FROM single_order;\n",
    "```"
   ]
  },
  {
   "cell_type": "markdown",
   "metadata": {},
   "source": [
    "# Exercise\n",
    "\n",
    "Warehouse workers always need to pick the products for orders by hand and one by one. \n",
    "\n",
    "For positions with order_id = 5, calculate the remaining sum of all the products to pick. \n",
    "\n",
    "For each position from that order, show its id, the id of the product, the quantity and the quantity of the remaining items (including the current row) when sorted by the id in the ascending order.\n",
    "\n"
   ]
  },
  {
   "cell_type": "markdown",
   "metadata": {
    "jupyter": {
     "source_hidden": true
    }
   },
   "source": [
    "```\n",
    "SELECT\n",
    "  id,\n",
    "  product_id,\n",
    "  quantity,\n",
    "  SUM(quantity) OVER(\n",
    "    ORDER BY id\n",
    "    ROWS BETWEEN CURRENT ROW AND UNBOUNDED FOLLOWING)\n",
    "FROM order_position\n",
    "WHERE order_id = 5;\n",
    "```"
   ]
  },
  {
   "cell_type": "markdown",
   "metadata": {},
   "source": [
    "# Abbreviations\n",
    "\n",
    "If our window frame has CURRENT ROW as one of the boundaries, we can also use some abbreviated syntax to make things easier:\n",
    "\n",
    "- `ROWS UNBOUNDED PRECEDING` means `BETWEEN UNBOUNDED PRECEDING AND CURRENT ROW`\n",
    "- `ROWS n PRECEDING` means `BETWEEN n PRECEDING AND CURRENT ROW`\n",
    "- `ROWS CURRENT ROW` means `BETWEEN CURRENT ROW AND CURRENT ROW`\n",
    "\n",
    "The same rules applies for FOLLOWING. As a way of example, the following query:\n",
    "\n",
    "```\n",
    "SELECT\n",
    "  id,\n",
    "  name,\n",
    "  introduced,\n",
    "  COUNT(id) OVER(ORDER BY introduced ROWS BETWEEN UNBOUNDED PRECEDING AND CURRENT ROW)\n",
    "FROM product;\n",
    "```\n",
    "\n",
    "Can be rewritten to:\n",
    "\n",
    "```\n",
    "SELECT\n",
    "  id,\n",
    "  name,\n",
    "  introduced,\n",
    "  COUNT(id) OVER(ORDER BY introduced ROWS UNBOUNDED PRECEDING)\n",
    "FROM product;\n",
    "```\n",
    "\n",
    "# Exercise\n",
    "You will now have a chance to practice abbreviations. Pick those stock changes which refer to product_id = 3. For each of them, show the id, changed date, quantity, and the running total, indicating the current stock status. Sort the rows by the changed date in the ascending order."
   ]
  },
  {
   "cell_type": "markdown",
   "metadata": {
    "jupyter": {
     "source_hidden": true
    }
   },
   "source": [
    "```\n",
    "SELECT\n",
    "  id,\n",
    "  changed,\n",
    "  quantity,\n",
    "  SUM(quantity) OVER(\n",
    "    ORDER BY changed\n",
    "    ROWS UNBOUNDED PRECEDING)\n",
    "FROM stock_change\n",
    "WHERE product_id = 3;\n",
    "```"
   ]
  },
  {
   "cell_type": "markdown",
   "metadata": {},
   "source": [
    "# RANGE explained\n",
    "\n",
    "It's time to look at another type of window frame: RANGE.\n",
    "\n",
    "The difference between ROWS and RANGE is that RANGE will take into account all rows that have the same value in the column which we order by. \n",
    "\n",
    "This might be helpful with dates. Consider the following problem: we want to calculate the running sum from all orders sorted by date. \n",
    "\n",
    "We could write something like this:\n",
    "\n",
    "```\n",
    "SELECT\n",
    "  id,\n",
    "  placed,\n",
    "  total_price,\n",
    "  SUM(total_price) OVER (ORDER BY placed ROWS UNBOUNDED PRECEDING)\n",
    "FROM single_order;\n",
    "```\n",
    "\n",
    "<img src='https://learnsql.com/static/postgresql-window-functions-window-functions-part5-ex13-graphic1.png'>\n",
    "\n",
    "\n",
    "And it works fine. \n",
    "\n",
    "But our boss could say: hey, I don't really need to see how the running sum changed during single days. \n",
    "\n",
    "Just show the values at the end of the day; if there are multiple orders on a single day, add them together.\n",
    "\n",
    "The above may be implemented by changing ROWS to RANGE. \n",
    "\n",
    "Look how we highlighted the rows which now share the same running sum because they come from the same date.\n",
    "\n",
    "```\n",
    "SELECT\n",
    "  id,\n",
    "  placed,\n",
    "  total_price,\n",
    "  SUM(total_price) OVER(ORDER BY placed RANGE UNBOUNDED PRECEDING)\n",
    "FROM single_order;\n",
    "```\n",
    "\n",
    "<img src='https://learnsql.com/static/postgresql-window-functions-window-functions-part5-ex13-graphic2.png'>\n",
    "\n",
    "# Exercise\n",
    "\n",
    "Modify the example so that it shows the average total_price for single days for each row.\n",
    "\n",
    "\n"
   ]
  },
  {
   "cell_type": "markdown",
   "metadata": {
    "jupyter": {
     "source_hidden": true
    }
   },
   "source": [
    "```\n",
    "SELECT\n",
    "  id,\n",
    "  placed,\n",
    "  total_price,\n",
    "  AVG(total_price) OVER(ORDER BY placed RANGE CURRENT ROW)\n",
    "FROM single_order;\n",
    "```"
   ]
  },
  {
   "cell_type": "markdown",
   "metadata": {},
   "source": [
    "# ROWS and RANGE – explanation\n",
    "\n",
    "The difference between ROWS and RANGE is similar to the difference between the ranking functions ROW_NUMBER and RANK()\n",
    "\n",
    "The query with ROWS sums the total_price for all rows which have their ROW_NUMBER less than or equal to the row number of the current row.\n",
    "\n",
    "```\n",
    "SELECT\n",
    "  id,\n",
    "  placed,\n",
    "  total_price,\n",
    "  ROW_NUMBER() OVER(ORDER BY placed),\n",
    "  SUM(total_price) OVER(\n",
    "    ORDER BY placed\n",
    "    ROWS UNBOUNDED PRECEDING)\n",
    "FROM single_order\n",
    "```\n",
    "\n",
    "<img src='https://learnsql.com/static/postgresql-window-functions-window-functions-part5-ex14-graphic1.png'>\n",
    "\n",
    "The query with RANGE sums the total_price for all rows which have their RANK() less than or equal to the rank of the current row.\n",
    "\n",
    "```\n",
    "SELECT\n",
    "  id,\n",
    "  placed,\n",
    "  total_price,\n",
    "  RANK() OVER(ORDER BY placed),\n",
    "  SUM(total_price) OVER(\n",
    "    ORDER BY placed\n",
    "    RANGE UNBOUNDED PRECEDING)\n",
    "FROM single_order\n",
    "```\n",
    "\n",
    "<img src='https://learnsql.com/static/postgresql-window-functions-window-functions-part5-ex14-graphic2.png'>"
   ]
  },
  {
   "cell_type": "markdown",
   "metadata": {},
   "source": [
    "# Boundaries with RANGE\n",
    "\n",
    "The window frame of RANGE is defined just like the window frame of ROWS: with BETWEEN ... AND ... or the abbreviated version.\n",
    "\n",
    "You can use RANGE UNBOUNDED PRECEDING and RANGE BETWEEN CURRENT ROW AND UNBOUNDED FOLLOWING, as well as RANGE CURRENT ROW. \n",
    "\n",
    "\n",
    "# Exercise\n",
    "\n",
    "For each stock_change with product_id = 7, show its id, quantity, changed date and another column to count the number of stock changes with product_id = 7 on that particular date."
   ]
  },
  {
   "cell_type": "markdown",
   "metadata": {
    "jupyter": {
     "source_hidden": true
    }
   },
   "source": [
    "```\n",
    "SELECT\n",
    "  id,\n",
    "  quantity,\n",
    "  changed,\n",
    "  COUNT(id) OVER(ORDER BY changed RANGE CURRENT ROW)\n",
    "FROM stock_change\n",
    "WHERE product_id = 7;\n",
    "```"
   ]
  },
  {
   "cell_type": "markdown",
   "metadata": {},
   "source": [
    "# Exercise\n",
    "\n",
    "Our finance department needs to calculate future cashflows for each date. \n",
    "\n",
    "Let's help them. \n",
    "\n",
    "In order to do that, we need to show each order: its id, placed date, total_price and the total sum of all prices of orders from the very same day or any later date."
   ]
  },
  {
   "cell_type": "markdown",
   "metadata": {
    "jupyter": {
     "source_hidden": true
    }
   },
   "source": [
    "```\n",
    "SELECT\n",
    "  id,\n",
    "  placed,\n",
    "  total_price,\n",
    "  SUM(total_price) OVER(\n",
    "    ORDER BY placed\n",
    "    RANGE BETWEEN CURRENT ROW\n",
    "      AND UNBOUNDED FOLLOWING)\n",
    "FROM single_order;\n",
    "```\n"
   ]
  },
  {
   "cell_type": "markdown",
   "metadata": {},
   "source": [
    "# Default window frame – without ORDER BY\n",
    "\n",
    "You may wonder what the default window frame is when it's not explicitly specified. This may differ between databases, but the most typical rule is as follows:\n",
    "\n",
    "If you don't specify an ORDER BY clause within OVER(...), the whole partition of rows will be used as the window frame.\n",
    "\n",
    "If you do specify an ORDER BY clause within OVER(...), the database will assume RANGE UNBOUNDED PRECEDING as the window frame. Let's check both of these cases in exercises.\n",
    "\n",
    "# Exercise\n",
    "\n",
    "We'll start with not specifying an ORDER BY clause within OVER(...).\n",
    "\n",
    "For each single order, show its id, date when it was placed, the total price and the sum of all total prices.\n",
    "\n",
    "Note that the SUM computes the sum of all prices in the table, even though you did not specify the window frame."
   ]
  },
  {
   "cell_type": "markdown",
   "metadata": {
    "jupyter": {
     "source_hidden": true
    }
   },
   "source": [
    "```\n",
    "SELECT\n",
    "  id,\n",
    "  placed,\n",
    "  total_price,\n",
    "  SUM(total_price) OVER()\n",
    "FROM single_order;\n",
    "```"
   ]
  },
  {
   "cell_type": "markdown",
   "metadata": {},
   "source": [
    "# Default window frame – with ORDER BY\n",
    "\n",
    "When there is no ORDER BY clause in OVER(...), the query simply treats all rows as the window frame for each row. \n",
    "\n",
    "Nothing shocking, really – that's the kind of queries we wrote in previous parts.\n",
    "\n",
    "Now, we said the following: if there is an ORDER BY clause, RANGE UNBOUNDED PRECEDING will be used as the default window frame. \n",
    "\n",
    "Let's find out if it's true."
   ]
  },
  {
   "cell_type": "markdown",
   "metadata": {},
   "source": [
    "# Exercise\n",
    "\n",
    "Just as in one of the previous exercises, we'll be looking for the running sum of single orders. \n",
    "\n",
    "For each order, show its id, placed date, total_price and the sum of all total prices. \n",
    "\n",
    "Sort the orders by the placed date, but do not specify any window frame.\n",
    "\n",
    "The sum of total_prices should be calculated as if you wrote RANGE UNBOUNDED PRECEDING."
   ]
  },
  {
   "cell_type": "markdown",
   "metadata": {
    "jupyter": {
     "source_hidden": true
    }
   },
   "source": [
    "```\n",
    "SELECT\n",
    "  id,\n",
    "  placed,\n",
    "  total_price,\n",
    "  SUM(total_price) OVER(ORDER BY placed)\n",
    "FROM single_order;\n",
    "```"
   ]
  },
  {
   "cell_type": "markdown",
   "metadata": {},
   "source": [
    "# Summary\n",
    "\n",
    "Alright! It's time to review what we've learned in this part:\n",
    "\n",
    "- You can define a window frame within OVER(...). The syntax is: `[ROWS|RANGE] <window frame definition>.`\n",
    "\n",
    "- `ROWS` always treats rows individually (like the ROW_NUMBER() function), RANGE also adds rows which share the same value in the column we order by (like the RANK() function).\n",
    "\n",
    "- `<window frame definition>` is defined with BETWEEN <lower bound> AND <upper bound>, where the bounds may be defined with:\n",
    "    - UNBOUNDED PRECEDING,\n",
    "    - n PRECEDING (ROWS only),\n",
    "    - CURRENT ROW,\n",
    "    - n FOLLOWING (ROWS only),\n",
    "    - UNBOUNDED FOLLOWING"
   ]
  },
  {
   "cell_type": "markdown",
   "metadata": {},
   "source": []
  },
  {
   "cell_type": "markdown",
   "metadata": {},
   "source": []
  },
  {
   "cell_type": "markdown",
   "metadata": {},
   "source": []
  },
  {
   "cell_type": "markdown",
   "metadata": {},
   "source": [
    "# HOMEWORK\n",
    "\n",
    "The fiddle link for the homework is: https://www.db-fiddle.com/f/3t1nZ8AQBJdVpApcJqJLGn/0\n",
    "\n",
    "Use the application table for the next two exercises.\n",
    "\n",
    "\n",
    "# Exercise\n",
    "\n",
    "For each application, show its name, average_rating and its rank, with best rated apps coming first."
   ]
  },
  {
   "cell_type": "markdown",
   "metadata": {
    "jupyter": {
     "source_hidden": true
    }
   },
   "source": [
    "```\n",
    "SELECT\n",
    "  name,\n",
    "  average_rating,\n",
    "  RANK() OVER (ORDER BY average_rating DESC)\n",
    "FROM application;\n",
    "```"
   ]
  },
  {
   "cell_type": "markdown",
   "metadata": {},
   "source": [
    "# Exercise\n",
    "\n",
    "Find the application that ranked 3rd in terms of the greatest number of downloads. Show its name and the number of downloads."
   ]
  },
  {
   "cell_type": "markdown",
   "metadata": {
    "jupyter": {
     "source_hidden": true
    }
   },
   "source": [
    "```\n",
    "WITH ranking AS (\n",
    "  SELECT\n",
    "    name,\n",
    "    downloads,\n",
    "    RANK() OVER(ORDER BY downloads DESC) AS rank\n",
    "  FROM application\n",
    ")\n",
    "\n",
    "SELECT\n",
    "  name,\n",
    "  downloads\n",
    "FROM ranking\n",
    "WHERE rank = 3;\n",
    "```"
   ]
  },
  {
   "cell_type": "markdown",
   "metadata": {},
   "source": [
    "# For the next set of questions, use the schema from the Window Frame section of the class: https://www.db-fiddle.com/f/83ivTQum95t768HCkdRLAU/2"
   ]
  },
  {
   "cell_type": "markdown",
   "metadata": {},
   "source": [
    "# Exercise\n",
    "\n",
    "For each product, show its id, name, introduced date and the count of products introduced up to that point."
   ]
  },
  {
   "cell_type": "markdown",
   "metadata": {
    "jupyter": {
     "source_hidden": true
    }
   },
   "source": [
    "```\n",
    "SELECT\n",
    "  id,\n",
    "  name,\n",
    "  introduced,\n",
    "  COUNT(id) OVER(\n",
    "    ORDER BY introduced\n",
    "    ROWS BETWEEN UNBOUNDED PRECEDING AND CURRENT ROW)\n",
    "FROM product;\n",
    "```"
   ]
  },
  {
   "cell_type": "markdown",
   "metadata": {},
   "source": [
    "# Exercise\n",
    "\n",
    "Now, for each single_order, show its placed date, total_price, the average price calculated by taking 2 previous orders, the current order and 2 following orders (in terms of the placed date) and the ratio of the total_price to the average price calculated as before."
   ]
  },
  {
   "cell_type": "markdown",
   "metadata": {
    "jupyter": {
     "source_hidden": true
    }
   },
   "source": [
    "```\n",
    "SELECT\n",
    "  placed,\n",
    "  total_price,\n",
    "  AVG(total_price) OVER(ORDER BY placed ROWS BETWEEN 2 PRECEDING AND 2 FOLLOWING),\n",
    "  total_price / AVG(total_price) OVER(ORDER BY placed ROWS BETWEEN 2 PRECEDING AND 2 FOLLOWING)\n",
    "FROM single_order;\n",
    "```"
   ]
  },
  {
   "cell_type": "markdown",
   "metadata": {},
   "source": [
    "# Exercise\n",
    "\n",
    "For each single_order, show its placed date, total_price and the average price from the current single_order and three previous orders (in terms of the placed date)."
   ]
  },
  {
   "cell_type": "markdown",
   "metadata": {
    "jupyter": {
     "source_hidden": true
    }
   },
   "source": [
    "```\n",
    "SELECT\n",
    "  placed,\n",
    "  total_price,\n",
    "  AVG(total_price) OVER(ORDER BY placed ROWS BETWEEN 3 PRECEDING AND CURRENT ROW)\n",
    "FROM single_order;\n",
    "```"
   ]
  },
  {
   "cell_type": "markdown",
   "metadata": {},
   "source": [
    "# Exercise\n",
    "\n",
    "For each stock_change, show id, product_id, quantity, changed date, and the total quantity change from all stock_change for that product."
   ]
  },
  {
   "cell_type": "markdown",
   "metadata": {
    "jupyter": {
     "source_hidden": true
    }
   },
   "source": [
    "```\n",
    "SELECT\n",
    "  id,\n",
    "  product_id,\n",
    "  quantity,\n",
    "  changed,\n",
    "  SUM(quantity) OVER(ORDER BY product_id RANGE CURRENT ROW)\n",
    "FROM stock_change;\n",
    "```"
   ]
  },
  {
   "cell_type": "markdown",
   "metadata": {},
   "source": [
    "# Exercise\n",
    "\n",
    "For each stock_change, show its id, changed date, and the number of any stock changes that took place on the same day or any time earlier."
   ]
  },
  {
   "cell_type": "markdown",
   "metadata": {},
   "source": [
    "```\n",
    "SELECT\n",
    "  id,\n",
    "  changed,\n",
    "  COUNT(id) OVER(ORDER BY changed RANGE UNBOUNDED PRECEDING)\n",
    "FROM stock_change;\n",
    "```"
   ]
  },
  {
   "cell_type": "markdown",
   "metadata": {},
   "source": []
  },
  {
   "cell_type": "markdown",
   "metadata": {},
   "source": []
  },
  {
   "cell_type": "markdown",
   "metadata": {},
   "source": []
  },
  {
   "cell_type": "markdown",
   "metadata": {},
   "source": []
  },
  {
   "cell_type": "markdown",
   "metadata": {},
   "source": []
  },
  {
   "cell_type": "markdown",
   "metadata": {},
   "source": []
  },
  {
   "cell_type": "markdown",
   "metadata": {},
   "source": []
  },
  {
   "cell_type": "markdown",
   "metadata": {},
   "source": []
  },
  {
   "cell_type": "markdown",
   "metadata": {},
   "source": []
  },
  {
   "cell_type": "markdown",
   "metadata": {},
   "source": []
  },
  {
   "cell_type": "markdown",
   "metadata": {},
   "source": []
  },
  {
   "cell_type": "markdown",
   "metadata": {},
   "source": []
  }
 ],
 "metadata": {
  "kernelspec": {
   "display_name": "Python 3",
   "language": "python",
   "name": "python3"
  },
  "language_info": {
   "codemirror_mode": {
    "name": "ipython",
    "version": 3
   },
   "file_extension": ".py",
   "mimetype": "text/x-python",
   "name": "python",
   "nbconvert_exporter": "python",
   "pygments_lexer": "ipython3",
   "version": "3.7.3"
  }
 },
 "nbformat": 4,
 "nbformat_minor": 4
}
