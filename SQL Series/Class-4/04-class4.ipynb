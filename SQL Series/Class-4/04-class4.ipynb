{
 "cells": [
  {
   "cell_type": "markdown",
   "metadata": {},
   "source": [
    "In this part, we'll focus on joining tables with themselves aka Self Joins!\n",
    "\n",
    "We'll also learn how to do subqueries and correlated subqueries!\n",
    "\n",
    "\n",
    "\n",
    "We're going to be using `DB Fiddle` for this course. \n",
    "\n",
    "Navigate to: https://www.db-fiddle.com/\n",
    "\n",
    "In the top right corner of the webpage, be sure to select `Database: PostgreSQL 13`\n",
    "\n",
    "Now, in the `Schema SQL` pane on the left copy and paste the following, or just click this link here: https://www.db-fiddle.com/f/xfR3hUvokfSSiQHshPbNGL/2\n",
    "\n",
    "```\n",
    "\n",
    "CREATE TABLE IF NOT EXISTS \"workshop_workers\" (\n",
    "    \"id\" INT,\n",
    "    \"name\" TEXT,\n",
    "    \"specialization\" TEXT,\n",
    "    \"master_id\" INT,\n",
    "    \"experience\" INT,\n",
    "    \"project_id\" INT\n",
    ");\n",
    "INSERT INTO \"workshop_workers\" VALUES\n",
    "    (1,'Mathew Conn','woodworking',null,20,1),\n",
    "    (2,'Kate Brown','woodworking',1,4,1),\n",
    "    (3,'John Doe','incrusting',5,3,1),\n",
    "    (4,'John Kowalsky','watchmaking',7,2,3),\n",
    "    (5,'Suzan Gregowitch','incrusting',null,15,4),\n",
    "    (6,'Peter Parker','watchmaking',7,3,2),\n",
    "    (7,'Joe Darrington','watchmaking',null,13,2),\n",
    "    (8,'Mary Smith','woodworking',1,4,4),\n",
    "    (9,'Carlos Bell','incrusting',5,1,4),\n",
    "    (10,'Dennis Wright','watchmaking',7,3,3);\n",
    "\n",
    "```\n",
    "\n",
    "Let's consider the following situation: we have information about employees and their supervisors in a single table.\n",
    "\n",
    "As you can see, there are four people. John is a supervisor to both Casper and Kate, and Casper is Peter's supervisor.\n",
    "\n",
    "The employee table stores data in a hierarchical structure: employees and their supervisors. Storing a structure like this in a table is quite common. Imagine you want to list each employee's name along with the name of their supervisor. That's where JOINing a table with itself comes in handy:\n",
    "\n",
    "```\n",
    "SELECT\n",
    "  emp.name as employee_name,\n",
    "  supervisor.name as supervisor_name\n",
    "FROM employee as emp\n",
    "JOIN employee as supervisor\n",
    "  ON emp.supervisor_id = supervisor.id\n",
    "\n",
    "```\n",
    "\n",
    "When you join a table with itself, you must alias both occurrences of the table name. Moreover, the column names you refer to must be preceded by the alias of the table you want. \n",
    "\n",
    "This way, the database can distinguish which copy of the table you want to select a particular column from.\n",
    "\n"
   ]
  },
  {
   "cell_type": "markdown",
   "metadata": {},
   "source": [
    "## Exercise\n",
    "The workshop_workers table consists of a few columns:\n",
    "\n",
    "- `id` – the ID of a given worker,\n",
    "- `name` – the first and last name of a given worker,\n",
    "- `specialization` – a given worker's specialization,\n",
    "- `master_id` – the ID of a given worker's supervisor,\n",
    "- `experience` – number indicating a given worker's years of experience, and\n",
    "- `project_id` – the ID of the project a given worker is currently assigned.\n",
    "\n",
    "Show all workers' names together with the names of their direct supervisors.\n",
    "\n",
    "Rename columns to apprentice_name and master_name, respectively.\n",
    "\n",
    "\n",
    "### Show me the answer \n",
    "Click the three dots below"
   ]
  },
  {
   "cell_type": "markdown",
   "metadata": {},
   "source": [
    "```\n",
    "SELECT\n",
    "  apprentice.name as apprentice_name,\n",
    "  master.name as master_name\n",
    "FROM workshop_workers as apprentice\n",
    "JOIN workshop_workers as master\n",
    "  ON master.id = apprentice.master_id\n",
    "```"
   ]
  },
  {
   "cell_type": "markdown",
   "metadata": {},
   "source": [
    "# Filtering self-joined tables\n",
    "\n",
    "When self-joining tables, we can still filter the results with the `WHERE` clause, just as we can when JOINing two different tables.\n",
    "\n",
    "Suppose that we want to show each employee's name along with the name of their supervisor for only those employees who have less than five years of experience:\n",
    "\n",
    "```\n",
    "SELECT\n",
    "  e.name AS employee_name,\n",
    "  s.name AS supervisor_name\n",
    "FROM employee AS e\n",
    "JOIN employee AS s\n",
    "  ON e.supervisor_id = s.id\n",
    "WHERE e.experience < 5\n",
    "```\n",
    "\n",
    "Note that we always have to specify the table name (an alias) before a given column when self-joining. \n",
    "\n",
    "Otherwise, the column name would be ambiguous, as there would be two columns with the same name: one from the employee table, and one from the supervisor table.\n",
    "\n",
    "## Exercise\n",
    "\n",
    "Show only worker's `name`, and `specialization`. Alias column with the name as `apprentice`. Consider only those workers whose supervisors have more than 14 years of experience."
   ]
  },
  {
   "cell_type": "markdown",
   "metadata": {},
   "source": [
    "```\n",
    "SELECT\n",
    "  apprentice.name apprentice,\n",
    "  apprentice.specialization\n",
    "FROM workshop_workers apprentice\n",
    "JOIN workshop_workers master\n",
    "  ON apprentice.master_id = master.id\n",
    "WHERE master.experience > 14\n",
    "```"
   ]
  },
  {
   "cell_type": "markdown",
   "metadata": {},
   "source": [
    "### Exercise with Filtering\n",
    "\n",
    "\n",
    "Show the `name` of the apprentice, their `specialization` and the `project_id` if the project they are working on is not directly supervised by their master, i.e. the master currently works on another project.\n",
    "\n"
   ]
  },
  {
   "cell_type": "markdown",
   "metadata": {
    "jupyter": {
     "source_hidden": true
    }
   },
   "source": [
    "```\n",
    "SELECT\n",
    "  apprentice.name,\n",
    "  apprentice.specialization,\n",
    "  apprentice.project_id\n",
    "FROM workshop_workers apprentice\n",
    "JOIN workshop_workers master\n",
    "  ON apprentice.master_id = master.id\n",
    "WHERE apprentice.project_id != master.project_id\n",
    "```"
   ]
  },
  {
   "cell_type": "markdown",
   "metadata": {},
   "source": [
    "### The Dictionary Table\n",
    "\n",
    "Let's try another table, shall we?\n",
    "\n",
    "In the next couple of exercises, we'll work with words in a dictionary. Do you know that linguists classify words?\n",
    "\n",
    "Our table contains some English words and their hypernyms.\n",
    "\n",
    "A hypernym is a term with a broad meaning, that \"contains\" other terms. For example, the hypernym of \"sparrow\" is \"bird\".\n",
    "\n",
    "\n",
    "`entry_id` - the ID of an entry in the dictionary,\n",
    "`word` - the word associated with a particular entry,\n",
    "`hypernym_id` - the ID of an entry that is a hypernym for a particular word.\n",
    "\n",
    "Checkout the fiddle here: https://www.db-fiddle.com/f/cBTrWusP7nkM4nF8Ja4snB/3\n",
    "\n",
    "Or you can copy and paste the schema into the fiddle:\n",
    "\n",
    "```\n",
    "CREATE TABLE IF NOT EXISTS \"dictionary\" (\n",
    "    \"entry_id\" INT,\n",
    "    \"word\" TEXT,\n",
    "    \"hypernym_id\" INT\n",
    ");\n",
    "INSERT INTO \"dictionary\" VALUES\n",
    "    (1,'bear',2),\n",
    "    (2,'carnivore',16),\n",
    "    (3,'color',null),\n",
    "    (4,'red',3),\n",
    "    (5,'blue',3),\n",
    "    (6,'yellow',3),\n",
    "    (7,'gemstone',null),\n",
    "    (8,'diamond',7),\n",
    "    (9,'ruby',7),\n",
    "    (10,'emerald',7),\n",
    "    (11,'bird',6),\n",
    "    (12,'pelican',11),\n",
    "    (13,'sparrow',11),\n",
    "    (14,'cyan',5),\n",
    "    (15,'marine',5),\n",
    "    (16,'animal',null),\n",
    "    (17,'fish',16),\n",
    "    (18,'salmon',17),\n",
    "    (19,'trout',18);\n",
    "\n",
    "```"
   ]
  },
  {
   "cell_type": "markdown",
   "metadata": {},
   "source": [
    "### Exercises\n",
    "\n",
    "Show each dictionary `word` (name the column `entry`) together with the name of its direct hypernym (name the column hypernym). Don't show the entires with no hypernym."
   ]
  },
  {
   "cell_type": "markdown",
   "metadata": {},
   "source": [
    "```\n",
    "SELECT\n",
    "  entries.word AS entry,\n",
    "  hypernym.word AS hypernym\n",
    "FROM dictionary AS entries\n",
    "JOIN dictionary AS hypernym\n",
    "  ON entries.hypernym_id = hypernym.entry_id\n",
    "```"
   ]
  },
  {
   "cell_type": "markdown",
   "metadata": {},
   "source": [
    "## Exercise\n",
    "\n",
    "Show each dictionary entry (name the column entry) together with the name of its direct hypernym (name the column hypernym) and the name of that hypernym's hypernym (name the column grandhypernym).\n",
    "\n",
    "Only include words that have both a direct hypernym and a \"grandhypernym\"."
   ]
  },
  {
   "cell_type": "markdown",
   "metadata": {
    "jupyter": {
     "source_hidden": true
    }
   },
   "source": [
    "```\n",
    "SELECT\n",
    "  entry.word AS entry,\n",
    "  hypernym.word AS hypernym,\n",
    "  super_hypernym.word AS grandhypernym\n",
    "FROM dictionary AS entry\n",
    "JOIN dictionary AS hypernym\n",
    "  ON entry.hypernym_id = hypernym.entry_id\n",
    "JOIN dictionary AS super_hypernym\n",
    "  ON hypernym.hypernym_id = super_hypernym.entry_id\n",
    "```"
   ]
  },
  {
   "cell_type": "markdown",
   "metadata": {},
   "source": [
    "## Exercise\n",
    "\n",
    "For each entry in the dictionary show the word, its direct hypernym and its hypernym's hypernym. Name the columns entry, hypernym and grandhypernym, respectively. Show all such entries, even those that don't have direct hypernyms or grandhypernyms."
   ]
  },
  {
   "cell_type": "markdown",
   "metadata": {
    "jupyter": {
     "source_hidden": true
    }
   },
   "source": [
    "```\n",
    "SELECT\n",
    "  entry.word AS entry,\n",
    "  hypernym.word AS hypernym,\n",
    "  super_hypernym.word AS grandhypernym\n",
    "FROM dictionary AS entry\n",
    "LEFT JOIN dictionary AS hypernym\n",
    "  ON entry.hypernym_id = hypernym.entry_id\n",
    "LEFT JOIN dictionary AS super_hypernym\n",
    "  ON hypernym.hypernym_id = super_hypernym.entry_id\n",
    "```"
   ]
  },
  {
   "cell_type": "markdown",
   "metadata": {},
   "source": [
    "# Subqueries\n",
    "\n",
    "Today we'll work with subqueries! We'll start with simple, uncorrelated subqueries. (We'll revisit correlated subqueries later in this part.) Here's a brief reminder:\n",
    "\n",
    "A subquery is a query within another query.\n",
    "\n",
    "We can use subqueries in the WHERE clause to compare a given column with the result of a whole query. \n",
    "\n",
    "When comparing with the result of the subquery, you can use comparison operators by themselves:\n",
    "\n",
    "```\n",
    "SELECT cat_id\n",
    "FROM cats\n",
    "WHERE age > (SELECT age FROM cats WHERE cat_name = 'Kitty')\n",
    "```\n",
    "\n",
    "or comparison operators with the `ANY` or `ALL` keywords, if your subquery can return multiple rows:\n",
    "\n",
    "```\n",
    "SELECT cat_id\n",
    "FROM cats\n",
    "WHERE age > ANY (SELECT age FROM cats WHERE cat_name = 'Kitty')\n",
    "```\n",
    "\n",
    "or the operator `IN`, if the value of the column compared with the subquery has to be in the result of particular subquery, e.g.\n",
    "\n",
    "```\n",
    "SELECT cat_id\n",
    "FROM cats\n",
    "WHERE age IN (SELECT age FROM cats WHERE cat_name LIKE 'K%')\n",
    "```\n",
    "\n",
    "We can also use the subqueries in the FROM clause, and filter our rows in this way. The subquery in the FROM clause has to have an alias.\n",
    "\n",
    "```\n",
    "SELECT MAX(number_of_cats)\n",
    "FROM \n",
    "  (SELECT breed, COUNT(*) AS number_of_cats\n",
    "  FROM cat\n",
    "  GROUP BY breed) breed_count\n",
    "```\n"
   ]
  },
  {
   "cell_type": "markdown",
   "metadata": {},
   "source": [
    "## Tables\n",
    "\n",
    "Check out the tables here: https://www.db-fiddle.com/f/dBL61FGbW6Qt2UKFBoyefy/0\n",
    "\n"
   ]
  },
  {
   "cell_type": "markdown",
   "metadata": {},
   "source": [
    "### Exercises\n",
    "\n",
    "Show the names of orchestras that were created after the 'Chamber Orchestra' and have a rating greater than 7.5."
   ]
  },
  {
   "cell_type": "markdown",
   "metadata": {},
   "source": [
    "```\n",
    "SELECT name\n",
    "FROM orchestras \n",
    "WHERE year > (SELECT year FROM orchestras WHERE name = 'Chamber Orchestra') \n",
    "  AND rating > 7.5\n",
    "```\n"
   ]
  },
  {
   "cell_type": "markdown",
   "metadata": {},
   "source": [
    "# Exercise\n",
    "\n",
    "Select the names of all orchestras that have the same city of origin as any city in which any orchestra performed in 2013."
   ]
  },
  {
   "cell_type": "markdown",
   "metadata": {
    "jupyter": {
     "source_hidden": true
    }
   },
   "source": [
    "```\n",
    "SELECT name\n",
    "FROM orchestras\n",
    "WHERE city_origin IN (SELECT city FROM concerts WHERE year = 2013)\n",
    "```"
   ]
  },
  {
   "cell_type": "markdown",
   "metadata": {},
   "source": [
    "# Exercise\n",
    "\n",
    "Show the name of the orchestras that have the same number of members as the 'Musical Orchestra'. Show the number of members in the second column. Name the second column members_count.\n",
    "\n"
   ]
  },
  {
   "cell_type": "markdown",
   "metadata": {},
   "source": [
    "```\n",
    "SELECT\n",
    "  o.name,\n",
    "  COUNT(m.id) AS members_count\n",
    "FROM orchestras o\n",
    "JOIN member m\n",
    "  ON o.id = m.orchestra_id\n",
    "GROUP BY 1\n",
    "HAVING COUNT(m.id) = (SELECT COUNT(m.id)\n",
    "FROM orchestras o\n",
    "JOIN member m\n",
    "  ON o.id = m.orchestra_id\n",
    "WHERE o.name = 'Musical Orchestra')\n",
    "```"
   ]
  },
  {
   "cell_type": "markdown",
   "metadata": {},
   "source": [
    "## Exercise\n",
    "Find the average number of members of all orchestras in the table.\n",
    "\n",
    "Remember this query. You'll need it in the next exercise!\n",
    "\n"
   ]
  },
  {
   "cell_type": "markdown",
   "metadata": {},
   "source": [
    "```\n",
    "SELECT \n",
    "  AVG(d.count) \n",
    "FROM \n",
    "  (SELECT orchestra_id, COUNT(id) FROM member GROUP BY 1) d;\n",
    "```"
   ]
  },
  {
   "cell_type": "markdown",
   "metadata": {},
   "source": [
    "## Exercise\n",
    "\n",
    "Show the name and number of members for each orchestra that has more members than the average membership of all orchestras in the table."
   ]
  },
  {
   "cell_type": "markdown",
   "metadata": {
    "jupyter": {
     "source_hidden": true
    }
   },
   "source": [
    "```\n",
    "SELECT o.name,\n",
    "  COUNT(m.id)\n",
    "FROM orchestras o\n",
    "JOIN member m\n",
    "  ON o.id = m.orchestra_id\n",
    "GROUP BY 1\n",
    "HAVING COUNT(m.id) > (SELECT AVG(d.count) FROM (SELECT orchestra_id, COUNT(id) FROM members GROUP BY 1) AS d)\n",
    "```"
   ]
  },
  {
   "cell_type": "markdown",
   "metadata": {},
   "source": [
    "## Correlated subqueries\n",
    "\n",
    "Correlated subqueries refer to the outer query. Take a look:\n",
    "```\n",
    "SELECT cat_id\n",
    "FROM cats c\n",
    "WHERE cat_id IN \n",
    "  (SELECT owned_cat_id \n",
    "   FROM owner \n",
    "   WHERE wage > 5000 AND owned_cat_id = c.cat_id)\n",
    "```\n",
    "\n",
    "In the above query we selected the IDs of cats that belong to owners who earn more than 5,000. \n",
    "\n",
    "Note that the subquery refers to the table cats in the outer query: for each cat in the cats table the subquery is processed separately. The subquery can refer to tables in the outer query, but the outer query cannot refer to tables in the subquery. It's often helpful to give aliases to tables in both queries.\n",
    "\n",
    "Just like uncorrelated subqueries, the correlated subqueries can be used in the WHERE, HAVING, or FROM clause of the query.\n",
    "\n",
    "It is also possible to have a subquery in the SELECT clause. Such a subquery has to return exactly one row and column. Here's an example:\n",
    "\n",
    "```\n",
    "SELECT \n",
    "   name, \n",
    "   (SELECT AVG(age) FROM cats c2 WHERE c2.name = c1.name)\n",
    "FROM cats c1\n",
    "```"
   ]
  },
  {
   "cell_type": "markdown",
   "metadata": {},
   "source": [
    "# Exercise\n",
    "\n",
    "Select the name of each orchestra that held a concert in its country of origin in 2003."
   ]
  },
  {
   "cell_type": "markdown",
   "metadata": {},
   "source": [
    "```\n",
    "SELECT \n",
    "  name\n",
    "FROM orchestras\n",
    "WHERE country_origin IN (\n",
    "  SELECT country\n",
    "  FROM concerts\n",
    "  WHERE orchestras.id = concerts.orchestra_id\n",
    "    AND concerts.year = 2003\n",
    "  )\n",
    "``` "
   ]
  },
  {
   "cell_type": "markdown",
   "metadata": {},
   "source": [
    "Correlated subqueries can be used to find the best object in a certain category. Here we select orchestras which have the best rating among orchestras coming from the same city:\n",
    "\n",
    "```\n",
    "SELECT\n",
    "  name,\n",
    "  city_origin,\n",
    "  rating\n",
    "FROM orchestras o1\n",
    "WHERE rating = (SELECT MAX(rating) FROM orchestras o2 WHERE o1.city_origin = o2.city_origin)\n",
    "```\n",
    "\n",
    "In the subquery, we select the maximal rating for all orchestras which come from the same city as the orchestra in the outer query. \n",
    "\n",
    "Note that we use aliases o1, o2 to distinguish between subquery orchestra and outer query orchestra. \n",
    "\n",
    "In the outer query we select orchestras which have rating equal to the rating found in the subquery.\n",
    "\n",
    "## Exercise\n",
    "\n",
    "Select the name, wage, and experience of all members who earned the most within each orchestra.\n",
    "\n"
   ]
  },
  {
   "cell_type": "markdown",
   "metadata": {},
   "source": [
    "```\n",
    "SELECT\n",
    "  name,\n",
    "  wage,\n",
    "  experience\n",
    "FROM member m1\n",
    "WHERE wage = (SELECT MAX(wage) FROM member m2 WHERE m1.orchestra_id = m2.orchestra_id)\n",
    "```"
   ]
  },
  {
   "cell_type": "markdown",
   "metadata": {},
   "source": [
    "## Exercise\n",
    "\n",
    "Show the names of the most experienced members of each orchestra and the name of that orchestra. Rename the columns to member and orchestra, respectively."
   ]
  },
  {
   "cell_type": "markdown",
   "metadata": {},
   "source": [
    "```\n",
    "SELECT m1.name AS member,\n",
    "  o.name AS orchestra\n",
    "FROM members m1 \n",
    "JOIN orchestras o\n",
    "  ON m1.orchestra_id = o.id\n",
    "WHERE experience = (SELECT MAX(experience) FROM member m2 WHERE m1.orchestra_id = m2.orchestra_id)\n",
    "```"
   ]
  },
  {
   "cell_type": "markdown",
   "metadata": {},
   "source": [
    "## Exercise\n",
    "\n",
    "Show name of orchestra members who earn more than the average wage of the violinists from their orchestra.\n",
    "\n"
   ]
  },
  {
   "cell_type": "markdown",
   "metadata": {},
   "source": [
    "```\n",
    "SELECT\n",
    "  m1.name\n",
    "FROM member m1\n",
    "WHERE wage > (\n",
    "  SELECT\n",
    "    AVG(m2.wage)\n",
    "  FROM member m2\n",
    "  WHERE m2.position = 'violin'\n",
    "    AND m2.orchestra_id = m1.orchestra_id\n",
    ");\n",
    "```"
   ]
  },
  {
   "cell_type": "markdown",
   "metadata": {},
   "source": [
    "## Exercise\n",
    "\n",
    "Select the name, rating, city of origin, and the total number of concerts it held in Ukraine for each orchestra that originated in Germany. Name the last column count.\n",
    "\n"
   ]
  },
  {
   "cell_type": "markdown",
   "metadata": {},
   "source": [
    "```\n",
    "SELECT \n",
    "  name,\n",
    "  rating,\n",
    "  city_origin,\n",
    "  (SELECT COUNT(*)  FROM concerts WHERE orchestras.id = concerts.orchestra_id AND country = 'Ukraine') AS count\n",
    "FROM orchestras\n",
    "WHERE country_origin = 'Germany'\n",
    "```"
   ]
  },
  {
   "cell_type": "code",
   "execution_count": null,
   "metadata": {},
   "outputs": [],
   "source": []
  },
  {
   "cell_type": "code",
   "execution_count": null,
   "metadata": {},
   "outputs": [],
   "source": []
  },
  {
   "cell_type": "code",
   "execution_count": null,
   "metadata": {},
   "outputs": [],
   "source": []
  }
 ],
 "metadata": {
  "kernelspec": {
   "display_name": "Python 3",
   "language": "python",
   "name": "python3"
  },
  "language_info": {
   "codemirror_mode": {
    "name": "ipython",
    "version": 3
   },
   "file_extension": ".py",
   "mimetype": "text/x-python",
   "name": "python",
   "nbconvert_exporter": "python",
   "pygments_lexer": "ipython3",
   "version": "3.7.3"
  }
 },
 "nbformat": 4,
 "nbformat_minor": 4
}
